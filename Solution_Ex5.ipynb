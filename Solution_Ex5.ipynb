{
 "cells": [
  {
   "cell_type": "markdown",
   "id": "d08cc569",
   "metadata": {},
   "source": [
    "## Solution"
   ]
  },
  {
   "cell_type": "code",
   "execution_count": 1,
   "id": "5fd63755",
   "metadata": {},
   "outputs": [
    {
     "name": "stdout",
     "output_type": "stream",
     "text": [
      "{'people': 'https://swapi.dev/api/people/', 'planets': 'https://swapi.dev/api/planets/', 'films': 'https://swapi.dev/api/films/', 'species': 'https://swapi.dev/api/species/', 'vehicles': 'https://swapi.dev/api/vehicles/', 'starships': 'https://swapi.dev/api/starships/'}\n"
     ]
    }
   ],
   "source": [
    "import requests\n",
    "\n",
    "# Realizamos la llamada con get y, transformamos en json la salida\n",
    "req_js = requests.get(\"https://swapi.dev/api/\").json()\n",
    "\n",
    "# La mostramos por pantalla\n",
    "print(req_js)"
   ]
  },
  {
   "cell_type": "code",
   "execution_count": 2,
   "id": "2c5da352",
   "metadata": {},
   "outputs": [
    {
     "name": "stdout",
     "output_type": "stream",
     "text": [
      "82\n"
     ]
    }
   ],
   "source": [
    "# # Hacemos una llamada a la API en el servicio web de People para obtener el conteo de personajes de Star Wars\n",
    "req_people = requests.get(\"https://swapi.dev/api/people/\").json()\n",
    "req_people\n",
    "\n",
    "# Observamos que \"count\" existe como campo clave\n",
    "req_people.keys()\n",
    "\n",
    "# Mostramos el número de personajes\n",
    "print(req_people[\"count\"])\n",
    "\n",
    "# Nos lo guardamos en una nueva variable\n",
    "n_people = req_people[\"count\"]\n",
    "\n",
    "# # Ya tenemos los 82 personajes, ahora, simplemente vamos iterando a través de un bucle\n",
    "# #  sobre el nº de personajes\n",
    "# for personaje in range(n_people+1): # +1 Para que no vaya hasta n-1\n",
    "#     print(\"\\tLlamando a la URL: \",\"https://swapi.dev/api/people/\"+str(personaje))\n",
    "#     print(requests.get(\"https://swapi.dev/api/people/\"+str(personaje)).json())"
   ]
  },
  {
   "cell_type": "code",
   "execution_count": 3,
   "id": "9ba71747",
   "metadata": {},
   "outputs": [],
   "source": [
    "import requests\n",
    "\n",
    "# Resulta que si el personaje no existe, nos devolverá el campo clave \"detail\"\n",
    "#  Asi que, si se encuentra dicho campo clave, no hacemos nada y pasamos al siguiente\n",
    "#  Para guardarlo en una lista\n",
    "\n",
    "# Todos los personajes\n",
    "all_people = []\n",
    "\n",
    "for personaje in range(n_people+1): # +1 Para que no vaya hasta n-1\n",
    "    \n",
    "    # Guardamos cada personaje como diccionario\n",
    "    results = requests.get(\"https://swapi.dev/api/people/\"+str(personaje)).json()\n",
    "    \n",
    "    if \"detail\" in results.keys():\n",
    "        pass # No hacemos nada, no tiene resultados\n",
    "    else:\n",
    "        # Guardamos solo los campos clave solicitados de cada personaje\n",
    "        current_people = [\n",
    "            results[\"name\"],\n",
    "            results[\"height\"],\n",
    "            results[\"mass\"],\n",
    "            results[\"hair_color\"],\n",
    "            results[\"skin_color\"],\n",
    "            results[\"eye_color\"],\n",
    "            results[\"birth_year\"],\n",
    "            results[\"gender\"]\n",
    "        ]\n",
    "        \n",
    "        # Cuando terminemos de guardar resultados, lo pasamos a una lista\n",
    "        #  con la información de todos los personajes\n",
    "        all_people.append(current_people)"
   ]
  },
  {
   "cell_type": "code",
   "execution_count": 4,
   "id": "8f0688c1",
   "metadata": {},
   "outputs": [
    {
     "name": "stdout",
     "output_type": "stream",
     "text": [
      "Primeros 3 personajes\n",
      " [['Luke Skywalker', '172', '77', 'blond', 'fair', 'blue', '19BBY', 'male'], ['C-3PO', '167', '75', 'n/a', 'gold', 'yellow', '112BBY', 'n/a'], ['R2-D2', '96', '32', 'n/a', 'white, blue', 'red', '33BBY', 'n/a']]\n",
      "Número total de personajes ingestados:  81\n"
     ]
    }
   ],
   "source": [
    "print(\"Primeros 3 personajes\\n\", all_people[:3])\n",
    "print(\"Número total de personajes ingestados: \", len(all_people))"
   ]
  },
  {
   "cell_type": "code",
   "execution_count": 5,
   "id": "ca8e902d",
   "metadata": {},
   "outputs": [
    {
     "data": {
      "text/html": [
       "<div>\n",
       "<style scoped>\n",
       "    .dataframe tbody tr th:only-of-type {\n",
       "        vertical-align: middle;\n",
       "    }\n",
       "\n",
       "    .dataframe tbody tr th {\n",
       "        vertical-align: top;\n",
       "    }\n",
       "\n",
       "    .dataframe thead th {\n",
       "        text-align: right;\n",
       "    }\n",
       "</style>\n",
       "<table border=\"1\" class=\"dataframe\">\n",
       "  <thead>\n",
       "    <tr style=\"text-align: right;\">\n",
       "      <th></th>\n",
       "      <th>name</th>\n",
       "      <th>height</th>\n",
       "      <th>mass</th>\n",
       "      <th>hair_color</th>\n",
       "      <th>skin_color</th>\n",
       "      <th>eye_color</th>\n",
       "      <th>birth_year</th>\n",
       "      <th>gender</th>\n",
       "    </tr>\n",
       "  </thead>\n",
       "  <tbody>\n",
       "    <tr>\n",
       "      <th>0</th>\n",
       "      <td>Luke Skywalker</td>\n",
       "      <td>172</td>\n",
       "      <td>77</td>\n",
       "      <td>blond</td>\n",
       "      <td>fair</td>\n",
       "      <td>blue</td>\n",
       "      <td>19BBY</td>\n",
       "      <td>male</td>\n",
       "    </tr>\n",
       "    <tr>\n",
       "      <th>1</th>\n",
       "      <td>C-3PO</td>\n",
       "      <td>167</td>\n",
       "      <td>75</td>\n",
       "      <td>n/a</td>\n",
       "      <td>gold</td>\n",
       "      <td>yellow</td>\n",
       "      <td>112BBY</td>\n",
       "      <td>n/a</td>\n",
       "    </tr>\n",
       "    <tr>\n",
       "      <th>2</th>\n",
       "      <td>R2-D2</td>\n",
       "      <td>96</td>\n",
       "      <td>32</td>\n",
       "      <td>n/a</td>\n",
       "      <td>white, blue</td>\n",
       "      <td>red</td>\n",
       "      <td>33BBY</td>\n",
       "      <td>n/a</td>\n",
       "    </tr>\n",
       "    <tr>\n",
       "      <th>3</th>\n",
       "      <td>Darth Vader</td>\n",
       "      <td>202</td>\n",
       "      <td>136</td>\n",
       "      <td>none</td>\n",
       "      <td>white</td>\n",
       "      <td>yellow</td>\n",
       "      <td>41.9BBY</td>\n",
       "      <td>male</td>\n",
       "    </tr>\n",
       "    <tr>\n",
       "      <th>4</th>\n",
       "      <td>Leia Organa</td>\n",
       "      <td>150</td>\n",
       "      <td>49</td>\n",
       "      <td>brown</td>\n",
       "      <td>light</td>\n",
       "      <td>brown</td>\n",
       "      <td>19BBY</td>\n",
       "      <td>female</td>\n",
       "    </tr>\n",
       "    <tr>\n",
       "      <th>...</th>\n",
       "      <td>...</td>\n",
       "      <td>...</td>\n",
       "      <td>...</td>\n",
       "      <td>...</td>\n",
       "      <td>...</td>\n",
       "      <td>...</td>\n",
       "      <td>...</td>\n",
       "      <td>...</td>\n",
       "    </tr>\n",
       "    <tr>\n",
       "      <th>76</th>\n",
       "      <td>Shaak Ti</td>\n",
       "      <td>178</td>\n",
       "      <td>57</td>\n",
       "      <td>none</td>\n",
       "      <td>red, blue, white</td>\n",
       "      <td>black</td>\n",
       "      <td>unknown</td>\n",
       "      <td>female</td>\n",
       "    </tr>\n",
       "    <tr>\n",
       "      <th>77</th>\n",
       "      <td>Grievous</td>\n",
       "      <td>216</td>\n",
       "      <td>159</td>\n",
       "      <td>none</td>\n",
       "      <td>brown, white</td>\n",
       "      <td>green, yellow</td>\n",
       "      <td>unknown</td>\n",
       "      <td>male</td>\n",
       "    </tr>\n",
       "    <tr>\n",
       "      <th>78</th>\n",
       "      <td>Tarfful</td>\n",
       "      <td>234</td>\n",
       "      <td>136</td>\n",
       "      <td>brown</td>\n",
       "      <td>brown</td>\n",
       "      <td>blue</td>\n",
       "      <td>unknown</td>\n",
       "      <td>male</td>\n",
       "    </tr>\n",
       "    <tr>\n",
       "      <th>79</th>\n",
       "      <td>Raymus Antilles</td>\n",
       "      <td>188</td>\n",
       "      <td>79</td>\n",
       "      <td>brown</td>\n",
       "      <td>light</td>\n",
       "      <td>brown</td>\n",
       "      <td>unknown</td>\n",
       "      <td>male</td>\n",
       "    </tr>\n",
       "    <tr>\n",
       "      <th>80</th>\n",
       "      <td>Sly Moore</td>\n",
       "      <td>178</td>\n",
       "      <td>48</td>\n",
       "      <td>none</td>\n",
       "      <td>pale</td>\n",
       "      <td>white</td>\n",
       "      <td>unknown</td>\n",
       "      <td>female</td>\n",
       "    </tr>\n",
       "  </tbody>\n",
       "</table>\n",
       "<p>81 rows × 8 columns</p>\n",
       "</div>"
      ],
      "text/plain": [
       "               name height mass hair_color        skin_color      eye_color  \\\n",
       "0    Luke Skywalker    172   77      blond              fair           blue   \n",
       "1             C-3PO    167   75        n/a              gold         yellow   \n",
       "2             R2-D2     96   32        n/a       white, blue            red   \n",
       "3       Darth Vader    202  136       none             white         yellow   \n",
       "4       Leia Organa    150   49      brown             light          brown   \n",
       "..              ...    ...  ...        ...               ...            ...   \n",
       "76         Shaak Ti    178   57       none  red, blue, white          black   \n",
       "77         Grievous    216  159       none      brown, white  green, yellow   \n",
       "78          Tarfful    234  136      brown             brown           blue   \n",
       "79  Raymus Antilles    188   79      brown             light          brown   \n",
       "80        Sly Moore    178   48       none              pale          white   \n",
       "\n",
       "   birth_year  gender  \n",
       "0       19BBY    male  \n",
       "1      112BBY     n/a  \n",
       "2       33BBY     n/a  \n",
       "3     41.9BBY    male  \n",
       "4       19BBY  female  \n",
       "..        ...     ...  \n",
       "76    unknown  female  \n",
       "77    unknown    male  \n",
       "78    unknown    male  \n",
       "79    unknown    male  \n",
       "80    unknown  female  \n",
       "\n",
       "[81 rows x 8 columns]"
      ]
     },
     "execution_count": 5,
     "metadata": {},
     "output_type": "execute_result"
    }
   ],
   "source": [
    "# Lo guardamos como Pandas Dataframe\n",
    "import pandas as pd\n",
    "\n",
    "columnas = [\"name\", \"height\", \"mass\", \"hair_color\", \n",
    "            \"skin_color\", \"eye_color\", \"birth_year\", \"gender\"]\n",
    "\n",
    "df_stw = pd.DataFrame(all_people, \n",
    "                      columns=columnas)\n",
    "\n",
    "df_stw # Habría que revisar posteriormente los valores nulos."
   ]
  },
  {
   "cell_type": "code",
   "execution_count": 6,
   "id": "c8ad5064",
   "metadata": {},
   "outputs": [
    {
     "name": "stderr",
     "output_type": "stream",
     "text": [
      "C:\\Users\\jmmor\\AppData\\Local\\Temp\\ipykernel_16168\\2983376456.py:4: SettingWithCopyWarning: \n",
      "A value is trying to be set on a copy of a slice from a DataFrame.\n",
      "Try using .loc[row_indexer,col_indexer] = value instead\n",
      "\n",
      "See the caveats in the documentation: https://pandas.pydata.org/pandas-docs/stable/user_guide/indexing.html#returning-a-view-versus-a-copy\n",
      "  df_stw.loc[:,\"mass\"] = pd.to_numeric(df_stw.mass.apply(lambda x: x.replace(\",\", \"\")))\n",
      "C:\\Users\\jmmor\\AppData\\Local\\Temp\\ipykernel_16168\\2983376456.py:4: DeprecationWarning: In a future version, `df.iloc[:, i] = newvals` will attempt to set the values inplace instead of always setting a new array. To retain the old behavior, use either `df[df.columns[i]] = newvals` or, if columns are non-unique, `df.isetitem(i, newvals)`\n",
      "  df_stw.loc[:,\"mass\"] = pd.to_numeric(df_stw.mass.apply(lambda x: x.replace(\",\", \"\")))\n",
      "C:\\Users\\jmmor\\AppData\\Local\\Temp\\ipykernel_16168\\2983376456.py:6: SettingWithCopyWarning: \n",
      "A value is trying to be set on a copy of a slice from a DataFrame.\n",
      "Try using .loc[row_indexer,col_indexer] = value instead\n",
      "\n",
      "See the caveats in the documentation: https://pandas.pydata.org/pandas-docs/stable/user_guide/indexing.html#returning-a-view-versus-a-copy\n",
      "  df_stw.loc[:,\"height\"] = pd.to_numeric(df_stw[\"height\"])\n",
      "C:\\Users\\jmmor\\AppData\\Local\\Temp\\ipykernel_16168\\2983376456.py:6: DeprecationWarning: In a future version, `df.iloc[:, i] = newvals` will attempt to set the values inplace instead of always setting a new array. To retain the old behavior, use either `df[df.columns[i]] = newvals` or, if columns are non-unique, `df.isetitem(i, newvals)`\n",
      "  df_stw.loc[:,\"height\"] = pd.to_numeric(df_stw[\"height\"])\n"
     ]
    }
   ],
   "source": [
    "# Filtramos nulos\n",
    "df_stw = df_stw[df_stw.mass != \"unknown\"]\n",
    "# Eliminamos la , que indica separador de miles\n",
    "df_stw.loc[:,\"mass\"] = pd.to_numeric(df_stw.mass.apply(lambda x: x.replace(\",\", \"\")))\n",
    "\n",
    "df_stw.loc[:,\"height\"] = pd.to_numeric(df_stw[\"height\"])"
   ]
  },
  {
   "cell_type": "code",
   "execution_count": 7,
   "id": "f238849a",
   "metadata": {},
   "outputs": [
    {
     "name": "stdout",
     "output_type": "stream",
     "text": [
      "<class 'pandas.core.frame.DataFrame'>\n",
      "Int64Index: 58 entries, 0 to 80\n",
      "Data columns (total 8 columns):\n",
      " #   Column      Non-Null Count  Dtype  \n",
      "---  ------      --------------  -----  \n",
      " 0   name        58 non-null     object \n",
      " 1   height      58 non-null     int64  \n",
      " 2   mass        58 non-null     float64\n",
      " 3   hair_color  58 non-null     object \n",
      " 4   skin_color  58 non-null     object \n",
      " 5   eye_color   58 non-null     object \n",
      " 6   birth_year  58 non-null     object \n",
      " 7   gender      58 non-null     object \n",
      "dtypes: float64(1), int64(1), object(6)\n",
      "memory usage: 4.1+ KB\n"
     ]
    }
   ],
   "source": [
    "df_stw.info()"
   ]
  },
  {
   "cell_type": "code",
   "execution_count": 8,
   "id": "53266057",
   "metadata": {},
   "outputs": [
    {
     "data": {
      "text/plain": [
       "gender\n",
       "female             54.020000\n",
       "hermaphrodite    1358.000000\n",
       "male               81.027907\n",
       "n/a                46.333333\n",
       "none              140.000000\n",
       "Name: mass, dtype: float64"
      ]
     },
     "execution_count": 8,
     "metadata": {},
     "output_type": "execute_result"
    }
   ],
   "source": [
    "df_stw.groupby([\"gender\"]).mean(numeric_only=True)[\"mass\"]"
   ]
  },
  {
   "cell_type": "code",
   "execution_count": 9,
   "id": "0a790097",
   "metadata": {},
   "outputs": [],
   "source": [
    "import matplotlib.pyplot as plt"
   ]
  },
  {
   "cell_type": "code",
   "execution_count": 10,
   "id": "7f28ed65",
   "metadata": {},
   "outputs": [
    {
     "data": {
      "image/png": "[encoded data removed]",
      "text/plain": [
       "<Figure size 640x480 with 1 Axes>"
      ]
     },
     "metadata": {},
     "output_type": "display_data"
    }
   ],
   "source": [
    "plt.scatter(df_stw.mass, df_stw.height, color = \"red\")\n",
    "plt.grid(color = 'green', linestyle = '--', linewidth = 0.5)\n",
    "plt.title(\"Relatinship between mass and heigth\")\n",
    "plt.xlabel(\"Mass\")\n",
    "plt.ylabel(\"Height\")\n",
    "plt.show()"
   ]
  },
  {
   "cell_type": "code",
   "execution_count": 11,
   "id": "33dce1a3",
   "metadata": {},
   "outputs": [
    {
     "data": {
      "text/plain": [
       "eye_color\n",
       "black            187.333333\n",
       "blue             186.083333\n",
       "blue-gray        182.000000\n",
       "brown            165.307692\n",
       "green, yellow    216.000000\n",
       "hazel            174.000000\n",
       "orange           175.000000\n",
       "red              154.800000\n",
       "unknown          136.000000\n",
       "white            178.000000\n",
       "yellow           172.777778\n",
       "Name: height, dtype: float64"
      ]
     },
     "execution_count": 11,
     "metadata": {},
     "output_type": "execute_result"
    }
   ],
   "source": [
    "groups = df_stw.groupby([\"eye_color\"]).mean(numeric_only=True)[\"height\"]\n",
    "groups"
   ]
  },
  {
   "cell_type": "code",
   "execution_count": 13,
   "id": "2902b102",
   "metadata": {},
   "outputs": [
    {
     "data": {
      "image/png": "[encoded data removed]",
      "text/plain": [
       "<Figure size 1000x600 with 1 Axes>"
      ]
     },
     "metadata": {},
     "output_type": "display_data"
    }
   ],
   "source": [
    "plt.figure(figsize=(10, 6))\n",
    "plt.bar(groups.keys(), groups.values, color='skyblue')\n",
    "plt.xlabel('Color de ojos')\n",
    "plt.ylabel('Promedio de la altura')\n",
    "plt.title('Promedio de colores de ojos por altura')\n",
    "plt.xticks(rotation=45, ha='right')\n",
    "plt.tight_layout()\n",
    "\n",
    "plt.show()"
   ]
  }
 ],
 "metadata": {
  "kernelspec": {
   "display_name": "Python 3 (ipykernel)",
   "language": "python",
   "name": "python3"
  },
  "language_info": {
   "codemirror_mode": {
    "name": "ipython",
    "version": 3
   },
   "file_extension": ".py",
   "mimetype": "text/x-python",
   "name": "python",
   "nbconvert_exporter": "python",
   "pygments_lexer": "ipython3",
   "version": "3.10.9"
  }
 },
 "nbformat": 4,
 "nbformat_minor": 5
}
