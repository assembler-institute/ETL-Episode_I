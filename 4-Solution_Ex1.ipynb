{
 "cells": [
  {
   "attachments": {},
   "cell_type": "markdown",
   "id": "54fbcbd8",
   "metadata": {},
   "source": [
    "## Part 1:"
   ]
  },
  {
   "cell_type": "code",
   "execution_count": 14,
   "id": "182ee111-7b8a-408f-b916-4534ab67dc32",
   "metadata": {},
   "outputs": [
    {
     "name": "stdout",
     "output_type": "stream",
     "text": [
      "[{'iata': 'TIA'}, {'iata': 'ROS'}, {'iata': 'RES'}, {'iata': 'FTE'}, {'iata': 'RGL'}, {'iata': 'INN'}, {'iata': 'VIE'}, {'iata': 'GRZ'}, {'iata': 'LNZ'}, {'iata': 'SZG'}, {'iata': 'KLU'}, {'iata': 'HOH'}, {'iata': 'MSQ'}, {'iata': 'GME'}, {'iata': 'MHP'}, {'iata': 'MVQ'}, {'iata': 'ANR'}, {'iata': 'BRU'}, {'iata': 'KJK'}, {'iata': 'LGG'}, {'iata': 'OST'}, {'iata': 'CRL'}, {'iata': 'CBB'}, {'iata': 'SJJ'}, {'iata': 'BNX'}, {'iata': 'TZL'}, {'iata': 'OMO'}, {'iata': 'BEL'}, {'iata': 'CNF'}, {'iata': 'MAO'}, {'iata': 'GIG'}, {'iata': 'BSB'}, {'iata': 'RBR'}, {'iata': 'BVB'}, {'iata': 'CFB'}, {'iata': 'CGR'}, {'iata': 'CMG'}, {'iata': 'CWB'}, {'iata': 'CZS'}, {'iata': 'IGU'}, {'iata': 'SOF'}, {'iata': 'GOZ'}, {'iata': 'BOJ'}, {'iata': 'PDV'}, {'iata': 'VAR'}, {'iata': 'QKT'}, {'iata': 'IQQ'}, {'iata': 'SCL'}, {'iata': 'ANF'}, {'iata': 'CCP'}, {'iata': 'ZCO'}, {'iata': 'PMC'}, {'iata': 'PUQ'}, {'iata': 'CTG'}, {'iata': 'AXM'}, {'iata': 'BOG'}, {'iata': 'BAQ'}, {'iata': 'CLO'}, {'iata': 'PEI'}, {'iata': 'ZAG'}, {'iata': 'PUY'}, {'iata': 'ZAD'}, {'iata': 'DBV'}, {'iata': 'OSI'}, {'iata': 'RJK'}, {'iata': 'BWK'}, {'iata': 'SPU'}, {'iata': 'LSZ'}, {'iata': 'OSR'}, {'iata': 'PED'}, {'iata': 'PRG'}, {'iata': 'KLV'}, {'iata': 'BRQ'}, {'iata': 'LKS'}, {'iata': 'CPH'}, {'iata': 'AAR'}, {'iata': 'KRP'}, {'iata': 'RKE'}, {'iata': 'RNN'}, {'iata': 'SGD'}, {'iata': 'STA'}, {'iata': 'BLL'}, {'iata': 'EBJ'}, {'iata': 'MRW'}, {'iata': 'ODE'}, {'iata': 'CNL'}, {'iata': 'SQW'}, {'iata': 'TED'}, {'iata': 'VDP'}, {'iata': 'AAL'}, {'iata': 'GYE'}, {'iata': 'MEC'}, {'iata': 'UIO'}, {'iata': 'GPS'}, {'iata': 'URE'}, {'iata': 'TLL'}, {'iata': 'TAY'}, {'iata': 'FAE'}, {'iata': 'HEL'}, {'iata': 'QVY'}, {'iata': 'ENF'}, {'iata': 'HEM'}, {'iata': 'JYV'}, {'iata': 'KAU'}, {'iata': 'KAJ'}, {'iata': 'KOK'}, {'iata': 'KTT'}, {'iata': 'KUO'}, {'iata': 'MHQ'}, {'iata': 'MIK'}, {'iata': 'OUL'}, {'iata': 'RVN'}, {'iata': 'SVL'}, {'iata': 'SOT'}, {'iata': 'CDG'}, {'iata': 'EBU'}, {'iata': 'NCE'}, {'iata': 'BES'}, {'iata': 'DOL'}, {'iata': 'ORY'}, {'iata': 'MLH'}, {'iata': 'NTE'}, {'iata': 'SXB'}, {'iata': 'EAP'}, {'iata': 'BOD'}, {'iata': 'ANG'}, {'iata': 'CMF'}, {'iata': 'SYT'}, {'iata': 'NCY'}, {'iata': 'GNB'}, {'iata': 'VAF'}, {'iata': 'CHR'}, {'iata': 'BER'}, {'iata': 'SXF'}, {'iata': 'FRA'}, {'iata': 'DUS'}, {'iata': 'NUE'}, {'iata': 'TXL'}, {'iata': 'BRE'}, {'iata': 'FKB'}, {'iata': 'DRS'}, {'iata': 'FMO'}, {'iata': 'HAM'}, {'iata': 'CGN'}, {'iata': 'MUC'}, {'iata': 'LEJ'}, {'iata': 'STR'}, {'iata': 'HAJ'}, {'iata': 'FMM'}, {'iata': 'PAD'}, {'iata': 'DTM'}, {'iata': 'SZW'}, {'iata': 'ATH'}, {'iata': 'EFL'}, {'iata': 'KGS'}, {'iata': 'CFU'}, {'iata': 'KVA'}, {'iata': 'RHO'}, {'iata': 'CHQ'}, {'iata': 'SKG'}, {'iata': 'AXD'}, {'iata': 'USH'}, {'iata': 'COR'}, {'iata': 'EZE'}, {'iata': 'MDZ'}, {'iata': 'CTC'}, {'iata': 'TUC'}, {'iata': 'CNQ'}, {'iata': 'FMA'}, {'iata': 'IGR'}, {'iata': 'SLA'}, {'iata': 'JUJ'}, {'iata': 'CRD'}, {'iata': 'EQS'}, {'iata': 'RGA'}, {'iata': 'MDQ'}, {'iata': 'HOJ'}, {'iata': 'ANT'}, {'iata': 'GEO'}, {'iata': 'OGL'}, {'iata': 'BQT'}, {'iata': 'VTB'}, {'iata': 'GNA'}, {'iata': 'OBL'}, {'iata': 'QNM'}, {'iata': 'QHA'}, {'iata': 'BUD'}, {'iata': 'CIJ'}, {'iata': 'DEB'}, {'iata': 'LPB'}, {'iata': 'QGY'}, {'iata': 'PSZ'}, {'iata': 'PEV'}, {'iata': 'SRE'}, {'iata': 'SOB'}, {'iata': 'VVI'}, {'iata': 'BJO'}, {'iata': 'SRZ'}, {'iata': 'ORU'}, {'iata': 'REK'}, {'iata': 'POI'}, {'iata': 'TJA'}, {'iata': 'AEY'}, {'iata': 'TDD'}, {'iata': 'VLM'}, {'iata': 'RBQ'}, {'iata': 'BVL'}, {'iata': 'MHW'}, {'iata': 'APB'}, {'iata': 'ASC'}, {'iata': 'CAM'}, {'iata': 'CEP'}, {'iata': 'QCN'}, {'iata': 'SAO'}, {'iata': 'BGX'}, {'iata': 'CGB'}, {'iata': 'BRA'}, {'iata': 'JAM'}, {'iata': 'ROU'}, {'iata': 'PVN'}, {'iata': 'SLS'}, {'iata': 'SZR'}, {'iata': 'VID'}, {'iata': 'KDG'}, {'iata': 'HKV'}, {'iata': 'IPC'}, {'iata': 'SDC'}, {'iata': 'ARI'}, {'iata': 'CCH'}, {'iata': 'GXQ'}, {'iata': 'ESR'}, {'iata': 'WPR'}, {'iata': 'WPU'}, {'iata': 'LGR'}, {'iata': 'ZOS'}, {'iata': 'QRC'}, {'iata': 'CJC'}, {'iata': 'YAI'}, {'iata': 'BGA'}, {'iata': 'CUC'}, {'iata': 'LET'}, {'iata': 'MDE'}, {'iata': 'SMR'}, {'iata': 'ADZ'}, {'iata': 'ELB'}, {'iata': 'BUN'}, {'iata': 'TCO'}, {'iata': 'CAQ'}, {'iata': 'CZU'}, {'iata': 'EJA'}, {'iata': 'FLA'}, {'iata': 'GIR'}, {'iata': 'QLI'}, {'iata': 'EPK'}, {'iata': 'UHE'}, {'iata': 'MKA'}, {'iata': 'PRV'}, {'iata': 'ZBE'}, {'iata': 'BYR'}, {'iata': 'SKS'}, {'iata': 'CUE'}, {'iata': 'LTX'}, {'iata': 'TUA'}, {'iata': 'MRR'}, {'iata': 'XMS'}, {'iata': 'SNC'}, {'iata': 'ESM'}, {'iata': 'ATF'}, {'iata': 'OCC'}, {'iata': 'IBB'}, {'iata': 'JIP'}, {'iata': 'LGQ'}, {'iata': 'PYO'}, {'iata': 'ETR'}, {'iata': 'SUQ'}, {'iata': 'PTZ'}, {'iata': 'KDL'}, {'iata': 'EPU'}, {'iata': 'KEV'}, {'iata': 'HYV'}, {'iata': 'IVL'}, {'iata': 'KHJ'}, {'iata': 'RNE'}, {'iata': 'VHY'}, {'iata': 'AUR'}, {'iata': 'CAY'}, {'iata': 'MPY'}, {'iata': 'LDX'}, {'iata': 'REI'}, {'iata': 'XAU'}, {'iata': 'HEW'}, {'iata': 'HER'}, {'iata': 'KLX'}, {'iata': 'LXS'}, {'iata': 'MJT'}, {'iata': 'SMI'}, {'iata': 'ZTH'}, {'iata': 'PYR'}, {'iata': 'JSI'}, {'iata': 'JSH'}, {'iata': 'JSS'}, {'iata': 'CTF'}, {'iata': 'KAI'}, {'iata': 'AHL'}, {'iata': 'NAI'}, {'iata': 'BMJ'}, {'iata': 'GFO'}, {'iata': 'IMB'}, {'iata': 'KAR'}, {'iata': 'KRM'}, {'iata': 'KRG'}, {'iata': 'KTO'}, {'iata': 'LUB'}, {'iata': 'LTM'}, {'iata': 'USI'}, {'iata': 'MHA'}, {'iata': 'MYM'}, {'iata': 'QSX'}, {'iata': 'ORJ'}, {'iata': 'PRR'}, {'iata': 'DUB'}, {'iata': 'ORK'}, {'iata': 'NOC'}, {'iata': 'GWY'}, {'iata': 'CFN'}, {'iata': 'KIR'}, {'iata': 'SNN'}, {'iata': 'SXL'}, {'iata': 'MCQ'}, {'iata': 'WAT'}, {'iata': 'QZD'}, {'iata': 'KKY'}, {'iata': 'QPJ'}, {'iata': 'HZK'}, {'iata': 'IFJ'}, {'iata': 'MXP'}, {'iata': 'SIJ'}, {'iata': 'FCO'}, {'iata': 'VPN'}, {'iata': 'PSA'}, {'iata': 'BIU'}, {'iata': 'ALL'}, {'iata': 'BLO'}, {'iata': 'PSR'}, {'iata': 'BXV'}, {'iata': 'CTA'}, {'iata': 'DJU'}, {'iata': 'AHO'}, {'iata': 'FAS'}, {'iata': 'CAG'}, {'iata': 'FAG'}, {'iata': 'BGY'}, {'iata': 'GUU'}, {'iata': 'GOA'}, {'iata': 'GJR'}, {'iata': 'CUF'}, {'iata': 'GRY'}, {'iata': 'BLQ'}, {'iata': 'HVK'}, {'iata': 'FRL'}, {'iata': 'TRS'}, {'iata': 'RMI'}, {'iata': 'CIA'}, {'iata': 'NAP'}, {'iata': 'FLR'}, {'iata': 'PEG'}, {'iata': 'NNR'}, {'iata': 'BYT'}, {'iata': 'BLY'}, {'iata': 'WEX'}, {'iata': 'IOR'}, {'iata': 'INQ'}, {'iata': 'LTR'}, {'iata': 'IIA'}, {'iata': 'CHE'}, {'iata': 'MZD'}, {'iata': 'TTB'}, {'iata': 'PRN'}, {'iata': 'SUF'}, {'iata': 'RIX'}, {'iata': 'VNT'}, {'iata': 'LPX'}, {'iata': 'VNO'}, {'iata': 'KUN'}, {'iata': 'PLQ'}, {'iata': 'SQQ'}, {'iata': 'KLJ'}, {'iata': 'LUX'}, {'iata': 'MLA'}, {'iata': 'KIV'}, {'iata': 'TGD'}, {'iata': 'TIV'}, {'iata': 'AMS'}, {'iata': 'GRQ'}, {'iata': 'MST'}, {'iata': 'QAR'}, {'iata': 'GLZ'}, {'iata': 'DHR'}, {'iata': 'LEY'}, {'iata': 'LWR'}, {'iata': 'RTM'}, {'iata': 'UDE'}, {'iata': 'WOE'}, {'iata': 'EIN'}, {'iata': 'OSL'}, {'iata': 'AES'}, {'iata': 'ALF'}, {'iata': 'PNV'}, {'iata': 'BGO'}, {'iata': 'HLJ'}, {'iata': 'KRS'}, {'iata': 'EVE'}, {'iata': 'HAU'}, {'iata': 'KSU'}, {'iata': 'TOS'}, {'iata': 'TRD'}, {'iata': 'ANX'}, {'iata': 'FDE'}, {'iata': 'BNN'}, {'iata': 'BVG'}, {'iata': 'DLD'}, {'iata': 'BDU'}, {'iata': 'VDB'}, {'iata': 'ASU'}, {'iata': 'LIM'}, {'iata': 'IQT'}, {'iata': 'AQP'}, {'iata': 'PIU'}, {'iata': 'CUZ'}, {'iata': 'AYP'}, {'iata': 'JAU'}, {'iata': 'KRK'}, {'iata': 'WAW'}, {'iata': 'GDN'}, {'iata': 'KTW'}, {'iata': 'RZE'}, {'iata': 'SZZ'}, {'iata': 'WRO'}, {'iata': 'WMI'}, {'iata': 'BZG'}, {'iata': 'LCJ'}, {'iata': 'QYD'}, {'iata': 'POZ'}, {'iata': 'IEG'}, {'iata': 'CZW'}, {'iata': 'OSZ'}, {'iata': 'QWS'}, {'iata': 'LIS'}, {'iata': 'PDL'}, {'iata': 'OPO'}, {'iata': 'PXO'}, {'iata': 'FLW'}, {'iata': 'FNC'}, {'iata': 'SMA'}, {'iata': 'HOR'}, {'iata': 'TER'}, {'iata': 'FAO'}, {'iata': 'BGZ'}, {'iata': 'ARW'}, {'iata': 'BCM'}, {'iata': 'CND'}, {'iata': 'CLJ'}, {'iata': 'CRA'}, {'iata': 'IAS'}, {'iata': 'OMR'}, {'iata': 'OTP'}, {'iata': 'SBZ'}, {'iata': 'SCV'}, {'iata': 'TSR'}, {'iata': 'BAY'}, {'iata': 'TCE'}, {'iata': 'DME'}, {'iata': 'SVO'}, {'iata': 'KZN'}, {'iata': 'UFA'}, {'iata': 'PEE'}, {'iata': 'BZK'}, {'iata': 'VOZ'}, {'iata': 'VKO'}, {'iata': 'GOJ'}, {'iata': 'RTW'}, {'iata': 'ARH'}, {'iata': 'BZY'}, {'iata': 'UZC'}, {'iata': 'BTS'}, {'iata': 'KSC'}, {'iata': 'SLD'}, {'iata': 'PZY'}, {'iata': 'ILZ'}, {'iata': 'LJU'}, {'iata': 'MBX'}, {'iata': 'POW'}, {'iata': 'MAD'}, {'iata': 'TFS'}, {'iata': 'ALC'}, {'iata': 'BCN'}, {'iata': 'AGP'}, {'iata': 'PMI'}, {'iata': 'SCQ'}, {'iata': 'SVQ'}, {'iata': 'TFN'}, {'iata': 'ABC'}, {'iata': 'LEI'}, {'iata': 'ILD'}, {'iata': 'MEX'}, {'iata': 'ODB'}, {'iata': 'CUN'}, {'iata': 'BIO'}, {'iata': 'ZLO'}, {'iata': 'RGS'}, {'iata': 'ACA'}, {'iata': 'BJZ'}, {'iata': 'TPQ'}, {'iata': 'LCG'}, {'iata': 'GDL'}, {'iata': 'GRO'}, {'iata': 'LMM'}, {'iata': 'GRX'}, {'iata': 'BJX'}, {'iata': 'LAP'}, {'iata': 'LTO'}, {'iata': 'MAM'}, {'iata': 'MID'}, {'iata': 'MXL'}, {'iata': 'PBM'}, {'iata': 'MLM'}, {'iata': 'GOT'}, {'iata': 'MTT'}, {'iata': 'VST'}, {'iata': 'MTY'}, {'iata': 'LLA'}, {'iata': 'MZT'}, {'iata': 'ARN'}, {'iata': 'NOG'}, {'iata': 'RNB'}, {'iata': 'NLD'}, {'iata': 'JKG'}, {'iata': 'OAX'}, {'iata': 'LDK'}, {'iata': 'GSE'}, {'iata': 'KVB'}, {'iata': 'NYO'}, {'iata': 'KID'}, {'iata': 'KLR'}, {'iata': 'VXO'}, {'iata': 'GEV'}, {'iata': 'KRF'}, {'iata': 'SDL'}, {'iata': 'KRN'}, {'iata': 'UME'}, {'iata': 'ZRH'}, {'iata': 'GVA'}, {'iata': 'ZHV'}, {'iata': 'ENS'}, {'iata': 'SIR'}, {'iata': 'EUX'}, {'iata': 'LUG'}, {'iata': 'BRN'}, {'iata': 'BXO'}, {'iata': 'QLS'}, {'iata': 'QNC'}, {'iata': 'ZHI'}, {'iata': 'ACH'}, {'iata': 'CHS'}, {'iata': 'PDX'}, {'iata': 'PHL'}, {'iata': 'CLE'}, {'iata': 'PHX'}, {'iata': 'CLT'}, {'iata': 'PIT'}, {'iata': 'PWM'}, {'iata': 'HNL'}, {'iata': 'ISL'}, {'iata': 'DCA'}, {'iata': 'MOL'}, {'iata': 'IST'}, {'iata': 'DEN'}, {'iata': 'SVG'}, {'iata': 'RDU'}, {'iata': 'BJF'}, {'iata': 'DFW'}, {'iata': 'ORD'}, {'iata': 'SAN'}, {'iata': 'SEA'}, {'iata': 'ELP'}, {'iata': 'ERI'}, {'iata': 'SFO'}, {'iata': 'EWR'}, {'iata': 'KBP'}, {'iata': 'MPW'}, {'iata': 'IEV'}, {'iata': 'NLV'}, {'iata': 'DNK'}, {'iata': 'OZH'}, {'iata': 'SIP'}, {'iata': 'HRK'}, {'iata': 'IFO'}, {'iata': 'LWO'}, {'iata': 'CWC'}, {'iata': 'KHE'}, {'iata': 'ODS'}, {'iata': 'CKC'}, {'iata': 'LGW'}, {'iata': 'LHR'}, {'iata': 'ABZ'}, {'iata': 'INV'}, {'iata': 'GLA'}, {'iata': 'EDI'}, {'iata': 'NWI'}, {'iata': 'STN'}, {'iata': 'EXT'}, {'iata': 'BFS'}, {'iata': 'BHX'}, {'iata': 'MAN'}, {'iata': 'DSA'}, {'iata': 'BRS'}, {'iata': 'LPL'}, {'iata': 'LTN'}, {'iata': 'BOH'}, {'iata': 'SOU'}, {'iata': 'LCY'}, {'iata': 'SEN'}, {'iata': 'ENO'}, {'iata': 'AGT'}, {'iata': 'ESG'}, {'iata': 'BFA'}, {'iata': 'OLK'}, {'iata': 'PBT'}, {'iata': 'PCJ'}, {'iata': 'AYO'}, {'iata': 'CIO'}, {'iata': 'FLM'}, {'iata': 'PIL'}, {'iata': 'PJC'}, {'iata': 'VMI'}, {'iata': 'PCL'}, {'iata': 'CIX'}, {'iata': 'JUL'}, {'iata': 'TRU'}, {'iata': 'MVD'}, {'iata': 'TCQ'}, {'iata': 'PDP'}, {'iata': 'PEM'}, {'iata': 'AOP'}, {'iata': 'LHC'}, {'iata': 'IBP'}, {'iata': 'CCS'}, {'iata': 'CHM'}, {'iata': 'MAR'}, {'iata': 'ATA'}, {'iata': 'VLN'}, {'iata': 'CJA'}, {'iata': 'ILQ'}, {'iata': 'QPM'}, {'iata': 'QXR'}, {'iata': 'QYY'}, {'iata': 'QEO'}, {'iata': 'BYJ'}, {'iata': 'PRM'}, {'iata': 'PIX'}, {'iata': 'CBP'}, {'iata': 'SJZ'}, {'iata': 'VRL'}, {'iata': 'GRW'}, {'iata': 'SIE'}, {'iata': 'VSE'}, {'iata': 'SUJ'}, {'iata': 'CSB'}, {'iata': 'DVA'}, {'iata': 'DZM'}, {'iata': 'GRV'}, {'iata': 'LJB'}, {'iata': 'QND'}, {'iata': 'TAT'}, {'iata': 'LUE'}, {'iata': 'POV'}, {'iata': 'CQM'}, {'iata': 'BTO'}, {'iata': 'DOE'}, {'iata': 'WSO'}, {'iata': 'AAJ'}, {'iata': 'KCB'}, {'iata': 'ABN'}, {'iata': 'TOT'}, {'iata': 'DRJ'}, {'iata': 'ICK'}, {'iata': 'OEM'}, {'iata': 'SMZ'}, {'iata': 'AGI'}, {'iata': 'ORG'}, {'iata': 'OSD'}, {'iata': 'OER'}, {'iata': 'SMV'}, {'iata': 'ZIN'}, {'iata': 'ZJI'}, {'iata': 'TBU'}, {'iata': 'PAF'}, {'iata': 'ZTR'}, {'iata': 'DOK'}, {'iata': 'TNL'}, {'iata': 'UDJ'}, {'iata': 'KWG'}, {'iata': 'GML'}, {'iata': 'ATI'}, {'iata': 'CYR'}, {'iata': 'DZO'}, {'iata': 'MLZ'}, {'iata': 'PDU'}, {'iata': 'RVY'}, {'iata': 'STY'}, {'iata': 'BUV'}, {'iata': 'TAW'}, {'iata': 'TYT'}, {'iata': 'VCH'}, {'iata': 'BLA'}, {'iata': 'BRM'}, {'iata': 'LSP'}, {'iata': 'LFR'}, {'iata': 'PMV'}, {'iata': 'MUN'}, {'iata': 'PZO'}, {'iata': 'SVZ'}, {'iata': 'AAO'}, {'iata': 'BNS'}, {'iata': 'MYC'}, {'iata': 'CBL'}, {'iata': 'CXA'}, {'iata': 'CAJ'}, {'iata': 'CUP'}, {'iata': 'CZE'}, {'iata': 'AOI'}, {'iata': 'BEG'}, {'iata': 'BRI'}, {'iata': 'BUH'}, {'iata': 'LON'}, {'iata': 'MIL'}, {'iata': 'PAR'}, {'iata': 'ROM'}, {'iata': 'STO'}, {'iata': 'TRN'}, {'iata': 'VCE'}, {'iata': 'VRN'}, {'iata': 'ETZ'}, {'iata': 'LIL'}, {'iata': 'LYS'}, {'iata': 'MPL'}, {'iata': 'MRS'}, {'iata': 'TLS'}, {'iata': 'VLC'}, {'iata': 'BHI'}, {'iata': 'BUE'}, {'iata': 'REL'}, {'iata': 'BRC'}, {'iata': 'CPC'}, {'iata': 'NQN'}, {'iata': 'PRA'}, {'iata': 'RIO'}, {'iata': 'SFN'}, {'iata': 'MPN'}, {'iata': 'PSS'}, {'iata': 'RHD'}, {'iata': 'AFA'}, {'iata': 'ATL'}, {'iata': 'FLN'}, {'iata': 'FOR'}, {'iata': 'HOU'}, {'iata': 'JPA'}, {'iata': 'MIA'}, {'iata': 'NAT'}, {'iata': 'NYC'}, {'iata': 'POA'}, {'iata': 'RCU'}, {'iata': 'REC'}, {'iata': 'SDE'}, {'iata': 'SSA'}, {'iata': 'UAQ'}, {'iata': 'VDM'}, {'iata': 'IRJ'}, {'iata': 'AER'}, {'iata': 'EGO'}, {'iata': 'KRR'}, {'iata': 'KUF'}, {'iata': 'LED'}, {'iata': 'MRV'}, {'iata': 'OGZ'}, {'iata': 'ROV'}, {'iata': 'VOG'}, {'iata': 'BOS'}, {'iata': 'CHI'}, {'iata': 'FLL'}, {'iata': 'MSP'}, {'iata': 'WAS'}, {'iata': 'LAX'}, {'iata': 'AOK'}, {'iata': 'BDS'}, {'iata': 'CDT'}, {'iata': 'IBZ'}, {'iata': 'INI'}, {'iata': 'JMK'}, {'iata': 'JTR'}, {'iata': 'LBA'}, {'iata': 'LPA'}, {'iata': 'MAH'}, {'iata': 'NCL'}, {'iata': 'OLB'}, {'iata': 'PVK'}, {'iata': 'TCI'}, {'iata': 'JNX'}, {'iata': 'PAS'}, {'iata': 'NQT'}, {'iata': 'ASF'}, {'iata': 'REN'}, {'iata': 'AUS'}, {'iata': 'ORL'}, {'iata': 'TPA'}, {'iata': 'PBI'}, {'iata': 'KGD'}, {'iata': 'AVN'}, {'iata': 'MJV'}, {'iata': 'ACE'}, {'iata': 'AJA'}, {'iata': 'BIA'}, {'iata': 'CIY'}, {'iata': 'GPA'}, {'iata': 'PMO'}, {'iata': 'REU'}, {'iata': 'SPC'}, {'iata': 'VOL'}, {'iata': 'XRY'}, {'iata': 'CLY'}, {'iata': 'FSC'}, {'iata': 'TLN'}, {'iata': 'BUT'}, {'iata': 'BYC'}, {'iata': 'GYA'}, {'iata': 'RIB'}, {'iata': 'FDH'}, {'iata': 'ATM'}, {'iata': 'BHZ'}, {'iata': 'BVS'}, {'iata': 'CKS'}, {'iata': 'IMP'}, {'iata': 'MAB'}, {'iata': 'MCP'}, {'iata': 'MEU'}, {'iata': 'PMW'}, {'iata': 'SLZ'}, {'iata': 'STM'}, {'iata': 'AJU'}, {'iata': 'BPS'}, {'iata': 'GVR'}, {'iata': 'GYN'}, {'iata': 'IOS'}, {'iata': 'MCZ'}, {'iata': 'MOC'}, {'iata': 'RAO'}, {'iata': 'SJP'}, {'iata': 'UBA'}, {'iata': 'UDI'}, {'iata': 'UNA'}, {'iata': 'VDC'}, {'iata': 'VIX'}, {'iata': 'CAF'}, {'iata': 'CIZ'}, {'iata': 'ERN'}, {'iata': 'ITB'}, {'iata': 'LBR'}, {'iata': 'PIN'}, {'iata': 'PVH'}, {'iata': 'SJL'}, {'iata': 'TBT'}, {'iata': 'TFF'}, {'iata': 'EPA'}, {'iata': 'NVT'}, {'iata': 'AUX'}, {'iata': 'THE'}, {'iata': 'CAC'}, {'iata': 'LDB'}, {'iata': 'MGF'}, {'iata': 'AFL'}, {'iata': 'AIR'}, {'iata': 'BPG'}, {'iata': 'BVH'}, {'iata': 'JIA'}, {'iata': 'JPR'}, {'iata': 'OPS'}, {'iata': 'PGZ'}, {'iata': 'ERF'}, {'iata': 'CZM'}, {'iata': 'DTT'}, {'iata': 'FMY'}, {'iata': 'HFD'}, {'iata': 'LAS'}, {'iata': 'MSY'}, {'iata': 'PVR'}, {'iata': 'ZIH'}, {'iata': 'ANC'}, {'iata': 'HUX'}, {'iata': 'KOA'}, {'iata': 'LIH'}, {'iata': 'OGG'}, {'iata': 'PSP'}, {'iata': 'SAC'}, {'iata': 'SJC'}, {'iata': 'SJD'}, {'iata': 'SLC'}, {'iata': 'SNA'}, {'iata': 'BNA'}, {'iata': 'CMH'}, {'iata': 'CVG'}, {'iata': 'IND'}, {'iata': 'MEM'}, {'iata': 'MKC'}, {'iata': 'MKE'}, {'iata': 'OAK'}, {'iata': 'SRQ'}, {'iata': 'STL'}, {'iata': 'LSC'}, {'iata': 'BBA'}, {'iata': 'CPO'}, {'iata': 'LSQ'}, {'iata': 'PNT'}, {'iata': 'WCA'}, {'iata': 'ZAL'}, {'iata': 'BAR'}, {'iata': 'CDE'}, {'iata': 'SQD'}, {'iata': 'AUC'}, {'iata': 'EYP'}, {'iata': 'RVE'}, {'iata': 'APO'}, {'iata': 'HAY'}, {'iata': 'IBE'}, {'iata': 'IPI'}, {'iata': 'MTR'}, {'iata': 'MVP'}, {'iata': 'MZL'}, {'iata': 'NVA'}, {'iata': 'PCR'}, {'iata': 'PDA'}, {'iata': 'PPN'}, {'iata': 'PSO'}, {'iata': 'PTX'}, {'iata': 'PUU'}, {'iata': 'RCH'}, {'iata': 'SJE'}, {'iata': 'SVI'}, {'iata': 'TME'}, {'iata': 'UIB'}, {'iata': 'VGZ'}, {'iata': 'VUP'}, {'iata': 'VVC'}, {'iata': 'GPI'}, {'iata': 'PVA'}, {'iata': 'LQM'}, {'iata': 'JAX'}, {'iata': 'CWL'}, {'iata': 'TKU'}, {'iata': 'FUE'}, {'iata': 'BIQ'}, {'iata': 'SCY'}, {'iata': 'RLG'}, {'iata': 'SCN'}, {'iata': 'TGM'}, {'iata': 'SZE'}, {'iata': 'BOO'}, {'iata': 'HAD'}, {'iata': 'JOE'}, {'iata': 'KAO'}, {'iata': 'KEM'}, {'iata': 'POR'}, {'iata': 'TMP'}, {'iata': 'VAA'}, {'iata': 'VBY'}, {'iata': 'ANE'}, {'iata': 'CFE'}, {'iata': 'FNI'}, {'iata': 'LME'}, {'iata': 'PIS'}, {'iata': 'PUF'}, {'iata': 'QXB'}, {'iata': 'RHE'}, {'iata': 'RNS'}, {'iata': 'TUF'}, {'iata': 'CFR'}, {'iata': 'LRH'}, {'iata': 'PGF'}, {'iata': 'BVE'}, {'iata': 'DCM'}, {'iata': 'LDE'}, {'iata': 'LIG'}, {'iata': 'LPY'}, {'iata': 'RDZ'}, {'iata': 'UIP'}, {'iata': 'SNR'}, {'iata': 'GWT'}, {'iata': 'HDF'}, {'iata': 'KSF'}, {'iata': 'MHG'}, {'iata': 'PNA'}, {'iata': 'JER'}, {'iata': 'NQY'}, {'iata': 'IOA'}, {'iata': 'JIK'}, {'iata': 'JKH'}, {'iata': 'JSY'}, {'iata': 'JTY'}, {'iata': 'KIT'}, {'iata': 'KSO'}, {'iata': 'KZI'}, {'iata': 'LRS'}, {'iata': 'MLO'}, {'iata': 'SKU'}, {'iata': 'BWE'}, {'iata': 'KZS'}, {'iata': 'NRK'}, {'iata': 'SBH'}, {'iata': 'TAM'}, {'iata': 'VER'}, {'iata': 'SAG'}, {'iata': 'TRK'}, {'iata': 'RAS'}, {'iata': 'OMH'}, {'iata': 'IOM'}, {'iata': 'VIN'}, {'iata': 'LMP'}, {'iata': 'TPS'}, {'iata': 'PNL'}, {'iata': 'TGC'}, {'iata': 'AGU'}, {'iata': 'CEN'}, {'iata': 'CJS'}, {'iata': 'CLQ'}, {'iata': 'CPE'}, {'iata': 'CTM'}, {'iata': 'CUL'}, {'iata': 'CUU'}, {'iata': 'CVM'}, {'iata': 'DGO'}, {'iata': 'FAT'}, {'iata': 'HMO'}, {'iata': 'IZT'}, {'iata': 'LRD'}, {'iata': 'LZC'}, {'iata': 'MFE'}, {'iata': 'PAZ'}, {'iata': 'PDS'}, {'iata': 'PXM'}, {'iata': 'QRO'}, {'iata': 'REX'}, {'iata': 'SAT'}, {'iata': 'SLP'}, {'iata': 'TAP'}, {'iata': 'TGZ'}, {'iata': 'TIJ'}, {'iata': 'TRC'}, {'iata': 'VSA'}, {'iata': 'ZCL'}, {'iata': 'PBC'}, {'iata': 'RNO'}, {'iata': 'CUA'}, {'iata': 'GYM'}, {'iata': 'HRL'}, {'iata': 'HUY'}, {'iata': 'LPI'}, {'iata': 'MME'}, {'iata': 'EGC'}, {'iata': 'HFT'}, {'iata': 'SOJ'}, {'iata': 'VDS'}, {'iata': 'MEH'}, {'iata': 'RNM'}, {'iata': 'CHH'}, {'iata': 'HUU'}, {'iata': 'TBP'}, {'iata': 'TGI'}, {'iata': 'TPP'}, {'iata': 'TYL'}, {'iata': 'SDR'}, {'iata': 'SFT'}, {'iata': 'CVU'}, {'iata': 'VGO'}, {'iata': 'ZAZ'}, {'iata': 'AAQ'}, {'iata': 'CEE'}, {'iata': 'CSY'}, {'iata': 'GDZ'}, {'iata': 'IJK'}, {'iata': 'KVX'}, {'iata': 'LPK'}, {'iata': 'MCX'}, {'iata': 'MQF'}, {'iata': 'NNM'}, {'iata': 'RGK'}, {'iata': 'SCW'}, {'iata': 'TBW'}, {'iata': 'ULY'}, {'iata': 'KVK'}, {'iata': 'MMK'}, {'iata': 'NBC'}, {'iata': 'PEZ'}, {'iata': 'SKX'}, {'iata': 'STW'}, {'iata': 'UUA'}, {'iata': 'IAR'}, {'iata': 'IGT'}, {'iata': 'NAL'}, {'iata': 'OSW'}, {'iata': 'PES'}, {'iata': 'UCT'}, {'iata': 'USK'}, {'iata': 'URS'}, {'iata': 'ESL'}, {'iata': 'JOK'}, {'iata': 'PKV'}, {'iata': 'KCK'}, {'iata': 'MHM'}, {'iata': 'EAS'}, {'iata': 'LEN'}, {'iata': 'MLN'}, {'iata': 'OVD'}, {'iata': 'RJL'}, {'iata': 'SLM'}, {'iata': 'VIT'}, {'iata': 'VLL'}, {'iata': 'VDE'}, {'iata': 'CBG'}, {'iata': 'GVX'}, {'iata': 'PJA'}, {'iata': 'AGH'}, {'iata': 'AJR'}, {'iata': 'EVG'}, {'iata': 'HFS'}, {'iata': 'LYC'}, {'iata': 'QYX'}, {'iata': 'HMV'}, {'iata': 'QLJ'}, {'iata': 'ROO'}, {'iata': 'KSD'}, {'iata': 'NKT'}, {'iata': 'TEQ'}, {'iata': 'TAZ'}, {'iata': 'IWA'}, {'iata': 'GCI'}, {'iata': 'GIB'}, {'iata': 'OXF'}, {'iata': 'PLH'}, {'iata': 'KOI'}, {'iata': 'SDZ'}, {'iata': 'SYY'}, {'iata': 'BEB'}, {'iata': 'BRR'}, {'iata': 'CAL'}, {'iata': 'ILY'}, {'iata': 'LDY'}, {'iata': 'TRE'}, {'iata': 'CVT'}, {'iata': 'KYN'}, {'iata': 'WXF'}, {'iata': 'ACI'}, {'iata': 'DND'}, {'iata': 'AGS'}, {'iata': 'BLV'}, {'iata': 'CHO'}, {'iata': 'DHN'}, {'iata': 'EWN'}, {'iata': 'GSP'}, {'iata': 'PGD'}, {'iata': 'PGV'}, {'iata': 'SDF'}, {'iata': 'SOP'}, {'iata': 'ABQ'}, {'iata': 'BIL'}, {'iata': 'BOI'}, {'iata': 'BUR'}, {'iata': 'BZN'}, {'iata': 'DSM'}, {'iata': 'ESD'}, {'iata': 'EUG'}, {'iata': 'FCA'}, {'iata': 'FRD'}, {'iata': 'GEG'}, {'iata': 'GRR'}, {'iata': 'IDA'}, {'iata': 'MFR'}, {'iata': 'MRY'}, {'iata': 'MSO'}, {'iata': 'OMA'}, {'iata': 'OTH'}, {'iata': 'PDT'}, {'iata': 'RDM'}, {'iata': 'SBA'}, {'iata': 'SBP'}, {'iata': 'SMX'}, {'iata': 'STS'}, {'iata': 'TUS'}, {'iata': 'ACK'}, {'iata': 'ACY'}, {'iata': 'ALB'}, {'iata': 'ART'}, {'iata': 'AVL'}, {'iata': 'BED'}, {'iata': 'BGR'}, {'iata': 'BHM'}, {'iata': 'BTV'}, {'iata': 'BUF'}, {'iata': 'CAE'}, {'iata': 'CAK'}, {'iata': 'CRW'}, {'iata': 'DAB'}, {'iata': 'DAY'}, {'iata': 'DXR'}, {'iata': 'ECP'}, {'iata': 'EGE'}, {'iata': 'EYW'}, {'iata': 'FOK'}, {'iata': 'FWA'}, {'iata': 'GSO'}, {'iata': 'HAR'}, {'iata': 'HHH'}, {'iata': 'HTO'}, {'iata': 'HVN'}, {'iata': 'ILM'}, {'iata': 'IPT'}, {'iata': 'ISP'}, {'iata': 'LEX'}, {'iata': 'MHT'}, {'iata': 'MSN'}, {'iata': 'MTP'}, {'iata': 'MVY'}, {'iata': 'MYR'}, {'iata': 'NPT'}, {'iata': 'ORF'}, {'iata': 'PHF'}, {'iata': 'PNS'}, {'iata': 'PVD'}, {'iata': 'RIC'}, {'iata': 'ROA'}, {'iata': 'ROC'}, {'iata': 'SAV'}, {'iata': 'SBY'}, {'iata': 'SCE'}, {'iata': 'SYR'}, {'iata': 'TEB'}, {'iata': 'TVC'}, {'iata': 'TYS'}, {'iata': 'VPS'}, {'iata': 'BMG'}, {'iata': 'INT'}, {'iata': 'MMU'}, {'iata': 'ACV'}, {'iata': 'ALM'}, {'iata': 'APV'}, {'iata': 'ASE'}, {'iata': 'AVX'}, {'iata': 'BCE'}, {'iata': 'BDG'}, {'iata': 'BFL'}, {'iata': 'BIS'}, {'iata': 'BLH'}, {'iata': 'BWC'}, {'iata': 'CDC'}, {'iata': 'CEZ'}, {'iata': 'CGZ'}, {'iata': 'CID'}, {'iata': 'CLR'}, {'iata': 'COS'}, {'iata': 'CTW'}, {'iata': 'CXL'}, {'iata': 'DAG'}, {'iata': 'DLH'}, {'iata': 'DRO'}, {'iata': 'DUG'}, {'iata': 'EMT'}, {'iata': 'FAR'}, {'iata': 'FHU'}, {'iata': 'FMN'}, {'iata': 'FSD'}, {'iata': 'FUL'}, {'iata': 'GCN'}, {'iata': 'GJT'}, {'iata': 'GRB'}, {'iata': 'GUP'}, {'iata': 'GYR'}, {'iata': 'HHR'}, {'iata': 'HII'}, {'iata': 'HMT'}, {'iata': 'ICT'}, {'iata': 'IFP'}, {'iata': 'IGM'}, {'iata': 'INW'}, {'iata': 'IPL'}, {'iata': 'IYK'}, {'iata': 'JAC'}, {'iata': 'KNB'}, {'iata': 'LAM'}, {'iata': 'LBB'}, {'iata': 'LGB'}, {'iata': 'LRU'}, {'iata': 'MAF'}, {'iata': 'MHV'}, {'iata': 'MLF'}, {'iata': 'MTJ'}, {'iata': 'MVM'}, {'iata': 'OKC'}, {'iata': 'OLS'}, {'iata': 'ONM'}, {'iata': 'PGA'}, {'iata': 'PMD'}, {'iata': 'POC'}, {'iata': 'PRC'}, {'iata': 'RAL'}, {'iata': 'RAP'}, {'iata': 'RBK'}, {'iata': 'ROW'}, {'iata': 'RST'}, {'iata': 'SAD'}, {'iata': 'SAF'}, {'iata': 'SBD'}, {'iata': 'SDX'}, {'iata': 'SGU'}, {'iata': 'SMO'}, {'iata': 'SOW'}, {'iata': 'SVC'}, {'iata': 'TEX'}, {'iata': 'TNP'}, {'iata': 'TOA'}, {'iata': 'TRM'}, {'iata': 'TUL'}, {'iata': 'VCV'}, {'iata': 'WJF'}, {'iata': 'YUM'}, {'iata': 'ABE'}, {'iata': 'AEX'}, {'iata': 'AND'}, {'iata': 'ATW'}, {'iata': 'AVP'}, {'iata': 'BKW'}, {'iata': 'BTR'}, {'iata': 'CEU'}, {'iata': 'CHA'}, {'iata': 'CMI'}, {'iata': 'CSG'}, {'iata': 'EVV'}, {'iata': 'FAY'}, {'iata': 'FLO'}, {'iata': 'FNT'}, {'iata': 'FYV'}, {'iata': 'GNV'}, {'iata': 'GPT'}, {'iata': 'HNC'}, {'iata': 'HPN'}, {'iata': 'HSV'}, {'iata': 'HTS'}, {'iata': 'ITH'}, {'iata': 'JAN'}, {'iata': 'LFT'}, {'iata': 'LIT'}, {'iata': 'LYH'}, {'iata': 'MGM'}, {'iata': 'MLB'}, {'iata': 'MOB'}, {'iata': 'OAJ'}, {'iata': 'PIA'}, {'iata': 'SBN'}, {'iata': 'SGF'}, {'iata': 'SHV'}, {'iata': 'TLH'}, {'iata': 'TOL'}, {'iata': 'TRI'}, {'iata': 'TUP'}, {'iata': 'AOO'}, {'iata': 'BFD'}, {'iata': 'DUJ'}, {'iata': 'HAO'}, {'iata': 'IDI'}, {'iata': 'LNS'}, {'iata': 'LWB'}, {'iata': 'MGW'}, {'iata': 'BHB'}, {'iata': 'FRG'}, {'iata': 'GFL'}, {'iata': 'GON'}, {'iata': 'JVI'}, {'iata': 'MVL'}, {'iata': 'OXC'}, {'iata': 'POU'}, {'iata': 'PVC'}, {'iata': 'SLK'}, {'iata': 'VRB'}, {'iata': 'ITO'}, {'iata': 'JHM'}, {'iata': 'LNY'}, {'iata': 'LUP'}, {'iata': 'MKK'}, {'iata': 'LAN'}, {'iata': 'AFO'}, {'iata': 'AIA'}, {'iata': 'ALS'}, {'iata': 'AMA'}, {'iata': 'ANY'}, {'iata': 'ATY'}, {'iata': 'AXX'}, {'iata': 'BFF'}, {'iata': 'BGD'}, {'iata': 'BKG'}, {'iata': 'BMI'}, {'iata': 'BTF'}, {'iata': 'CDR'}, {'iata': 'CNY'}, {'iata': 'COD'}, {'iata': 'COU'}, {'iata': 'CPR'}, {'iata': 'CVN'}, {'iata': 'CYS'}, {'iata': 'DDC'}, {'iata': 'DIK'}, {'iata': 'EAR'}, {'iata': 'EVW'}, {'iata': 'FNL'}, {'iata': 'GBD'}, {'iata': 'GCC'}, {'iata': 'GCK'}, {'iata': 'GLD'}, {'iata': 'GRI'}, {'iata': 'GTF'}, {'iata': 'GUC'}, {'iata': 'GWS'}, {'iata': 'GXY'}, {'iata': 'HDE'}, {'iata': 'HDN'}, {'iata': 'HLN'}, {'iata': 'HOB'}, {'iata': 'HSI'}, {'iata': 'HUT'}, {'iata': 'HYS'}, {'iata': 'ISN'}, {'iata': 'JLN'}, {'iata': 'JMS'}, {'iata': 'LAA'}, {'iata': 'LAR'}, {'iata': 'LBF'}, {'iata': 'LBL'}, {'iata': 'LGU'}, {'iata': 'LND'}, {'iata': 'LNK'}, {'iata': 'LVS'}, {'iata': 'LXN'}, {'iata': 'LXV'}, {'iata': 'MCK'}, {'iata': 'MLI'}, {'iata': 'MOT'}, {'iata': 'MPR'}, {'iata': 'OFK'}, {'iata': 'OGD'}, {'iata': 'OLU'}, {'iata': 'ONL'}, {'iata': 'PIR'}, {'iata': 'PSC'}, {'iata': 'PUB'}, {'iata': 'PUC'}, {'iata': 'PVU'}, {'iata': 'RIL'}, {'iata': 'RIW'}, {'iata': 'RKS'}, {'iata': 'RWL'}, {'iata': 'SAA'}, {'iata': 'SBS'}, {'iata': 'SHR'}, {'iata': 'SLN'}, {'iata': 'SNY'}, {'iata': 'SPF'}, {'iata': 'STK'}, {'iata': 'SUN'}, {'iata': 'SUX'}, {'iata': 'TOR'}, {'iata': 'TWF'}, {'iata': 'VEL'}, {'iata': 'WBU'}, {'iata': 'WRL'}, {'iata': 'WYS'}, {'iata': 'GKT'}, {'iata': 'ILG'}, {'iata': 'OGB'}, {'iata': 'ABI'}, {'iata': 'ACT'}, {'iata': 'ADM'}, {'iata': 'AGO'}, {'iata': 'ALI'}, {'iata': 'BKD'}, {'iata': 'BPT'}, {'iata': 'BRO'}, {'iata': 'BVO'}, {'iata': 'BWD'}, {'iata': 'CDH'}, {'iata': 'CFD'}, {'iata': 'CLL'}, {'iata': 'CNM'}, {'iata': 'CNU'}, {'iata': 'CRP'}, {'iata': 'CRS'}, {'iata': 'DRT'}, {'iata': 'DUC'}, {'iata': 'ELA'}, {'iata': 'ELD'}, {'iata': 'ELK'}, {'iata': 'EMP'}, {'iata': 'ETN'}, {'iata': 'FAI'}, {'iata': 'FLP'}, {'iata': 'FSM'}, {'iata': 'FST'}, {'iata': 'FTW'}, {'iata': 'GGG'}, {'iata': 'GLE'}, {'iata': 'GLH'}, {'iata': 'GLS'}, {'iata': 'GVT'}, {'iata': 'HEZ'}, {'iata': 'HOT'}, {'iata': 'HPY'}, {'iata': 'HRO'}, {'iata': 'ILE'}, {'iata': 'LAW'}, {'iata': 'LCH'}, {'iata': 'LFK'}, {'iata': 'LTS'}, {'iata': 'MHK'}, {'iata': 'MKO'}, {'iata': 'MLC'}, {'iata': 'MLU'}, {'iata': 'MMS'}, {'iata': 'MRF'}, {'iata': 'MWL'}, {'iata': 'OCH'}, {'iata': 'ONY'}, {'iata': 'PBF'}, {'iata': 'PEQ'}, {'iata': 'PNC'}, {'iata': 'PPF'}, {'iata': 'PRX'}, {'iata': 'PSN'}, {'iata': 'ROG'}, {'iata': 'RSN'}, {'iata': 'SEP'}, {'iata': 'SJT'}, {'iata': 'SPI'}, {'iata': 'SPS'}, {'iata': 'SWO'}, {'iata': 'TPL'}, {'iata': 'TRL'}, {'iata': 'TXK'}, {'iata': 'TYR'}, {'iata': 'VCT'}, {'iata': 'VHN'}, {'iata': 'WDG'}, {'iata': 'WLD'}, {'iata': 'AEL'}, {'iata': 'AID'}, {'iata': 'AIZ'}, {'iata': 'ALN'}, {'iata': 'ALO'}, {'iata': 'AMN'}, {'iata': 'AMW'}, {'iata': 'AOH'}, {'iata': 'APN'}, {'iata': 'ARB'}, {'iata': 'ARV'}, {'iata': 'ASX'}, {'iata': 'AUM'}, {'iata': 'AUW'}, {'iata': 'AXG'}, {'iata': 'AZO'}, {'iata': 'BEH'}, {'iata': 'BRL'}, {'iata': 'BWG'}, {'iata': 'CAD'}, {'iata': 'CCY'}, {'iata': 'CEY'}, {'iata': 'CGI'}, {'iata': 'CIN'}, {'iata': 'CIR'}, {'iata': 'CKB'}, {'iata': 'CKV'}, {'iata': 'CLI'}, {'iata': 'CMX'}, {'iata': 'CSQ'}, {'iata': 'CWI'}, {'iata': 'DBQ'}, {'iata': 'DEC'}, {'iata': 'DMO'}, {'iata': 'DNV'}, {'iata': 'DVN'}, {'iata': 'EAU'}, {'iata': 'EGV'}, {'iata': 'EKX'}, {'iata': 'ENL'}, {'iata': 'ENW'}, {'iata': 'EOK'}, {'iata': 'ESC'}, {'iata': 'FAM'}, {'iata': 'FBL'}, {'iata': 'FDY'}, {'iata': 'FFT'}, {'iata': 'FLD'}, {'iata': 'FOD'}, {'iata': 'FXY'}, {'iata': 'GBG'}, {'iata': 'GLR'}, {'iata': 'GQQ'}, {'iata': 'GRE'}, {'iata': 'GSH'}, {'iata': 'HLG'}, {'iata': 'HLM'}, {'iata': 'HNB'}, {'iata': 'HPT'}, {'iata': 'HTL'}, {'iata': 'HUF'}, {'iata': 'HYR'}, {'iata': 'IDG'}, {'iata': 'IJX'}, {'iata': 'IKK'}, {'iata': 'ILN'}, {'iata': 'IMT'}, {'iata': 'IOW'}, {'iata': 'IRK'}, {'iata': 'IRS'}, {'iata': 'ISW'}, {'iata': 'IWD'}, {'iata': 'JEF'}, {'iata': 'JOT'}, {'iata': 'JST'}, {'iata': 'JVL'}, {'iata': 'JXN'}, {'iata': 'LAF'}, {'iata': 'LOZ'}, {'iata': 'LSE'}, {'iata': 'LWV'}, {'iata': 'MAW'}, {'iata': 'MBL'}, {'iata': 'MBS'}, {'iata': 'MCD'}, {'iata': 'MCW'}, {'iata': 'MDH'}, {'iata': 'MFD'}, {'iata': 'MFI'}, {'iata': 'MGC'}, {'iata': 'MIE'}, {'iata': 'MIW'}, {'iata': 'MKG'}, {'iata': 'MKT'}, {'iata': 'MNM'}, {'iata': 'MNN'}, {'iata': 'MOP'}, {'iata': 'MQB'}, {'iata': 'MQT'}, {'iata': 'MTO'}, {'iata': 'MTW'}, {'iata': 'MUT'}, {'iata': 'MVN'}, {'iata': 'MWA'}, {'iata': 'MWO'}, {'iata': 'MZZ'}, {'iata': 'OKK'}, {'iata': 'ONA'}, {'iata': 'OSH'}, {'iata': 'OTM'}, {'iata': 'OWB'}, {'iata': 'PAH'}, {'iata': 'PHN'}, {'iata': 'PHT'}, {'iata': 'PKB'}, {'iata': 'PLN'}, {'iata': 'POF'}, {'iata': 'POH'}, {'iata': 'PTK'}, {'iata': 'RAC'}, {'iata': 'RHI'}, {'iata': 'RID'}, {'iata': 'RWF'}, {'iata': 'SBM'}, {'iata': 'SER'}, {'iata': 'SHD'}, {'iata': 'SIK'}, {'iata': 'SME'}, {'iata': 'SQI'}, {'iata': 'STC'}, {'iata': 'STE'}, {'iata': 'STJ'}, {'iata': 'SUE'}, {'iata': 'TBN'}, {'iata': 'UES'}, {'iata': 'UIN'}, {'iata': 'ULM'}, {'iata': 'VIH'}, {'iata': 'VLA'}, {'iata': 'VPZ'}, {'iata': 'VYS'}, {'iata': 'YNG'}, {'iata': 'BLI'}, {'iata': 'PRB'}, {'iata': 'AKN'}, {'iata': 'ALW'}, {'iata': 'AST'}, {'iata': 'BKE'}, {'iata': 'BNO'}, {'iata': 'CLM'}, {'iata': 'COE'}, {'iata': 'CVO'}, {'iata': 'EAT'}, {'iata': 'EPH'}, {'iata': 'HQM'}, {'iata': 'JNU'}, {'iata': 'KLS'}, {'iata': 'KTN'}, {'iata': 'LGD'}, {'iata': 'LMT'}, {'iata': 'LWS'}, {'iata': 'MWH'}, {'iata': 'MYL'}, {'iata': 'OLM'}, {'iata': 'OMK'}, {'iata': 'ONO'}, {'iata': 'ONP'}, {'iata': 'PUW'}, {'iata': 'PWT'}, {'iata': 'RBG'}, {'iata': 'RDD'}, {'iata': 'RLD'}, {'iata': 'RNT'}, {'iata': 'SIT'}, {'iata': 'SLE'}, {'iata': 'SUO'}, {'iata': 'TIW'}, {'iata': 'YKM'}, {'iata': 'ATS'}, {'iata': 'RME'}, {'iata': 'AUN'}, {'iata': 'BAM'}, {'iata': 'BIH'}, {'iata': 'BLU'}, {'iata': 'CEC'}, {'iata': 'CIC'}, {'iata': 'HTH'}, {'iata': 'HWD'}, {'iata': 'KIC'}, {'iata': 'LSN'}, {'iata': 'LVK'}, {'iata': 'MAE'}, {'iata': 'MCE'}, {'iata': 'MMH'}, {'iata': 'MOD'}, {'iata': 'MYV'}, {'iata': 'NFL'}, {'iata': 'NOT'}, {'iata': 'OVE'}, {'iata': 'OXR'}, {'iata': 'PAO'}, {'iata': 'PTV'}, {'iata': 'RBL'}, {'iata': 'RMY'}, {'iata': 'SNS'}, {'iata': 'SQL'}, {'iata': 'SZP'}, {'iata': 'TKF'}, {'iata': 'TPH'}, {'iata': 'TSP'}, {'iata': 'TVL'}, {'iata': 'UKI'}, {'iata': 'VIS'}, {'iata': 'VOK'}, {'iata': 'WLW'}, {'iata': 'WMC'}, {'iata': 'WVI'}, {'iata': 'FID'}, {'iata': 'PQI'}, {'iata': 'SFY'}, {'iata': 'WST'}, {'iata': 'SLH'}, {'iata': 'LRV'}, {'iata': 'VIG'}, {'iata': 'SLI'}]\n",
      "\n",
      "1782 airport codes have been obtained.\n"
     ]
    }
   ],
   "source": [
    "# Import libraries\n",
    "import requests\n",
    "\n",
    "\n",
    "# Set request data\n",
    "api= 'https://api.oan.one/assembler/etl/ej1'\n",
    "headers = {'oanToken': 'ZF7xNEuLAZ5DKLQAEGVUq6VquGLQdsL7'}\n",
    "\n",
    "\n",
    "# Make the request and store the data\n",
    "payload = requests.post(api, headers=headers)\n",
    "\n",
    "if payload.status_code == 200:\n",
    "    data = payload.json()['response']\n",
    "    print(data, end='\\n\\n')\n",
    "else:\n",
    "    print(\"Error:\", payload.status_code)\n",
    "    print(payload.text)\n",
    "\n",
    "\n",
    "# Keep only the codes\n",
    "iata_codes = []\n",
    "for code in data:\n",
    "    iata_codes.append(code['iata'])\n",
    "    \n",
    "print(len(iata_codes), 'airport codes have been obtained.')"
   ]
  },
  {
   "cell_type": "code",
   "execution_count": 28,
   "id": "d9a76c58",
   "metadata": {},
   "outputs": [
    {
     "name": "stdout",
     "output_type": "stream",
     "text": [
      "['SJZ', 'ESD', 'RCU']\n"
     ]
    }
   ],
   "source": [
    "# From the list, randomly select 50 airports\n",
    "import random\n",
    "\n",
    "random_iata = random.sample(iata_codes, 3)\n",
    "\n",
    "print(random_iata)"
   ]
  },
  {
   "attachments": {},
   "cell_type": "markdown",
   "id": "75973961",
   "metadata": {},
   "source": [
    "## Part 2:"
   ]
  },
  {
   "cell_type": "code",
   "execution_count": 29,
   "id": "b5a0a958-8b2d-4089-9fe1-e58c784f4d83",
   "metadata": {},
   "outputs": [
    {
     "name": "stdout",
     "output_type": "stream",
     "text": [
      "{'airport': {'name': 'São Jorge Airport', 'city': 'Sao Jorge Island', 'iata': 'SJZ', 'full_location': 'Sao Jorge Island, Autonomous Region of Azores, Portugal', 'type': 'airport', 'latitude': '38.665619', 'longitude': '-28.175666', 'elevation': '335', 'website': None, 'country': {'name': 'Portugal', 'iso': 'PT'}, 'state': {'name': 'Autonomous Region of Azores', 'type': 'District'}, 'continent': {'abbr': 'EU', 'name': 'Europe'}}, 'term': 'SJZ', 'status': True, 'statusCode': 200}\n",
      "{'airport': {'name': 'Orcas Island Airport ', 'city': 'Eastsound', 'iata': 'ESD', 'full_location': 'Eastsound, WA, United States', 'type': 'airport', 'latitude': '48.706868', 'longitude': '-122.910150', 'elevation': '27', 'website': 'http://www.portoforcas.com/', 'country': {'name': 'United States', 'iso': 'US'}, 'state': {'name': 'Washington', 'abbr': 'WA', 'type': 'State'}, 'continent': {'abbr': 'NA', 'name': 'North America'}}, 'term': 'ESD', 'status': True, 'statusCode': 200}\n",
      "{'airport': {'name': 'Las Higueras Airport', 'city': 'Rio Cuarto', 'iata': 'RCU', 'full_location': 'Rio Cuarto, Córdoba, Argentina', 'type': 'airport', 'latitude': '-33.085098', 'longitude': '-64.261299', 'elevation': '1381', 'website': None, 'country': {'name': 'Argentina', 'iso': 'AR'}, 'state': {'name': 'Córdoba', 'type': 'Province'}, 'continent': {'abbr': 'SA', 'name': 'South America'}}, 'term': 'RCU', 'status': True, 'statusCode': 200}\n"
     ]
    }
   ],
   "source": [
    "# Set the data for the second request\n",
    "apc_headers = {'APC-Auth': '2b0655e3fc', 'APC-Auth-Secret': 'e7acae56b0a4196 '}\n",
    "api_apc = 'https://www.air-port-codes.com/' + 'api/v1/single'\n",
    "\n",
    "# Request the data for each airport\n",
    "result = []\n",
    "\n",
    "for code in random_iata:\n",
    "    payload = requests.post(api_apc, headers=apc_headers, data = {'iata': code})\n",
    "    data = payload.json()\n",
    "    print(data)\n",
    "    \n",
    "    result.append({\n",
    "        \"ID\": data['airport']['iata'],\n",
    "        \"name\":data['airport']['name'],\n",
    "        \"latitude\": data['airport']['latitude'],\n",
    "        \"longitude\": data['airport']['longitude'],\n",
    "        \"country\": data['airport']['country']['name'],\n",
    "        \"city\": data['airport']['city'],\n",
    "        \"continent\":data['airport']['continent']['name']\n",
    "    })"
   ]
  },
  {
   "cell_type": "code",
   "execution_count": 30,
   "id": "9b07a49c",
   "metadata": {},
   "outputs": [
    {
     "data": {
      "text/plain": [
       "{'APC-Auth': '2b0655e3fc', 'APC-Auth-Secret': 'e7acae56b0a4196 '}"
      ]
     },
     "execution_count": 30,
     "metadata": {},
     "output_type": "execute_result"
    }
   ],
   "source": [
    "apc_headers"
   ]
  },
  {
   "cell_type": "code",
   "execution_count": 31,
   "id": "ded706a2-7d29-443a-a8a0-35b11a4bbdcb",
   "metadata": {},
   "outputs": [
    {
     "data": {
      "text/plain": [
       "3"
      ]
     },
     "execution_count": 31,
     "metadata": {},
     "output_type": "execute_result"
    }
   ],
   "source": [
    "len(result)"
   ]
  },
  {
   "cell_type": "code",
   "execution_count": 32,
   "id": "9a9ec564-0701-436d-941d-01c800b55807",
   "metadata": {},
   "outputs": [
    {
     "data": {
      "text/plain": [
       "[{'ID': 'SJZ',\n",
       "  'name': 'São Jorge Airport',\n",
       "  'latitude': '38.665619',\n",
       "  'longitude': '-28.175666',\n",
       "  'country': 'Portugal',\n",
       "  'city': 'Sao Jorge Island',\n",
       "  'continent': 'Europe'},\n",
       " {'ID': 'ESD',\n",
       "  'name': 'Orcas Island Airport ',\n",
       "  'latitude': '48.706868',\n",
       "  'longitude': '-122.910150',\n",
       "  'country': 'United States',\n",
       "  'city': 'Eastsound',\n",
       "  'continent': 'North America'},\n",
       " {'ID': 'RCU',\n",
       "  'name': 'Las Higueras Airport',\n",
       "  'latitude': '-33.085098',\n",
       "  'longitude': '-64.261299',\n",
       "  'country': 'Argentina',\n",
       "  'city': 'Rio Cuarto',\n",
       "  'continent': 'South America'}]"
      ]
     },
     "execution_count": 32,
     "metadata": {},
     "output_type": "execute_result"
    }
   ],
   "source": [
    "result"
   ]
  },
  {
   "cell_type": "code",
   "execution_count": null,
   "id": "4134f680",
   "metadata": {},
   "outputs": [],
   "source": [
    "# The rest of the code is a well-known story."
   ]
  }
 ],
 "metadata": {
  "kernelspec": {
   "display_name": "Python 3 (ipykernel)",
   "language": "python",
   "name": "python3"
  },
  "language_info": {
   "codemirror_mode": {
    "name": "ipython",
    "version": 3
   },
   "file_extension": ".py",
   "mimetype": "text/x-python",
   "name": "python",
   "nbconvert_exporter": "python",
   "pygments_lexer": "ipython3",
   "version": "3.9.12"
  },
  "toc": {
   "base_numbering": 1,
   "nav_menu": {},
   "number_sections": true,
   "sideBar": true,
   "skip_h1_title": false,
   "title_cell": "Table of Contents",
   "title_sidebar": "Contents",
   "toc_cell": false,
   "toc_position": {},
   "toc_section_display": true,
   "toc_window_display": false
  }
 },
 "nbformat": 4,
 "nbformat_minor": 5
}
