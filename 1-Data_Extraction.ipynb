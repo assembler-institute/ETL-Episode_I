{
 "cells": [
  {
   "cell_type": "markdown",
   "id": "f2049e07",
   "metadata": {},
   "source": [
    "# ETL I: Data Extraction Part I\n",
    "\n",
    "\n",
    "<img width=80 src=\"https://media.giphy.com/media/KAq5w47R9rmTuvWOWa/giphy.gif\">\n",
    "\n",
    "<img width=150 src=\"../Images/assblr.png\">\n",
    "\n",
    "***"
   ]
  },
  {
   "cell_type": "markdown",
   "id": "434b7188",
   "metadata": {},
   "source": [
    "The first phase of an ETL is to get the data. We have several possibilities to obtain data, but the most important are:\n",
    "\n",
    "-   Data from local resources (CSV, txt, word, excel, ...)\n",
    "-   Data from apis\n",
    "-   Data from the internet (Scrapping or documents)\n",
    "\n",
    "## Data from local sources\n",
    "\n",
    "In this first part we'll learn how to get data from local files from our computer or the server we're working at.\n",
    "\n",
    "### open()\n",
    "\n",
    "The open() function opens a file, and returns it as a file object.\n",
    "\n",
    "We can specify how to open the file with the mode values:\n",
    "\n",
    "-   **r**: Read - (It's the Default method if not specified). Opens a\n",
    "    file for reading, return an error if the file does not exist.\n",
    "-   **a**: Append - Opens a file for appending, creates the file if it does not exist.\n",
    "-   **w**: Write - Opens a file for writing, creates the file if it does not exist.\n",
    "-   **x**: Create - Creates the specified file, returns an error if the file exist.\n",
    "\n",
    "Also we can setup the file type:\n",
    "\n",
    "-   **t**: Text - Default value. Text mode\n",
    "-   **b**: Binary - Binary mode (e.g. images)\n",
    "\n",
    "We'll have to use the command `read()` if we want to access to the content of the file (usually).\n",
    "\n",
    "#### Opening a plain text file"
   ]
  },
  {
   "cell_type": "code",
   "execution_count": 3,
   "id": "62b6311d",
   "metadata": {},
   "outputs": [
    {
     "data": {
      "text/plain": [
       "'Lorem ipsum dolor sit amet, consectetur adipiscing elit. Aenean sodales cursus erat sit amet volutpat. Proin urna urna, consequat a pellentesque vitae, ultrices sit amet nisl. Etiam commodo ligula et eros lobortis, in sollicitudin arcu lacinia. Praesent nec malesuada urna. Nunc id efficitur ex. Sed vitae neque ac est aliquet scelerisque. Sed aliquet felis lacus, in fermentum ante consequat eu.\\n\\nPraesent eu elementum elit. Integer ex odio, faucibus ac dolor quis, facilisis ullamcorper arcu. Vestibulum in egestas velit. Nunc sit amet interdum leo. Nulla consectetur felis eget fermentum elementum. Nulla facilisi. Sed rutrum nulla nulla, vitae mattis sem faucibus non. Maecenas aliquam tristique congue. Integer non magna turpis. Nunc sit amet suscipit libero, vel maximus tellus. Praesent eros sapien, pharetra ullamcorper lectus ac, cursus aliquam metus. Sed molestie lobortis magna vel fringilla.\\n\\nDonec quis ipsum est. Donec sed auctor enim. Pellentesque posuere massa a bibendum blandit. Aenean vitae aliquet elit. Suspendisse potenti. Maecenas at neque a purus hendrerit auctor et ut sapien. Nam malesuada ut est eu finibus. In hac habitasse platea dictumst. Ut gravida consectetur nisi, a imperdiet eros pretium id. Vivamus vehicula ac dui nec sodales. Aliquam porttitor arcu orci, eget congue urna posuere sed. Aenean vitae magna convallis, dapibus felis non, condimentum leo.\\n\\nInteger pretium, arcu eu bibendum vulputate, lectus lacus egestas neque, eu ultricies felis nisl nec ligula. In facilisis orci sollicitudin, molestie lorem ac, elementum augue. Cras fermentum maximus vestibulum. Donec ac bibendum massa. Nam ante lorem, suscipit a augue sed, convallis condimentum dui. Pellentesque a molestie odio, in porta diam. Cras sollicitudin diam nulla, dictum dapibus enim cursus non.\\n\\nDuis in varius ante. Donec aliquam semper augue eu dignissim. Aenean feugiat nunc magna, id vestibulum libero ultricies in. Suspendisse euismod convallis dui. Curabitur semper massa a lacinia varius. Praesent id nisl sapien. Curabitur condimentum elit orci, ac lacinia dui facilisis ac. Fusce ac diam sed odio efficitur sollicitudin. Nam maximus mauris ut venenatis iaculis. Cras quis luctus dolor. Donec iaculis purus metus, eget gravida metus rhoncus eget. Lorem ipsum dolor sit amet, consectetur adipiscing elit.'"
      ]
     },
     "execution_count": 3,
     "metadata": {},
     "output_type": "execute_result"
    }
   ],
   "source": [
    "open('../sources/example.txt').read()"
   ]
  },
  {
   "cell_type": "markdown",
   "id": "85abdec2",
   "metadata": {},
   "source": [
    "#### Opening a csv"
   ]
  },
  {
   "cell_type": "code",
   "execution_count": 4,
   "id": "98f62b1d",
   "metadata": {},
   "outputs": [
    {
     "data": {
      "text/plain": [
       "'code;name;manufacturer;pax;type\\nA321;Airbus A321;Airbus;230;Single Aisle\\nB789;Boeing 787-9;Boeing;350;Double Aisle\\nB77W;Boeing 777 Long Range;Boeing;410;Double Aisle\\nA35X;Airbus A350-1000;Airbus;490;Double Aisle\\n'"
      ]
     },
     "execution_count": 4,
     "metadata": {},
     "output_type": "execute_result"
    }
   ],
   "source": [
    "open('../sources/aircrafts.csv').read()"
   ]
  },
  {
   "cell_type": "markdown",
   "id": "62cbf3bb",
   "metadata": {},
   "source": [
    "Which is not the same than doing this:"
   ]
  },
  {
   "cell_type": "code",
   "execution_count": 22,
   "id": "3927127f",
   "metadata": {},
   "outputs": [
    {
     "name": "stdout",
     "output_type": "stream",
     "text": [
      "code;name;manufacturer;pax;type\n",
      "A321;Airbus A321;Airbus;230;Single Aisle\n",
      "B789;Boeing 787-9;Boeing;350;Double Aisle\n",
      "B77W;Boeing 777 Long Range;Boeing;410;Double Aisle\n",
      "A35X;Airbus A350-1000;Airbus;490;Double Aisle\n",
      "\n"
     ]
    }
   ],
   "source": [
    "print(open('../sources/aircrafts.csv').read())"
   ]
  },
  {
   "cell_type": "markdown",
   "id": "c4af37d2",
   "metadata": {},
   "source": [
    "<font size=\"4\">Capisci? 🧐</font>\n",
    "\n",
    "Or you can do this:"
   ]
  },
  {
   "cell_type": "code",
   "execution_count": 23,
   "id": "5ded6803",
   "metadata": {},
   "outputs": [
    {
     "name": "stdout",
     "output_type": "stream",
     "text": [
      "['code', 'name', 'manufacturer', 'pax', 'type']\n",
      "['A321', 'Airbus A321', 'Airbus', '230', 'Single Aisle']\n",
      "['B789', 'Boeing 787-9', 'Boeing', '350', 'Double Aisle']\n",
      "['B77W', 'Boeing 777 Long Range', 'Boeing', '410', 'Double Aisle']\n",
      "['A35X', 'Airbus A350-1000', 'Airbus', '490', 'Double Aisle']\n",
      "['']\n"
     ]
    }
   ],
   "source": [
    "for r in open('../sources/aircrafts.csv').read().split('\\n'):\n",
    "    print(r.split(';'))"
   ]
  },
  {
   "cell_type": "markdown",
   "id": "2b3a88ab",
   "metadata": {},
   "source": [
    "As can be seen, we can open any text related format in the same way. A different topic is how to use that data, but we'll get into that point later."
   ]
  },
  {
   "cell_type": "markdown",
   "id": "8e5f1e2d",
   "metadata": {},
   "source": [
    "### Open datasets with pandas\n",
    "\n",
    "Pandas is an open source Python package that is most widely used for data science/data analysis and machine learning tasks. It is built on top of another package named Numpy. It's a powerfull library to work with dataframes mainly.\n",
    "\n",
    "It can also open and convert to dataframes excel files or csv files.\n",
    "\n",
    "You can install pandas with: `pip install pandas` and load it with\n",
    "`import pandas as pd`\n",
    "\n",
    "To read a csv we have the native function `.read_csv()`. We can specify\n",
    "the separator with the option `sep=`"
   ]
  },
  {
   "cell_type": "code",
   "execution_count": 6,
   "id": "5dce3a44",
   "metadata": {},
   "outputs": [
    {
     "data": {
      "text/html": [
       "<div>\n",
       "<style scoped>\n",
       "    .dataframe tbody tr th:only-of-type {\n",
       "        vertical-align: middle;\n",
       "    }\n",
       "\n",
       "    .dataframe tbody tr th {\n",
       "        vertical-align: top;\n",
       "    }\n",
       "\n",
       "    .dataframe thead th {\n",
       "        text-align: right;\n",
       "    }\n",
       "</style>\n",
       "<table border=\"1\" class=\"dataframe\">\n",
       "  <thead>\n",
       "    <tr style=\"text-align: right;\">\n",
       "      <th></th>\n",
       "      <th>code</th>\n",
       "      <th>name</th>\n",
       "      <th>manufacturer</th>\n",
       "      <th>pax</th>\n",
       "      <th>type</th>\n",
       "    </tr>\n",
       "  </thead>\n",
       "  <tbody>\n",
       "    <tr>\n",
       "      <th>0</th>\n",
       "      <td>A321</td>\n",
       "      <td>Airbus A321</td>\n",
       "      <td>Airbus</td>\n",
       "      <td>230</td>\n",
       "      <td>Single Aisle</td>\n",
       "    </tr>\n",
       "    <tr>\n",
       "      <th>1</th>\n",
       "      <td>B789</td>\n",
       "      <td>Boeing 787-9</td>\n",
       "      <td>Boeing</td>\n",
       "      <td>350</td>\n",
       "      <td>Double Aisle</td>\n",
       "    </tr>\n",
       "    <tr>\n",
       "      <th>2</th>\n",
       "      <td>B77W</td>\n",
       "      <td>Boeing 777 Long Range</td>\n",
       "      <td>Boeing</td>\n",
       "      <td>410</td>\n",
       "      <td>Double Aisle</td>\n",
       "    </tr>\n",
       "    <tr>\n",
       "      <th>3</th>\n",
       "      <td>A35X</td>\n",
       "      <td>Airbus A350-1000</td>\n",
       "      <td>Airbus</td>\n",
       "      <td>490</td>\n",
       "      <td>Double Aisle</td>\n",
       "    </tr>\n",
       "  </tbody>\n",
       "</table>\n",
       "</div>"
      ],
      "text/plain": [
       "   code                   name manufacturer  pax          type\n",
       "0  A321            Airbus A321       Airbus  230  Single Aisle\n",
       "1  B789           Boeing 787-9       Boeing  350  Double Aisle\n",
       "2  B77W  Boeing 777 Long Range       Boeing  410  Double Aisle\n",
       "3  A35X       Airbus A350-1000       Airbus  490  Double Aisle"
      ]
     },
     "execution_count": 6,
     "metadata": {},
     "output_type": "execute_result"
    }
   ],
   "source": [
    "import pandas as pd\n",
    "\n",
    "pd.read_csv('../sources/aircrafts.csv', sep=';')"
   ]
  },
  {
   "cell_type": "markdown",
   "id": "0ee515a9",
   "metadata": {},
   "source": [
    "Pandas can also load and prepare Excel files to be used with the function `.read_excel()`"
   ]
  },
  {
   "cell_type": "code",
   "execution_count": 9,
   "id": "163c8600",
   "metadata": {},
   "outputs": [
    {
     "data": {
      "text/html": [
       "<div>\n",
       "<style scoped>\n",
       "    .dataframe tbody tr th:only-of-type {\n",
       "        vertical-align: middle;\n",
       "    }\n",
       "\n",
       "    .dataframe tbody tr th {\n",
       "        vertical-align: top;\n",
       "    }\n",
       "\n",
       "    .dataframe thead th {\n",
       "        text-align: right;\n",
       "    }\n",
       "</style>\n",
       "<table border=\"1\" class=\"dataframe\">\n",
       "  <thead>\n",
       "    <tr style=\"text-align: right;\">\n",
       "      <th></th>\n",
       "      <th>code</th>\n",
       "      <th>name</th>\n",
       "      <th>manufacturer</th>\n",
       "      <th>pax</th>\n",
       "      <th>type</th>\n",
       "    </tr>\n",
       "  </thead>\n",
       "  <tbody>\n",
       "    <tr>\n",
       "      <th>0</th>\n",
       "      <td>A321</td>\n",
       "      <td>Airbus A321</td>\n",
       "      <td>Airbus</td>\n",
       "      <td>230</td>\n",
       "      <td>Single Aisle</td>\n",
       "    </tr>\n",
       "    <tr>\n",
       "      <th>1</th>\n",
       "      <td>B789</td>\n",
       "      <td>Boeing 787-9</td>\n",
       "      <td>Boeing</td>\n",
       "      <td>350</td>\n",
       "      <td>Double Aisle</td>\n",
       "    </tr>\n",
       "    <tr>\n",
       "      <th>2</th>\n",
       "      <td>B77W</td>\n",
       "      <td>Boeing 777 Long Range</td>\n",
       "      <td>Boeing</td>\n",
       "      <td>410</td>\n",
       "      <td>Double Aisle</td>\n",
       "    </tr>\n",
       "    <tr>\n",
       "      <th>3</th>\n",
       "      <td>A35X</td>\n",
       "      <td>Airbus A350-1000</td>\n",
       "      <td>Airbus</td>\n",
       "      <td>490</td>\n",
       "      <td>Double Aisle</td>\n",
       "    </tr>\n",
       "  </tbody>\n",
       "</table>\n",
       "</div>"
      ],
      "text/plain": [
       "   code                   name manufacturer  pax          type\n",
       "0  A321            Airbus A321       Airbus  230  Single Aisle\n",
       "1  B789           Boeing 787-9       Boeing  350  Double Aisle\n",
       "2  B77W  Boeing 777 Long Range       Boeing  410  Double Aisle\n",
       "3  A35X       Airbus A350-1000       Airbus  490  Double Aisle"
      ]
     },
     "execution_count": 9,
     "metadata": {},
     "output_type": "execute_result"
    }
   ],
   "source": [
    "pd.read_excel('../sources/aircrafts.xlsx')"
   ]
  },
  {
   "cell_type": "markdown",
   "id": "1e128e92",
   "metadata": {},
   "source": [
    "### Opening doc and docx\n",
    "\n",
    "To open word documents we can use the library `docx2txt` and easily\n",
    "process it.\n",
    "\n",
    "Install the library running in the Anaconda prompt\n",
    "`pip install docx2txt`\n",
    "\n",
    "The document can be open with the `process()` command"
   ]
  },
  {
   "cell_type": "code",
   "execution_count": 13,
   "id": "ac5ff56e",
   "metadata": {},
   "outputs": [
    {
     "data": {
      "text/plain": [
       "'Lorem ipsum dolor sit amet, consectetur adipiscing elit. Vestibulum euismod ante nibh, vel commodo lectus elementum non. Mauris molestie arcu id mi tempor, nec venenatis enim feugiat. In sit amet nisi at sem semper mollis vel sit amet quam. Phasellus non accumsan felis. Sed pretium ligula sed elit porta, in mollis ligula auctor. Mauris volutpat elit est, sit amet feugiat nunc auctor non. Sed sodales vitae arcu eu aliquam. Proin dictum odio malesuada malesuada gravida. Proin vel urna erat.\\n\\nCurabitur faucibus accumsan est, non efficitur odio aliquet eu. Vestibulum ante ipsum primis in faucibus orci luctus et ultrices posuere cubilia curae; Phasellus lorem erat, malesuada ut eros in, commodo euismod nunc. In feugiat erat in nisl congue viverra. Nunc laoreet sit amet quam id consequat. Nulla interdum, mauris eu finibus dapibus, metus urna finibus risus, eu pharetra eros diam in quam. Nam vitae risus nisl. Donec ornare ut arcu sed suscipit.\\n\\nPellentesque porta nibh quis dui varius consectetur. Ut accumsan tristique diam, et dignissim nulla malesuada nec. Nullam sagittis iaculis lorem vitae congue. Ut congue finibus sem, eu pellentesque quam sodales id. Proin varius augue et commodo accumsan. Class aptent taciti sociosqu ad litora torquent per conubia nostra, per inceptos himenaeos. Pellentesque fringilla libero sem, ac porta nisi blandit sed.\\n\\nNullam eu erat felis. Sed id sapien sed lacus feugiat placerat vitae id est. Donec fringilla facilisis nulla quis consequat. Sed felis nulla, placerat in sodales vitae, malesuada eget nulla. Vestibulum euismod convallis justo, ac venenatis nunc cursus vitae. Nam et nisl sit amet ligula ornare eleifend. Sed nibh velit, congue nec ornare id, accumsan ac orci.\\n\\nCurabitur aliquam est sed velit imperdiet, quis luctus metus tincidunt. Sed rutrum sed lacus sed suscipit. Aliquam erat volutpat. Donec nec metus nibh. Class aptent taciti sociosqu ad litora torquent per conubia nostra, per inceptos himenaeos. Nunc a tincidunt enim, eu sodales lacus. Aenean risus est, dictum eu dictum et, molestie vitae neque. Vivamus commodo nunc purus, quis condimentum risus dictum eu.'"
      ]
     },
     "execution_count": 13,
     "metadata": {},
     "output_type": "execute_result"
    }
   ],
   "source": [
    "import docx2txt\n",
    "\n",
    "docx2txt.process('../sources/lorem_ipsum_word.docx')"
   ]
  },
  {
   "cell_type": "markdown",
   "id": "f3e68944",
   "metadata": {},
   "source": [
    "## Getting data from APIs\n",
    "\n",
    "First thing we need to understand is what an api is. API stands for “Application Programming Interface,” which is a way to communicate between different software services. Different types of APIs are used in programming hardware and software, including operating systemAPIs, remote APIs and web APIs.\n",
    "\n",
    "A web API or web service API is a set of tools that allow developers to send and receive instructions and data between a web server and a web browser — usually in JSON format — to build applications.\n",
    "\n",
    "The APIs will allow us, for our purpouse, to get data from a remote source, without the need to connect directly to the source (SQL, Mongo, local files, CMS, ERP, ...) and many of them will already provide some kind of data preparation.\n",
    "\n",
    "To connect with APIs we'll use the library `requests`.\n",
    "\n",
    "Also, we need to keep in mind that each API is different from the others. Most of them provide extensive documentation on how to use them.\n",
    "\n",
    "As a general piece of knowledge, the fundamental HTTP protocol verbs are: GET, POST, PUT, and DELETE. In our discussion, we will specifically focus on the first two. When it comes to connecting with APIs, the most prevalent methods employed are POST and GET. However, it is important to understand the distinctions between these two methods. What exactly do POST and GET entail, and how do they differ from each other?\n",
    "\n",
    "In a nutshell, with GET, we simply call a URL and retrieve data (you can even access that URL with your browser to see the data). On the other hand, with POST, you \"post\" data to the server and receive information in return.\n",
    "\n",
    "Let's take a look at some examples in action!\n",
    "\n",
    "\n",
    "### Importing the request library"
   ]
  },
  {
   "cell_type": "code",
   "execution_count": 2,
   "id": "f1e98dce",
   "metadata": {},
   "outputs": [],
   "source": [
    "import requests"
   ]
  },
  {
   "cell_type": "markdown",
   "id": "f9a99413",
   "metadata": {},
   "source": [
    "Once we have the library imported, let's make some previous setup. Not all the setups we'll make are mandatory, but they will avoid some common errors and blocks.\n",
    "\n",
    "You can always copy paste the mayority of this details since the're common to any project.\n",
    "\n",
    "**Setup the headers**\n",
    "\n",
    "What are the headers? An HTTP request header is a component of a network\n",
    "packet sent by a browser or client to the server to request for a\n",
    "specific page or data on the Web server. It is used in Web\n",
    "communications or Internet browsing to transport user requests to the\n",
    "corresponding website’s Web server.\n",
    "\n",
    "We'll setup the User-Agent header, to tell the service we are a user\n",
    "using a firefox browser. We can also setup the Accept content header, to\n",
    "specify some format of the data."
   ]
  },
  {
   "cell_type": "code",
   "execution_count": 3,
   "id": "ae4453bd",
   "metadata": {},
   "outputs": [],
   "source": [
    "basic_headers = {'User-Agent': 'Mozilla/5.0'}"
   ]
  },
  {
   "cell_type": "markdown",
   "id": "daf18d9c",
   "metadata": {},
   "source": [
    "### GET Request\n",
    "\n",
    "And now it's time to see an example `GET` request.\n",
    "\n",
    "We'll use the opensource API named **The Cocktail DB** $ \\rightarrow $ <https://www.thecocktaildb.com/api.php>\n",
    "\n",
    "Let us choose *Lookup a random cocktail* using the following webpage as a URL to request info:\n",
    "\n",
    "www.thecocktaildb.com/api/json/v1/1/random.php"
   ]
  },
  {
   "cell_type": "code",
   "execution_count": 26,
   "id": "4052dbf1",
   "metadata": {},
   "outputs": [
    {
     "name": "stdout",
     "output_type": "stream",
     "text": [
      "<Response [200]>\n"
     ]
    }
   ],
   "source": [
    "endpoint = 'https://www.thecocktaildb.com/api/json/v1/1/random.php'\n",
    "payload = requests.get(endpoint, headers=basic_headers)\n",
    "print(payload)"
   ]
  },
  {
   "cell_type": "markdown",
   "id": "f48b960b",
   "metadata": {},
   "source": [
    "As you can see, we have received a 200 code, but; What's a 200 code?\n",
    "\n",
    "The 200 code means that everything is ok. You will probably know some of this codes:\n",
    "\n",
    "-   **200 - OK code:** A 200 is the most common type of response code, and\n",
    "    the one we experience most of the time when browsing the web. We\n",
    "    asked to see a web page, and it was presented to us without any\n",
    "    trouble.\n",
    "-   **301 or 302 Moved:** The content has been moved to another URL,\n",
    "    temporarily or pemanently\n",
    "-   **401 Unauthorized:** We've requested a content, some kind of login is\n",
    "    required to access it (token, user + password, certificate, ...).\n",
    "-   **403 Forbidden:** We've requested a content that we don't have\n",
    "    permission to access at all. This page isn't for us.\n",
    "-   **404 Not Found:** We've requested a content, but the web server doesn't\n",
    "    recognize our request. The page can't be shown because the server\n",
    "    doesn't know what it is.\n",
    "-   **500 Internal Server Error:** We've requested a page, and in return, we\n",
    "    get a generic error message. No information is given.\n",
    "-   **503 Service Unavailable:** We asked for a page, but are told that it\n",
    "    is temporarily unavailable. Something is wrong. Perhaps the website\n",
    "    is down for maintenance or the payload we sent is incorrect.\n",
    "\n",
    "Once we know about those codes you may be asking, ok but what I do with\n",
    "that 200 code? Where's the content?\n",
    "\n",
    "Let's access to it with the `.content` attribute"
   ]
  },
  {
   "cell_type": "code",
   "execution_count": 27,
   "id": "b971d469",
   "metadata": {},
   "outputs": [
    {
     "data": {
      "text/plain": [
       "b'{\"drinks\":[{\"idDrink\":\"17212\",\"strDrink\":\"Espresso Martini\",\"strDrinkAlternate\":null,\"strTags\":\"IBA,NewEra\",\"strVideo\":null,\"strCategory\":\"Cocktail\",\"strIBA\":\"New Era Drinks\",\"strAlcoholic\":\"Alcoholic\",\"strGlass\":\"Cocktail glass\",\"strInstructions\":\"Pour ingredients into shaker filled with ice, shake vigorously, and strain into chilled martini glass\",\"strInstructionsES\":null,\"strInstructionsDE\":\"Zutaten in einen mit Eis gef\\\\u00fcllten Shaker geben, kr\\\\u00e4ftig sch\\\\u00fctteln und in ein gek\\\\u00fchltes Martini-Glas abseihen.\",\"strInstructionsFR\":null,\"strInstructionsIT\":\"Versare gli ingredienti in uno shaker pieno di ghiaccio, shakerare energicamente e filtrare in un bicchiere da martini freddo\",\"strInstructionsZH-HANS\":null,\"strInstructionsZH-HANT\":null,\"strDrinkThumb\":\"https:\\\\/\\\\/www.thecocktaildb.com\\\\/images\\\\/media\\\\/drink\\\\/n0sx531504372951.jpg\",\"strIngredient1\":\"Vodka\",\"strIngredient2\":\"Kahlua\",\"strIngredient3\":\"Sugar syrup\",\"strIngredient4\":null,\"strIngredient5\":null,\"strIngredient6\":null,\"strIngredient7\":null,\"strIngredient8\":null,\"strIngredient9\":null,\"strIngredient10\":null,\"strIngredient11\":null,\"strIngredient12\":null,\"strIngredient13\":null,\"strIngredient14\":null,\"strIngredient15\":null,\"strMeasure1\":\"5 cl\",\"strMeasure2\":\"1 cl\",\"strMeasure3\":\"1 dash\",\"strMeasure4\":null,\"strMeasure5\":null,\"strMeasure6\":null,\"strMeasure7\":null,\"strMeasure8\":null,\"strMeasure9\":null,\"strMeasure10\":null,\"strMeasure11\":null,\"strMeasure12\":null,\"strMeasure13\":null,\"strMeasure14\":null,\"strMeasure15\":null,\"strImageSource\":null,\"strImageAttribution\":null,\"strCreativeCommonsConfirmed\":\"No\",\"dateModified\":\"2017-09-02 18:22:31\"}]}'"
      ]
     },
     "execution_count": 27,
     "metadata": {},
     "output_type": "execute_result"
    }
   ],
   "source": [
    "payload.content"
   ]
  },
  {
   "cell_type": "markdown",
   "id": "5fe9a519",
   "metadata": {},
   "source": [
    "In this case, the content is a JSON. The easiest way to work with its content is directly get the content with the `.json()` function"
   ]
  },
  {
   "cell_type": "code",
   "execution_count": 28,
   "id": "e011c225",
   "metadata": {},
   "outputs": [
    {
     "data": {
      "text/plain": [
       "{'drinks': [{'idDrink': '17212',\n",
       "   'strDrink': 'Espresso Martini',\n",
       "   'strDrinkAlternate': None,\n",
       "   'strTags': 'IBA,NewEra',\n",
       "   'strVideo': None,\n",
       "   'strCategory': 'Cocktail',\n",
       "   'strIBA': 'New Era Drinks',\n",
       "   'strAlcoholic': 'Alcoholic',\n",
       "   'strGlass': 'Cocktail glass',\n",
       "   'strInstructions': 'Pour ingredients into shaker filled with ice, shake vigorously, and strain into chilled martini glass',\n",
       "   'strInstructionsES': None,\n",
       "   'strInstructionsDE': 'Zutaten in einen mit Eis gefüllten Shaker geben, kräftig schütteln und in ein gekühltes Martini-Glas abseihen.',\n",
       "   'strInstructionsFR': None,\n",
       "   'strInstructionsIT': 'Versare gli ingredienti in uno shaker pieno di ghiaccio, shakerare energicamente e filtrare in un bicchiere da martini freddo',\n",
       "   'strInstructionsZH-HANS': None,\n",
       "   'strInstructionsZH-HANT': None,\n",
       "   'strDrinkThumb': 'https://www.thecocktaildb.com/images/media/drink/n0sx531504372951.jpg',\n",
       "   'strIngredient1': 'Vodka',\n",
       "   'strIngredient2': 'Kahlua',\n",
       "   'strIngredient3': 'Sugar syrup',\n",
       "   'strIngredient4': None,\n",
       "   'strIngredient5': None,\n",
       "   'strIngredient6': None,\n",
       "   'strIngredient7': None,\n",
       "   'strIngredient8': None,\n",
       "   'strIngredient9': None,\n",
       "   'strIngredient10': None,\n",
       "   'strIngredient11': None,\n",
       "   'strIngredient12': None,\n",
       "   'strIngredient13': None,\n",
       "   'strIngredient14': None,\n",
       "   'strIngredient15': None,\n",
       "   'strMeasure1': '5 cl',\n",
       "   'strMeasure2': '1 cl',\n",
       "   'strMeasure3': '1 dash',\n",
       "   'strMeasure4': None,\n",
       "   'strMeasure5': None,\n",
       "   'strMeasure6': None,\n",
       "   'strMeasure7': None,\n",
       "   'strMeasure8': None,\n",
       "   'strMeasure9': None,\n",
       "   'strMeasure10': None,\n",
       "   'strMeasure11': None,\n",
       "   'strMeasure12': None,\n",
       "   'strMeasure13': None,\n",
       "   'strMeasure14': None,\n",
       "   'strMeasure15': None,\n",
       "   'strImageSource': None,\n",
       "   'strImageAttribution': None,\n",
       "   'strCreativeCommonsConfirmed': 'No',\n",
       "   'dateModified': '2017-09-02 18:22:31'}]}"
      ]
     },
     "execution_count": 28,
     "metadata": {},
     "output_type": "execute_result"
    }
   ],
   "source": [
    "payload.json()"
   ]
  },
  {
   "cell_type": "code",
   "execution_count": 29,
   "id": "14163293",
   "metadata": {},
   "outputs": [
    {
     "data": {
      "text/plain": [
       "'Espresso Martini'"
      ]
     },
     "execution_count": 29,
     "metadata": {},
     "output_type": "execute_result"
    }
   ],
   "source": [
    "payload.json()['drinks'][0]['strDrink']"
   ]
  },
  {
   "cell_type": "markdown",
   "id": "36b3ab11",
   "metadata": {},
   "source": [
    "**Now the path continues in solitude.**\n",
    "\n",
    "Let's play a little more. We can save an HTML file locally.\n",
    "\n",
    "Check this easy example:"
   ]
  },
  {
   "cell_type": "code",
   "execution_count": 14,
   "id": "0935cc63",
   "metadata": {},
   "outputs": [
    {
     "name": "stdout",
     "output_type": "stream",
     "text": [
      "<Response [200]>\n",
      "b'<!doctype html><html itemscope=\"\" itemtype=\"http://schema.org/WebPage\" lang=\"es\"><head><meta content=\"Google.es permite acceder a la informaci\\xf3n mundial en castellano, catal\\xe1n, gallego, euskara e ingl\\xe9s.\" name=\"description\"><meta content=\"noodp\" name=\"robots\"><meta content=\"text/html; charset=UTF-8\" http-equiv=\"Content-Type\"><meta content=\"/images/branding/googleg/1x/googleg_standard_color_128dp.png\" itemprop=\"image\"><title>Google</title><script nonce=\"zlcXT2d3WPVzAcOcVm1CqQ\">(function(){var _g={kEI:\\'p8B1ZJSqO46g5NoPzc6p0A8\\',kEXPI:\\'0,1359409,6058,207,4804,2316,383,246,5,1129120,1197746,380745,16114,28684,22430,1362,12315,4749,12835,4998,17075,41316,2891,3926,214,7614,606,76795,230,20583,4,1528,2304,42125,13660,13795,13255,6624,7596,1,42154,2,14022,25739,6699,31123,4568,6255,23420,1253,5835,14967,4333,7484,25076,2006,8155,6680,701,15970,873,19633,6,1923,9779,5864,36595,2007,18192,5796,3,14433,20206,473,2898,5006,18988,253,5122,3030,3034,2594,482,5041,4665,1804,10472,2885,7654,3538,8548,6807,4151,3027,476,775,381,2174,309,5468,4471,1427,1140,7344,1290,3079,2129,1228,3214,551,1840,279,2545,3,1085,4669,678,265,599,1080,8,3,7,1376,2798,440,643,327,36,209,56,2041,372,1221,535,20,1979,5206897,4,557,51,22,57,2,8798154,3311,141,795,19735,1,1,346,6096,96,10,2,6,8,5,6,5,117,38,50,6,23944040,396,182,4041564,1964,16673,2893,6250,14715,4910,263,1720,747,1408441,253926,6564,23499463,83,94,134,308,28,480,769,464,4,809,292,767,600,1517,453,695,2286,897,411,3,1022,279,194,28,76,1794,10,327,8,3,226,717,55,939,347,477,125,4,143,939,9,257,576,66,61,434,5,328,656,310,1032,815,153,676,499,419,211,148,125,213,491,7,242,34,200,37,132,19,568,35,6,658,299,191,1541,34,589,271,129,75,88,2,416,139,8,402,6,49,2,2,74,2422,1026,282,1,204\\',kBL:\\'d2zJ\\',kOPI:89978449};if (!window.google || !window.google.stvsc){window.google = _g;}\\n})();(function(){google.sn=\\'webhp\\';google.kHL=\\'es\\';})();(function(){\\nvar h=this||self;function l(){return void 0!==window.google&&void 0!==window.google.kOPI&&0!==window.google.kOPI?window.google.kOPI:null};var m,n=[];function p(a){for(var b;a&&(!a.getAttribute||!(b=a.getAttribute(\"eid\")));)a=a.parentNode;return b||m}function q(a){for(var b=null;a&&(!a.getAttribute||!(b=a.getAttribute(\"leid\")));)a=a.parentNode;return b}function r(a){/^http:/i.test(a)&&\"https:\"===window.location.protocol&&(google.ml&&google.ml(Error(\"a\"),!1,{src:a,glmm:1}),a=\"\");return a}\\nfunction t(a,b,c,d,k){var e=\"\";-1===b.search(\"&ei=\")&&(e=\"&ei=\"+p(d),-1===b.search(\"&lei=\")&&(d=q(d))&&(e+=\"&lei=\"+d));d=\"\";var g=-1===b.search(\"&cshid=\")&&\"slh\"!==a,f=[];f.push([\"zx\",Date.now().toString()]);h._cshid&&g&&f.push([\"cshid\",h._cshid]);c=c();null!=c&&f.push([\"opi\",c.toString()]);for(c=0;c<f.length;c++){if(0===c||0<c)d+=\"&\";d+=f[c][0]+\"=\"+f[c][1]}return\"/\"+(k||\"gen_204\")+\"?atyp=i&ct=\"+String(a)+\"&cad=\"+(b+e+d)};m=google.kEI;google.getEI=p;google.getLEI=q;google.ml=function(){return null};google.log=function(a,b,c,d,k,e){e=void 0===e?l:e;c||(c=t(a,b,e,d,k));if(c=r(c)){a=new Image;var g=n.length;n[g]=a;a.onerror=a.onload=a.onabort=function(){delete n[g]};a.src=c}};google.logUrl=function(a,b){b=void 0===b?l:b;return t(\"\",a,b)};}).call(this);(function(){google.y={};google.sy=[];google.x=function(a,b){if(a)var c=a.id;else{do c=Math.random();while(google.y[c])}google.y[c]=[a,b];return!1};google.sx=function(a){google.sy.push(a)};google.lm=[];google.plm=function(a){google.lm.push.apply(google.lm,a)};google.lq=[];google.load=function(a,b,c){google.lq.push([[a],b,c])};google.loadAll=function(a,b){google.lq.push([a,b])};google.bx=!1;google.lx=function(){};}).call(this);google.f={};(function(){\\ndocument.documentElement.addEventListener(\"submit\",function(b){var a;if(a=b.target){var c=a.getAttribute(\"data-submitfalse\");a=\"1\"===c||\"q\"===c&&!a.elements.q.value?!0:!1}else a=!1;a&&(b.preventDefault(),b.stopPropagation())},!0);document.documentElement.addEventListener(\"click\",function(b){var a;a:{for(a=b.target;a&&a!==document.documentElement;a=a.parentElement)if(\"A\"===a.tagName){a=\"1\"===a.getAttribute(\"data-nohref\");break a}a=!1}a&&b.preventDefault()},!0);}).call(this);</script><style>#gbar,#guser{font-size:13px;padding-top:1px !important;}#gbar{height:22px}#guser{padding-bottom:7px !important;text-align:right}.gbh,.gbd{border-top:1px solid #c9d7f1;font-size:1px}.gbh{height:0;position:absolute;top:24px;width:100%}@media all{.gb1{height:22px;margin-right:.5em;vertical-align:top}#gbar{float:left}}a.gb1,a.gb4{text-decoration:underline !important}a.gb1,a.gb4{color:#00c !important}.gbi .gb4{color:#dd8e27 !important}.gbf .gb4{color:#900 !important}\\n</style><style>body,td,a,p,.h{font-family:arial,sans-serif}body{margin:0;overflow-y:scroll}#gog{padding:3px 8px 0}td{line-height:.8em}.gac_m td{line-height:17px}form{margin-bottom:20px}.h{color:#1558d6}em{font-weight:bold;font-style:normal}.lst{height:25px;width:496px}.gsfi,.lst{font:18px arial,sans-serif}.gsfs{font:17px arial,sans-serif}.ds{display:inline-box;display:inline-block;margin:3px 0 4px;margin-left:4px}input{font-family:inherit}body{background:#fff;color:#000}a{color:#4b11a8;text-decoration:none}a:hover,a:active{text-decoration:underline}.fl a{color:#1558d6}a:visited{color:#4b11a8}.sblc{padding-top:5px}.sblc a{display:block;margin:2px 0;margin-left:13px;font-size:11px}.lsbb{background:#f8f9fa;border:solid 1px;border-color:#dadce0 #70757a #70757a #dadce0;height:30px}.lsbb{display:block}#WqQANb a{display:inline-block;margin:0 12px}.lsb{background:url(/images/nav_logo229.png) 0 -261px repeat-x;color:#000;border:none;cursor:pointer;height:30px;margin:0;outline:0;font:15px arial,sans-serif;vertical-align:top}.lsb:active{background:#dadce0}.lst:focus{outline:none}</style><script nonce=\"zlcXT2d3WPVzAcOcVm1CqQ\">(function(){window.google.erd={jsr:1,bv:1801,de:true};\\nvar h=this||self;var k,l=null!=(k=h.mei)?k:1,n,p=null!=(n=h.sdo)?n:!0,q=0,r,t=google.erd,v=t.jsr;google.ml=function(a,b,d,m,e){e=void 0===e?2:e;b&&(r=a&&a.message);if(google.dl)return google.dl(a,e,d),null;if(0>v){window.console&&console.error(a,d);if(-2===v)throw a;b=!1}else b=!a||!a.message||\"Error loading script\"===a.message||q>=l&&!m?!1:!0;if(!b)return null;q++;d=d||{};b=encodeURIComponent;var c=\"/gen_204?atyp=i&ei=\"+b(google.kEI);google.kEXPI&&(c+=\"&jexpid=\"+b(google.kEXPI));c+=\"&srcpg=\"+b(google.sn)+\"&jsr=\"+b(t.jsr)+\"&bver=\"+b(t.bv);var f=a.lineNumber;void 0!==f&&(c+=\"&line=\"+f);var g=\\na.fileName;g&&(0<g.indexOf(\"-extension:/\")&&(e=3),c+=\"&script=\"+b(g),f&&g===window.location.href&&(f=document.documentElement.outerHTML.split(\"\\\\n\")[f],c+=\"&cad=\"+b(f?f.substring(0,300):\"No script found.\")));c+=\"&jsel=\"+e;for(var u in d)c+=\"&\",c+=b(u),c+=\"=\",c+=b(d[u]);c=c+\"&emsg=\"+b(a.name+\": \"+a.message);c=c+\"&jsst=\"+b(a.stack||\"N/A\");12288<=c.length&&(c=c.substr(0,12288));a=c;m||google.log(0,\"\",a);return a};window.onerror=function(a,b,d,m,e){r!==a&&(a=e instanceof Error?e:Error(a),void 0===d||\"lineNumber\"in a||(a.lineNumber=d),void 0===b||\"fileName\"in a||(a.fileName=b),google.ml(a,!1,void 0,!1,\"SyntaxError\"===a.name||\"SyntaxError\"===a.message.substring(0,11)||-1!==a.message.indexOf(\"Script error\")?3:0));r=null;p&&q>=l&&(window.onerror=null)};})();</script></head><body bgcolor=\"#fff\"><script nonce=\"zlcXT2d3WPVzAcOcVm1CqQ\">(function(){var src=\\'/images/nav_logo229.png\\';var iesg=false;document.body.onload = function(){window.n && window.n();if (document.images){new Image().src=src;}\\nif (!iesg){document.f&&document.f.q.focus();document.gbqf&&document.gbqf.q.focus();}\\n}\\n})();</script><div id=\"mngb\"><div id=gbar><nobr><b class=gb1>B\\xfasqueda</b> <a class=gb1 href=\"https://www.google.es/imghp?hl=es&tab=wi\">Im\\xe1genes</a> <a class=gb1 href=\"https://maps.google.es/maps?hl=es&tab=wl\">Maps</a> <a class=gb1 href=\"https://play.google.com/?hl=es&tab=w8\">Play</a> <a class=gb1 href=\"https://www.youtube.com/?tab=w1\">YouTube</a> <a class=gb1 href=\"https://news.google.com/?tab=wn\">Noticias</a> <a class=gb1 href=\"https://mail.google.com/mail/?tab=wm\">Gmail</a> <a class=gb1 href=\"https://drive.google.com/?tab=wo\">Drive</a> <a class=gb1 style=\"text-decoration:none\" href=\"https://www.google.es/intl/es/about/products?tab=wh\"><u>M\\xe1s</u> &raquo;</a></nobr></div><div id=guser width=100%><nobr><span id=gbn class=gbi></span><span id=gbf class=gbf></span><span id=gbe></span><a href=\"http://www.google.es/history/optout?hl=es\" class=gb4>Historial web</a> | <a  href=\"/preferences?hl=es\" class=gb4>Ajustes</a> | <a target=_top id=gb_70 href=\"https://accounts.google.com/ServiceLogin?hl=es&passive=true&continue=https://www.google.es/&ec=GAZAAQ\" class=gb4>Iniciar sesi\\xf3n</a></nobr></div><div class=gbh style=left:0></div><div class=gbh style=right:0></div></div><center><br clear=\"all\" id=\"lgpd\"><div id=\"lga\"><img alt=\"Google\" height=\"92\" src=\"/images/branding/googlelogo/1x/googlelogo_white_background_color_272x92dp.png\" style=\"padding:28px 0 14px\" width=\"272\" id=\"hplogo\"><br><br></div><form action=\"/search\" name=\"f\"><table cellpadding=\"0\" cellspacing=\"0\"><tr valign=\"top\"><td width=\"25%\">&nbsp;</td><td align=\"center\" nowrap=\"\"><input name=\"ie\" value=\"ISO-8859-1\" type=\"hidden\"><input value=\"es\" name=\"hl\" type=\"hidden\"><input name=\"source\" type=\"hidden\" value=\"hp\"><input name=\"biw\" type=\"hidden\"><input name=\"bih\" type=\"hidden\"><div class=\"ds\" style=\"height:32px;margin:4px 0\"><input class=\"lst\" style=\"margin:0;padding:5px 8px 0 6px;vertical-align:top;color:#000\" autocomplete=\"off\" value=\"\" title=\"Buscar con Google\" maxlength=\"2048\" name=\"q\" size=\"57\"></div><br style=\"line-height:0\"><span class=\"ds\"><span class=\"lsbb\"><input class=\"lsb\" value=\"Buscar con Google\" name=\"btnG\" type=\"submit\"></span></span><span class=\"ds\"><span class=\"lsbb\"><input class=\"lsb\" id=\"tsuid_1\" value=\"Voy a tener suerte\" name=\"btnI\" type=\"submit\"><script nonce=\"zlcXT2d3WPVzAcOcVm1CqQ\">(function(){var id=\\'tsuid_1\\';document.getElementById(id).onclick = function(){if (this.form.q.value){this.checked = 1;if (this.form.iflsig)this.form.iflsig.disabled = false;}\\nelse top.location=\\'/doodles/\\';};})();</script><input value=\"AOEireoAAAAAZHXOt0y8lT3iXQfsMHvAHS_P4X7XpqN0\" name=\"iflsig\" type=\"hidden\"></span></span></td><td class=\"fl sblc\" align=\"left\" nowrap=\"\" width=\"25%\"><a href=\"/advanced_search?hl=es&amp;authuser=0\">B\\xfasqueda avanzada</a></td></tr></table><input id=\"gbv\" name=\"gbv\" type=\"hidden\" value=\"1\"><script nonce=\"zlcXT2d3WPVzAcOcVm1CqQ\">(function(){var a,b=\"1\";if(document&&document.getElementById)if(\"undefined\"!=typeof XMLHttpRequest)b=\"2\";else if(\"undefined\"!=typeof ActiveXObject){var c,d,e=[\"MSXML2.XMLHTTP.6.0\",\"MSXML2.XMLHTTP.3.0\",\"MSXML2.XMLHTTP\",\"Microsoft.XMLHTTP\"];for(c=0;d=e[c++];)try{new ActiveXObject(d),b=\"2\"}catch(h){}}a=b;if(\"2\"==a&&-1==location.search.indexOf(\"&gbv=2\")){var f=google.gbvu,g=document.getElementById(\"gbv\");g&&(g.value=a);f&&window.setTimeout(function(){location.href=f},0)};}).call(this);</script></form><div id=\"gac_scont\"></div><div style=\"font-size:83%;min-height:3.5em\"><br><div id=\"gws-output-pages-elements-homepage_additional_languages__als\"><style>#gws-output-pages-elements-homepage_additional_languages__als{font-size:small;margin-bottom:24px}#SIvCob{color:#3c4043;display:inline-block;line-height:28px;}#SIvCob a{padding:0 3px;}.H6sW5{display:inline-block;margin:0 2px;white-space:nowrap}.z4hgWe{display:inline-block;margin:0 2px}</style><div id=\"SIvCob\">Ofrecido por Google en:  <a href=\"https://www.google.es/setprefs?sig=0_llEAsYK1BPmf6amJNZHwLxV8BYw%3D&amp;hl=ca&amp;source=homepage&amp;sa=X&amp;ved=0ahUKEwjUmcyX3Jz_AhUOEFkFHU1nCvoQ2ZgBCAU\">catal\\xe0</a>    <a href=\"https://www.google.es/setprefs?sig=0_llEAsYK1BPmf6amJNZHwLxV8BYw%3D&amp;hl=gl&amp;source=homepage&amp;sa=X&amp;ved=0ahUKEwjUmcyX3Jz_AhUOEFkFHU1nCvoQ2ZgBCAY\">galego</a>    <a href=\"https://www.google.es/setprefs?sig=0_llEAsYK1BPmf6amJNZHwLxV8BYw%3D&amp;hl=eu&amp;source=homepage&amp;sa=X&amp;ved=0ahUKEwjUmcyX3Jz_AhUOEFkFHU1nCvoQ2ZgBCAc\">euskara</a>  </div></div></div><span id=\"footer\"><div style=\"font-size:10pt\"><div style=\"margin:19px auto;text-align:center\" id=\"WqQANb\"><a href=\"/intl/es/ads/\">Publicidad</a><a href=\"http://www.google.es/intl/es/services/\">Soluciones Empresariales</a><a href=\"/intl/es/about.html\">Todo acerca de Google</a><a href=\"https://www.google.es/setprefdomain?prefdom=US&amp;sig=K_pa1Q3vtrZJRVKYUGQAk2oqa7ipA%3D\" id=\"fehl\">Google.com</a></div></div><p style=\"font-size:8pt;color:#70757a\">&copy; 2023 - <a href=\"/intl/es/policies/privacy/\">Privacidad</a> - <a href=\"/intl/es/policies/terms/\">T\\xe9rminos</a></p></span></center><script nonce=\"zlcXT2d3WPVzAcOcVm1CqQ\">(function(){window.google.cdo={height:757,width:1440};(function(){var a=window.innerWidth,b=window.innerHeight;if(!a||!b){var c=window.document,d=\"CSS1Compat\"==c.compatMode?c.documentElement:c.body;a=d.clientWidth;b=d.clientHeight}\\nif(a&&b&&(a!=google.cdo.width||b!=google.cdo.height)){var e=google,f=e.log,g=\"/client_204?&atyp=i&biw=\"+a+\"&bih=\"+b+\"&ei=\"+google.kEI,h=\"\",k=[],l=void 0!==window.google&&void 0!==window.google.kOPI&&0!==window.google.kOPI?window.google.kOPI:null;null!=l&&k.push([\"opi\",l.toString()]);for(var m=0;m<k.length;m++){if(0===m||0<m)h+=\"&\";h+=k[m][0]+\"=\"+k[m][1]}f.call(e,\"\",\"\",g+h)};}).call(this);})();</script> <script nonce=\"zlcXT2d3WPVzAcOcVm1CqQ\">(function(){google.xjs={ck:\\'xjs.hp.t7rKxWS_HtE.L.X.O\\',cs:\\'ACT90oGJo-Wimrm80wqu1Kk4LsL39FL27w\\',csss:\\'ACT90oGza0LGgxbaHpxlqOsMQ5p7na8ItA\\',excm:[],sepcss:false};})();</script>  <script nonce=\"zlcXT2d3WPVzAcOcVm1CqQ\">(function(){var u=\\'/xjs/_/js/k\\\\x3dxjs.hp.en.j5e-1VjMXoU.O/am\\\\x3dgAAA6AQAUABgAQ/d\\\\x3d1/ed\\\\x3d1/rs\\\\x3dACT90oE-DnN4sfoAL-xPCaOiueCWLCZ4-A/m\\\\x3dsb_he,d\\';var amd=0;\\nvar e=this||self,f=function(c){return c};var g;var k=function(c){this.g=c};k.prototype.toString=function(){return this.g+\"\"};var m={};\\nfunction q(){var c=u,n=function(){};google.lx=google.stvsc?n:function(){google.timers&&google.timers.load&&google.tick&&google.tick(\"load\",\"xjsls\");var a=document;var b=\"SCRIPT\";\"application/xhtml+xml\"===a.contentType&&(b=b.toLowerCase());b=a.createElement(b);a=null===c?\"null\":void 0===c?\"undefined\":c;if(void 0===g){var d=null;var l=e.trustedTypes;if(l&&l.createPolicy){try{d=l.createPolicy(\"goog#html\",{createHTML:f,createScript:f,createScriptURL:f})}catch(r){e.console&&e.console.error(r.message)}g=\\nd}else g=d}a=(d=g)?d.createScriptURL(a):a;a=new k(a,m);b.src=a instanceof k&&a.constructor===k?a.g:\"type_error:TrustedResourceUrl\";var h,p;(h=(a=null==(p=(h=(b.ownerDocument&&b.ownerDocument.defaultView||window).document).querySelector)?void 0:p.call(h,\"script[nonce]\"))?a.nonce||a.getAttribute(\"nonce\")||\"\":\"\")&&b.setAttribute(\"nonce\",h);document.body.appendChild(b);google.psa=!0;google.lx=n};google.bx||google.lx()};google.xjsu=u;e._F_jsUrl=u;setTimeout(function(){0<amd?google.caft(function(){return q()},amd):q()},0);})();window._ = window._ || {};window._DumpException = _._DumpException = function(e){throw e;};window._s = window._s || {};_s._DumpException = _._DumpException;window._qs = window._qs || {};_qs._DumpException = _._DumpException;function _F_installCss(c){}\\n(function(){google.jl={blt:\\'none\\',chnk:0,dw:false,dwu:true,emtn:0,end:0,ico:false,ikb:0,ine:false,injs:\\'none\\',injt:0,injth:0,injv2:false,lls:\\'default\\',pdt:0,rep:0,snet:true,strt:0,ubm:false,uwp:true};})();(function(){var pmc=\\'{\\\\x22d\\\\x22:{},\\\\x22sb_he\\\\x22:{\\\\x22agen\\\\x22:true,\\\\x22cgen\\\\x22:true,\\\\x22client\\\\x22:\\\\x22heirloom-hp\\\\x22,\\\\x22dh\\\\x22:true,\\\\x22ds\\\\x22:\\\\x22\\\\x22,\\\\x22fl\\\\x22:true,\\\\x22host\\\\x22:\\\\x22google.es\\\\x22,\\\\x22jsonp\\\\x22:true,\\\\x22lm\\\\x22:true,\\\\x22msgs\\\\x22:{\\\\x22cibl\\\\x22:\\\\x22Borrar b\\\\\\\\u00fasqueda\\\\x22,\\\\x22dym\\\\x22:\\\\x22Quiz\\\\\\\\u00e1s quisiste decir:\\\\x22,\\\\x22lcky\\\\x22:\\\\x22Voy a tener suerte\\\\x22,\\\\x22lml\\\\x22:\\\\x22M\\\\\\\\u00e1s informaci\\\\\\\\u00f3n\\\\x22,\\\\x22psrc\\\\x22:\\\\x22Esta b\\\\\\\\u00fasqueda se ha eliminado de tu \\\\\\\\u003Ca href\\\\x3d\\\\\\\\\\\\x22/history\\\\\\\\\\\\x22\\\\\\\\u003Ehistorial web\\\\\\\\u003C/a\\\\\\\\u003E.\\\\x22,\\\\x22psrl\\\\x22:\\\\x22Eliminar\\\\x22,\\\\x22sbit\\\\x22:\\\\x22Buscar por imagen\\\\x22,\\\\x22srch\\\\x22:\\\\x22Buscar con Google\\\\x22},\\\\x22ovr\\\\x22:{},\\\\x22pq\\\\x22:\\\\x22\\\\x22,\\\\x22rfs\\\\x22:[],\\\\x22sbas\\\\x22:\\\\x220 3px 8px 0 rgba(0,0,0,0.2),0 0 0 1px rgba(0,0,0,0.08)\\\\x22,\\\\x22stok\\\\x22:\\\\x224qWpaaAMmNr7NnF1D0V5x35scOg\\\\x22}}\\';google.pmc=JSON.parse(pmc);})();(function(){\\nvar b=function(a){var c=0;return function(){return c<a.length?{done:!1,value:a[c++]}:{done:!0}}},e=this||self;var g,h;a:{for(var k=[\"CLOSURE_FLAGS\"],l=e,n=0;n<k.length;n++)if(l=l[k[n]],null==l){h=null;break a}h=l}var p=h&&h[610401301];g=null!=p?p:!1;var q,r=e.navigator;q=r?r.userAgentData||null:null;function t(a){return g?q?q.brands.some(function(c){return(c=c.brand)&&-1!=c.indexOf(a)}):!1:!1}function u(a){var c;a:{if(c=e.navigator)if(c=c.userAgent)break a;c=\"\"}return-1!=c.indexOf(a)};function v(){return g?!!q&&0<q.brands.length:!1}function w(){return u(\"Safari\")&&!(x()||(v()?0:u(\"Coast\"))||(v()?0:u(\"Opera\"))||(v()?0:u(\"Edge\"))||(v()?t(\"Microsoft Edge\"):u(\"Edg/\"))||(v()?t(\"Opera\"):u(\"OPR\"))||u(\"Firefox\")||u(\"FxiOS\")||u(\"Silk\")||u(\"Android\"))}function x(){return v()?t(\"Chromium\"):(u(\"Chrome\")||u(\"CriOS\"))&&!(v()?0:u(\"Edge\"))||u(\"Silk\")}function y(){return u(\"Android\")&&!(x()||u(\"Firefox\")||u(\"FxiOS\")||(v()?0:u(\"Opera\"))||u(\"Silk\"))};var z=v()?!1:u(\"Trident\")||u(\"MSIE\");y();x();w();var A=!z&&!w(),D=function(a){if(/-[a-z]/.test(\"ved\"))return null;if(A&&a.dataset){if(y()&&!(\"ved\"in a.dataset))return null;a=a.dataset.ved;return void 0===a?null:a}return a.getAttribute(\"data-\"+\"ved\".replace(/([A-Z])/g,\"-$1\").toLowerCase())};var E=[],F=null;function G(a){a=a.target;var c=performance.now(),f=[],H=f.concat,d=E;if(!(d instanceof Array)){var m=\"undefined\"!=typeof Symbol&&Symbol.iterator&&d[Symbol.iterator];if(m)d=m.call(d);else if(\"number\"==typeof d.length)d={next:b(d)};else throw Error(\"a`\"+String(d));for(var B=[];!(m=d.next()).done;)B.push(m.value);d=B}E=H.call(f,d,[c]);if(a&&a instanceof HTMLElement)if(a===F){if(c=4<=E.length)c=5>(E[E.length-1]-E[E.length-4])/1E3;if(c){c=google.getEI(a);a.hasAttribute(\"data-ved\")?f=a?D(a)||\"\":\"\":f=(f=\\na.closest(\"[data-ved]\"))?D(f)||\"\":\"\";f=f||\"\";if(a.hasAttribute(\"jsname\"))a=a.getAttribute(\"jsname\");else{var C;a=null==(C=a.closest(\"[jsname]\"))?void 0:C.getAttribute(\"jsname\")}google.log(\"rcm\",\"&ei=\"+c+\"&ved=\"+f+\"&jsname=\"+(a||\"\"))}}else F=a,E=[c]}window.document.addEventListener(\"DOMContentLoaded\",function(){document.body.addEventListener(\"click\",G)});}).call(this);</script></body></html>'\n"
     ]
    }
   ],
   "source": [
    "url = 'https://www.google.es'\n",
    "\n",
    "# The GET method will return the response object, which I will store in memory:\n",
    "response = requests.get(url)\n",
    "\n",
    "# We check that it is the desired response:\n",
    "print(response)\n",
    "\n",
    "if response.status_code == 200:\n",
    "    my_content = response.content\n",
    "    \n",
    "    # Let's display its content on the screen:\n",
    "    print(my_content)\n",
    "    \n",
    "    # Let's generate a binary write file with the content:\n",
    "    file = open('google.html', 'wb')\n",
    "    file.write(my_content)\n",
    "    file.close()"
   ]
  },
  {
   "cell_type": "markdown",
   "id": "94d6111c",
   "metadata": {},
   "source": [
    "Please go ahead and check your new file. Can you improve it?\n",
    "\n",
    "But... When obtaining the HTML from Google servers, there is no JSON structure.\n",
    "\n",
    "**And what about this?**\n",
    "\n",
    "Let us make a request to http://httpbin.org/ using the `GET` method.\n",
    "\n",
    "(I suggest you to shatter the code 😈)"
   ]
  },
  {
   "cell_type": "code",
   "execution_count": 4,
   "id": "9a3ce597",
   "metadata": {},
   "outputs": [
    {
     "name": "stdout",
     "output_type": "stream",
     "text": [
      "b'{\\n  \"args\": {}, \\n  \"headers\": {\\n    \"Accept\": \"*/*\", \\n    \"Accept-Encoding\": \"gzip, deflate, br\", \\n    \"Host\": \"httpbin.org\", \\n    \"User-Agent\": \"python-requests/2.27.1\", \\n    \"X-Amzn-Trace-Id\": \"Root=1-64784a79-175de0fd5defb4c00ec3812f\"\\n  }, \\n  \"origin\": \"139.47.38.110\", \\n  \"url\": \"https://httpbin.org/get\"\\n}\\n'\n",
      "\n",
      "This is PUAJJJ!!! \n",
      "\n",
      "Better this:\n",
      "\n",
      "{\n",
      "    \"args\": {},\n",
      "    \"headers\": {\n",
      "        \"Accept\": \"*/*\",\n",
      "        \"Accept-Encoding\": \"gzip, deflate, br\",\n",
      "        \"Host\": \"httpbin.org\",\n",
      "        \"User-Agent\": \"python-requests/2.27.1\",\n",
      "        \"X-Amzn-Trace-Id\": \"Root=1-64784a79-175de0fd5defb4c00ec3812f\"\n",
      "    },\n",
      "    \"origin\": \"139.47.38.110\",\n",
      "    \"url\": \"https://httpbin.org/get\"\n",
      "}\n"
     ]
    }
   ],
   "source": [
    "import json\n",
    "\n",
    "url = 'https://httpbin.org/get'\n",
    "response = requests.get(url)\n",
    "\n",
    "if response.status_code == 200:\n",
    "    my_content = response.content\n",
    "    print(my_content)   \n",
    "    print()\n",
    "    print('This is PUAJJJ!!! \\n\\nBetter this:')\n",
    "    print()\n",
    "    \n",
    "    # Parse response content as JSON:\n",
    "    pretty_content = json.dumps(response.json(), indent=4)\n",
    "    # Pretty-print JSON data:\n",
    "    print(pretty_content)"
   ]
  },
  {
   "cell_type": "markdown",
   "id": "634bc3b9",
   "metadata": {},
   "source": [
    "Go and check what you have found: http://httpbin.org/get\n",
    "\n",
    "**Now, this is indeed a JSON structure.**\n",
    "\n",
    "Let us play with `args`. These are all the parameters that we have sent to the server.\n",
    "\n",
    "Let's send the parameters by passing a dictionary to the `params` parameter."
   ]
  },
  {
   "cell_type": "code",
   "execution_count": 10,
   "id": "0cdf8d4e",
   "metadata": {},
   "outputs": [
    {
     "name": "stdout",
     "output_type": "stream",
     "text": [
      "{\n",
      "  \"args\": {\n",
      "    \"level\": \"intermediate\", \n",
      "    \"module\": \"ETL\", \n",
      "    \"name\": \"lucho\"\n",
      "  }, \n",
      "  \"headers\": {\n",
      "    \"Accept\": \"*/*\", \n",
      "    \"Accept-Encoding\": \"gzip, deflate, br\", \n",
      "    \"Host\": \"httpbin.org\", \n",
      "    \"User-Agent\": \"python-requests/2.27.1\", \n",
      "    \"X-Amzn-Trace-Id\": \"Root=1-6475e986-0a3452952c4b347912e21e43\"\n",
      "  }, \n",
      "  \"origin\": \"139.47.38.110\", \n",
      "  \"url\": \"https://httpbin.org/get?name=lucho&module=ETL&level=intermediate\"\n",
      "}\n",
      "\n",
      "\n",
      "Click this URL to see it in your browser:  https://httpbin.org/get?name=lucho&module=ETL&level=intermediate\n"
     ]
    }
   ],
   "source": [
    "url = 'https://httpbin.org/get'\n",
    "args = {\n",
    "    'name' : 'lucho',\n",
    "    'module' : 'ETL',\n",
    "    'level' : 'intermediate'\n",
    "}\n",
    "response = requests.get(url, params=args)\n",
    "\n",
    "if response.status_code == 200:\n",
    "    # Oh! Not the same!!\n",
    "    print(response.text)\n",
    "    print()\n",
    "    response_json = json.loads(response.text)\n",
    "    # Let us also print the URL of my json object:\n",
    "    print('Click this URL to see it in your browser: ', response_json['url'])"
   ]
  },
  {
   "cell_type": "markdown",
   "id": "1bcf3ee5",
   "metadata": {},
   "source": [
    "When using a web browser, if we want to send parameters, we need to use a query. To do this, we include a question mark (`?`) at the end of the base URL to indicate that we are going to construct the query. Then, we type the parameter names and their corresponding values after the question mark.\n",
    "\n",
    "In this way, we would be sending parameters using the `GET` method. These parameters are sent in the URL. \n",
    "\n",
    "Click to see the web page:\n",
    "\n",
    "http://httpbin.org/get?name='lucho'&module=ETL"
   ]
  },
  {
   "cell_type": "markdown",
   "id": "d22f33d3",
   "metadata": {},
   "source": [
    "### Post request\n",
    "\n",
    "Now we'll try the post request, they are the most usual in the big apis, or in those where we need to exchange information\n",
    "(it is not possible to make a `POST` request directly from a web browser).\n",
    "\n",
    "Let's make our first post request:"
   ]
  },
  {
   "cell_type": "code",
   "execution_count": 13,
   "id": "06fe177f",
   "metadata": {},
   "outputs": [
    {
     "name": "stdout",
     "output_type": "stream",
     "text": [
      "{\n",
      "  \"args\": {\n",
      "    \"level\": \"intermediate\", \n",
      "    \"module\": \"ETL\", \n",
      "    \"name\": \"lucho\"\n",
      "  }, \n",
      "  \"data\": \"\", \n",
      "  \"files\": {}, \n",
      "  \"form\": {}, \n",
      "  \"headers\": {\n",
      "    \"Accept\": \"*/*\", \n",
      "    \"Accept-Encoding\": \"gzip, deflate, br\", \n",
      "    \"Content-Length\": \"0\", \n",
      "    \"Host\": \"httpbin.org\", \n",
      "    \"User-Agent\": \"python-requests/2.27.1\", \n",
      "    \"X-Amzn-Trace-Id\": \"Root=1-6475ece1-732995b158b5f8f53df37750\"\n",
      "  }, \n",
      "  \"json\": null, \n",
      "  \"origin\": \"139.47.38.110\", \n",
      "  \"url\": \"https://httpbin.org/post?name=lucho&module=ETL&level=intermediate\"\n",
      "}\n",
      "\n"
     ]
    }
   ],
   "source": [
    "url = 'https://httpbin.org/post'\n",
    "args = {\n",
    "    'name' : 'lucho',\n",
    "    'module' : 'ETL',\n",
    "    'level' : 'intermediate'\n",
    "}\n",
    "response = requests.post(url, params=args)\n",
    "\n",
    "if response.status_code == 200:\n",
    "    print(response.text)"
   ]
  },
  {
   "cell_type": "markdown",
   "id": "08dc702d",
   "metadata": {},
   "source": [
    "As you can see, there are many more attributes available that cannot be viewed with the `GET` method alone.\n",
    "\n",
    "The main difference between the `GET` and `POST` methods lies in how data is sent to the server.\n",
    "\n",
    "- `GET`: This method is used to request data from the server. Parameters are sent via the URL in the query string and are visible in the browser's address bar. Data is sent in plain text and has a limitation on the amount of data that can be sent. The data can also be cached in the browser's history and server logs.\n",
    "\n",
    "\n",
    "- `POST`: This method is used to send data to the server for processing. Parameters are sent in the body of the HTTP request and are not visible in the URL or address bar. Data is sent more securely and larger amounts of data can be sent. The data is not cached and is not saved in the browser's history or server logs.\n",
    "\n",
    "Therefore, let us send the parameters through out the `data` parameter (check the output!)."
   ]
  },
  {
   "cell_type": "code",
   "execution_count": 22,
   "id": "56dbd581",
   "metadata": {},
   "outputs": [
    {
     "name": "stdout",
     "output_type": "stream",
     "text": [
      "{\n",
      "  \"args\": {}, \n",
      "  \"data\": \"{\\\"name\\\": \\\"lucho\\\", \\\"module\\\": \\\"ETL\\\", \\\"level\\\": \\\"intermediate\\\"}\", \n",
      "  \"files\": {}, \n",
      "  \"form\": {}, \n",
      "  \"headers\": {\n",
      "    \"Accept\": \"*/*\", \n",
      "    \"Accept-Encoding\": \"gzip, deflate, br\", \n",
      "    \"Content-Length\": \"59\", \n",
      "    \"Content-Type\": \"application/json\", \n",
      "    \"Host\": \"httpbin.org\", \n",
      "    \"User-Agent\": \"python-requests/2.27.1\", \n",
      "    \"X-Amzn-Trace-Id\": \"Root=1-64760945-0e5ebb3a46448421105a31e6\"\n",
      "  }, \n",
      "  \"json\": {\n",
      "    \"level\": \"intermediate\", \n",
      "    \"module\": \"ETL\", \n",
      "    \"name\": \"lucho\"\n",
      "  }, \n",
      "  \"origin\": \"139.47.38.110\", \n",
      "  \"url\": \"https://httpbin.org/post\"\n",
      "}\n",
      "\n"
     ]
    }
   ],
   "source": [
    "url = 'https://httpbin.org/post'\n",
    "payload = {\n",
    "    'name' : 'lucho',\n",
    "    'module' : 'ETL',\n",
    "    'level' : 'intermediate'\n",
    "}\n",
    "\n",
    "response = requests.post(url, json=payload)\n",
    "\n",
    "if response.status_code == 200:\n",
    "    print(response.text)"
   ]
  },
  {
   "cell_type": "markdown",
   "id": "b343493d",
   "metadata": {},
   "source": [
    "As you can observe, the data is no longer within the `args` attribute but inside the `data` attribute. Additionally, within the `json` attribute, we can view it in a more readable format.\n",
    "\n",
    "Internally, the following is happening: the `POST` method takes a dictionary and serializes it. Serialization is the process of converting the dictionary into a JSON object.\n",
    "\n",
    "Observation: \n",
    "\n",
    "If we send the parameters within JSON, internally the `POST` method takes care of serializing them.\n",
    "\n",
    "On the other hand, if we use `data`, we need to handle the serialization ourselves.\n",
    "\n",
    "Beside, let us add `headers`. Headers enable proper communication between both the client and the server. Furthermore, we can transmit data within the header. For instance, if an application utilizes OAuth, it is highly probable that the access token will be sent within the header rather than as parameters or, even worse, within the URL."
   ]
  },
  {
   "cell_type": "code",
   "execution_count": 27,
   "id": "af380639",
   "metadata": {},
   "outputs": [
    {
     "name": "stdout",
     "output_type": "stream",
     "text": [
      "{\n",
      "  \"args\": {}, \n",
      "  \"data\": \"{\\\"name\\\": \\\"lucho\\\", \\\"module\\\": \\\"ETL\\\", \\\"level\\\": \\\"intermediate\\\"}\", \n",
      "  \"files\": {}, \n",
      "  \"form\": {}, \n",
      "  \"headers\": {\n",
      "    \"Accept\": \"*/*\", \n",
      "    \"Accept-Encoding\": \"gzip, deflate, br\", \n",
      "    \"Access-Token\": \"12345\", \n",
      "    \"Content-Length\": \"59\", \n",
      "    \"Content-Type\": \"application/json\", \n",
      "    \"Host\": \"httpbin.org\", \n",
      "    \"User-Agent\": \"python-requests/2.27.1\", \n",
      "    \"X-Amzn-Trace-Id\": \"Root=1-64760ac7-455fbf1335416ed0615aa8dd\"\n",
      "  }, \n",
      "  \"json\": {\n",
      "    \"level\": \"intermediate\", \n",
      "    \"module\": \"ETL\", \n",
      "    \"name\": \"lucho\"\n",
      "  }, \n",
      "  \"origin\": \"139.47.38.110\", \n",
      "  \"url\": \"https://httpbin.org/post\"\n",
      "}\n",
      "\n",
      "\n",
      "The headers are: {'Date': 'Tue, 30 May 2023 14:40:11 GMT', 'Content-Type': 'application/json', 'Content-Length': '619', 'Connection': 'keep-alive', 'Server': 'gunicorn/19.9.0', 'Access-Control-Allow-Origin': '*', 'Access-Control-Allow-Credentials': 'true'}\n",
      "The server is: gunicorn/19.9.0\n"
     ]
    }
   ],
   "source": [
    "url = 'https://httpbin.org/post'\n",
    "playload = {\n",
    "    'name' : 'lucho',\n",
    "    'module' : 'ETL',\n",
    "    'level' : 'intermediate'\n",
    "}\n",
    "headers = { \n",
    "    'Content-Type' : 'application/json',\n",
    "    'access-token' : '12345'\n",
    "}\n",
    "\n",
    "response = requests.post(url, data=json.dumps(playload), headers=headers)\n",
    "# Did you try to remove the headers? =0\n",
    "\n",
    "if response.status_code == 200:\n",
    "    print(response.text)\n",
    "    print()\n",
    "    # We can access the headers:\n",
    "    headers_response = response.headers\n",
    "    print('The headers are:', headers_response)\n",
    "    # Or we can access, inside the headers, the server:\n",
    "    server = headers_response['Server']\n",
    "    print('The server is:', server)"
   ]
  },
  {
   "cell_type": "code",
   "execution_count": null,
   "id": "7cc9e7e1",
   "metadata": {},
   "outputs": [],
   "source": []
  }
 ],
 "metadata": {
  "kernelspec": {
   "display_name": "Python 3 (ipykernel)",
   "language": "python",
   "name": "python3"
  },
  "language_info": {
   "codemirror_mode": {
    "name": "ipython",
    "version": 3
   },
   "file_extension": ".py",
   "mimetype": "text/x-python",
   "name": "python",
   "nbconvert_exporter": "python",
   "pygments_lexer": "ipython3",
   "version": "3.9.12"
  },
  "toc": {
   "base_numbering": 1,
   "nav_menu": {},
   "number_sections": true,
   "sideBar": true,
   "skip_h1_title": true,
   "title_cell": "Table of Contents",
   "title_sidebar": "Contents",
   "toc_cell": false,
   "toc_position": {},
   "toc_section_display": true,
   "toc_window_display": false
  }
 },
 "nbformat": 4,
 "nbformat_minor": 5
}
