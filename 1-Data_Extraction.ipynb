{
 "cells": [
  {
   "cell_type": "markdown",
   "id": "434b7188",
   "metadata": {},
   "source": [
    "# ETL I: Data Extraction\n",
    "\n",
    "The first phase of an ETL is to get the data. We have several possibilities to obtain data, but the most important are:\n",
    "\n",
    "-   Data from local resources (CSV, txt, word, excel, ...)\n",
    "-   Data from apis\n",
    "-   Data from the internet (Scrapping or documents)\n",
    "\n",
    "## Data from local sources\n",
    "\n",
    "In this first part we'll learn how to get data from local files from our computer or the server we're working at.\n",
    "\n",
    "### open()\n",
    "\n",
    "The open() function opens a file, and returns it as a file object.\n",
    "\n",
    "We can specify how to open the file with the mode values:\n",
    "\n",
    "-   **r**: Read - (It's the Default method if not specified). Opens a\n",
    "    file for reading, return an error if the file does not exist.\n",
    "-   **a**: Append - Opens a file for appending, creates the file if it does not exist.\n",
    "-   **w**: Write - Opens a file for writing, creates the file if it does not exist.\n",
    "-   **x**: Create - Creates the specified file, returns an error if the file exist.\n",
    "\n",
    "Also we can setup the file type:\n",
    "\n",
    "-   **t**: Text - Default value. Text mode\n",
    "-   **b**: Binary - Binary mode (e.g. images)\n",
    "\n",
    "We'll have to use the command `read()` if we want to access to the content of the file (usually).\n",
    "\n",
    "#### Opening a plain text file\n"
   ]
  },
  {
   "cell_type": "code",
   "execution_count": 3,
   "id": "62b6311d",
   "metadata": {},
   "outputs": [
    {
     "data": {
      "text/plain": [
       "'Lorem ipsum dolor sit amet, consectetur adipiscing elit. Aenean sodales cursus erat sit amet volutpat. Proin urna urna, consequat a pellentesque vitae, ultrices sit amet nisl. Etiam commodo ligula et eros lobortis, in sollicitudin arcu lacinia. Praesent nec malesuada urna. Nunc id efficitur ex. Sed vitae neque ac est aliquet scelerisque. Sed aliquet felis lacus, in fermentum ante consequat eu.\\n\\nPraesent eu elementum elit. Integer ex odio, faucibus ac dolor quis, facilisis ullamcorper arcu. Vestibulum in egestas velit. Nunc sit amet interdum leo. Nulla consectetur felis eget fermentum elementum. Nulla facilisi. Sed rutrum nulla nulla, vitae mattis sem faucibus non. Maecenas aliquam tristique congue. Integer non magna turpis. Nunc sit amet suscipit libero, vel maximus tellus. Praesent eros sapien, pharetra ullamcorper lectus ac, cursus aliquam metus. Sed molestie lobortis magna vel fringilla.\\n\\nDonec quis ipsum est. Donec sed auctor enim. Pellentesque posuere massa a bibendum blandit. Aenean vitae aliquet elit. Suspendisse potenti. Maecenas at neque a purus hendrerit auctor et ut sapien. Nam malesuada ut est eu finibus. In hac habitasse platea dictumst. Ut gravida consectetur nisi, a imperdiet eros pretium id. Vivamus vehicula ac dui nec sodales. Aliquam porttitor arcu orci, eget congue urna posuere sed. Aenean vitae magna convallis, dapibus felis non, condimentum leo.\\n\\nInteger pretium, arcu eu bibendum vulputate, lectus lacus egestas neque, eu ultricies felis nisl nec ligula. In facilisis orci sollicitudin, molestie lorem ac, elementum augue. Cras fermentum maximus vestibulum. Donec ac bibendum massa. Nam ante lorem, suscipit a augue sed, convallis condimentum dui. Pellentesque a molestie odio, in porta diam. Cras sollicitudin diam nulla, dictum dapibus enim cursus non.\\n\\nDuis in varius ante. Donec aliquam semper augue eu dignissim. Aenean feugiat nunc magna, id vestibulum libero ultricies in. Suspendisse euismod convallis dui. Curabitur semper massa a lacinia varius. Praesent id nisl sapien. Curabitur condimentum elit orci, ac lacinia dui facilisis ac. Fusce ac diam sed odio efficitur sollicitudin. Nam maximus mauris ut venenatis iaculis. Cras quis luctus dolor. Donec iaculis purus metus, eget gravida metus rhoncus eget. Lorem ipsum dolor sit amet, consectetur adipiscing elit.'"
      ]
     },
     "execution_count": 3,
     "metadata": {},
     "output_type": "execute_result"
    }
   ],
   "source": [
    "open('../sources/example.txt').read()"
   ]
  },
  {
   "cell_type": "markdown",
   "id": "89b3e99e",
   "metadata": {},
   "source": [
    "#### Opening a csv"
   ]
  },
  {
   "cell_type": "code",
   "execution_count": 4,
   "id": "6987bec1",
   "metadata": {},
   "outputs": [
    {
     "data": {
      "text/plain": [
       "'code;name;manufacturer;pax;type\\nA321;Airbus A321;Airbus;230;Single Aisle\\nB789;Boeing 787-9;Boeing;350;Double Aisle\\nB77W;Boeing 777 Long Range;Boeing;410;Double Aisle\\nA35X;Airbus A350-1000;Airbus;490;Double Aisle\\n'"
      ]
     },
     "execution_count": 4,
     "metadata": {},
     "output_type": "execute_result"
    }
   ],
   "source": [
    "open('../sources/aircrafts.csv').read()"
   ]
  },
  {
   "cell_type": "markdown",
   "id": "f2ad1b6f",
   "metadata": {},
   "source": [
    "Which is not the same than doing this:"
   ]
  },
  {
   "cell_type": "code",
   "execution_count": 22,
   "id": "9974000b",
   "metadata": {},
   "outputs": [
    {
     "name": "stdout",
     "output_type": "stream",
     "text": [
      "code;name;manufacturer;pax;type\n",
      "A321;Airbus A321;Airbus;230;Single Aisle\n",
      "B789;Boeing 787-9;Boeing;350;Double Aisle\n",
      "B77W;Boeing 777 Long Range;Boeing;410;Double Aisle\n",
      "A35X;Airbus A350-1000;Airbus;490;Double Aisle\n",
      "\n"
     ]
    }
   ],
   "source": [
    "print(open('../sources/aircrafts.csv').read())"
   ]
  },
  {
   "cell_type": "markdown",
   "id": "c6d2989a",
   "metadata": {},
   "source": [
    "<font size=\"4\">Capisci? 🧐</font>\n",
    "\n",
    "Or you can do this:"
   ]
  },
  {
   "cell_type": "code",
   "execution_count": 23,
   "id": "9b423714",
   "metadata": {},
   "outputs": [
    {
     "name": "stdout",
     "output_type": "stream",
     "text": [
      "['code', 'name', 'manufacturer', 'pax', 'type']\n",
      "['A321', 'Airbus A321', 'Airbus', '230', 'Single Aisle']\n",
      "['B789', 'Boeing 787-9', 'Boeing', '350', 'Double Aisle']\n",
      "['B77W', 'Boeing 777 Long Range', 'Boeing', '410', 'Double Aisle']\n",
      "['A35X', 'Airbus A350-1000', 'Airbus', '490', 'Double Aisle']\n",
      "['']\n"
     ]
    }
   ],
   "source": [
    "for r in open('../sources/aircrafts.csv').read().split('\\n'):\n",
    "    print(r.split(';'))"
   ]
  },
  {
   "cell_type": "markdown",
   "id": "8d0767e4",
   "metadata": {},
   "source": [
    "As can be seen, we can open any text related format in the same way. A different topic is how to use that data, but we'll get into that point later."
   ]
  },
  {
   "cell_type": "markdown",
   "id": "57b2e9ba",
   "metadata": {},
   "source": [
    "### Open datasets with pandas\n",
    "\n",
    "Pandas is an open source Python package that is most widely used for data science/data analysis and machine learning tasks. It is built on top of another package named Numpy. It's a powerfull library to work with dataframes mainly.\n",
    "\n",
    "It can also open and convert to dataframes excel files or csv files.\n",
    "\n",
    "You can install pandas with: `pip install pandas` and load it with\n",
    "`import pandas as pd`\n",
    "\n",
    "To read a csv we have the native function `.read_csv()`. We can specify\n",
    "the separator with the option `sep=`"
   ]
  },
  {
   "cell_type": "code",
   "execution_count": 6,
   "id": "268e73b5",
   "metadata": {},
   "outputs": [
    {
     "data": {
      "text/html": [
       "<div>\n",
       "<style scoped>\n",
       "    .dataframe tbody tr th:only-of-type {\n",
       "        vertical-align: middle;\n",
       "    }\n",
       "\n",
       "    .dataframe tbody tr th {\n",
       "        vertical-align: top;\n",
       "    }\n",
       "\n",
       "    .dataframe thead th {\n",
       "        text-align: right;\n",
       "    }\n",
       "</style>\n",
       "<table border=\"1\" class=\"dataframe\">\n",
       "  <thead>\n",
       "    <tr style=\"text-align: right;\">\n",
       "      <th></th>\n",
       "      <th>code</th>\n",
       "      <th>name</th>\n",
       "      <th>manufacturer</th>\n",
       "      <th>pax</th>\n",
       "      <th>type</th>\n",
       "    </tr>\n",
       "  </thead>\n",
       "  <tbody>\n",
       "    <tr>\n",
       "      <th>0</th>\n",
       "      <td>A321</td>\n",
       "      <td>Airbus A321</td>\n",
       "      <td>Airbus</td>\n",
       "      <td>230</td>\n",
       "      <td>Single Aisle</td>\n",
       "    </tr>\n",
       "    <tr>\n",
       "      <th>1</th>\n",
       "      <td>B789</td>\n",
       "      <td>Boeing 787-9</td>\n",
       "      <td>Boeing</td>\n",
       "      <td>350</td>\n",
       "      <td>Double Aisle</td>\n",
       "    </tr>\n",
       "    <tr>\n",
       "      <th>2</th>\n",
       "      <td>B77W</td>\n",
       "      <td>Boeing 777 Long Range</td>\n",
       "      <td>Boeing</td>\n",
       "      <td>410</td>\n",
       "      <td>Double Aisle</td>\n",
       "    </tr>\n",
       "    <tr>\n",
       "      <th>3</th>\n",
       "      <td>A35X</td>\n",
       "      <td>Airbus A350-1000</td>\n",
       "      <td>Airbus</td>\n",
       "      <td>490</td>\n",
       "      <td>Double Aisle</td>\n",
       "    </tr>\n",
       "  </tbody>\n",
       "</table>\n",
       "</div>"
      ],
      "text/plain": [
       "   code                   name manufacturer  pax          type\n",
       "0  A321            Airbus A321       Airbus  230  Single Aisle\n",
       "1  B789           Boeing 787-9       Boeing  350  Double Aisle\n",
       "2  B77W  Boeing 777 Long Range       Boeing  410  Double Aisle\n",
       "3  A35X       Airbus A350-1000       Airbus  490  Double Aisle"
      ]
     },
     "execution_count": 6,
     "metadata": {},
     "output_type": "execute_result"
    }
   ],
   "source": [
    "import pandas as pd\n",
    "\n",
    "pd.read_csv('../sources/aircrafts.csv', sep=';')"
   ]
  },
  {
   "cell_type": "markdown",
   "id": "3e6a5418",
   "metadata": {},
   "source": [
    "Pandas can also load and prepare Excel files to be used with the function `.read_excel()`"
   ]
  },
  {
   "cell_type": "code",
   "execution_count": 9,
   "id": "69910203",
   "metadata": {},
   "outputs": [
    {
     "data": {
      "text/html": [
       "<div>\n",
       "<style scoped>\n",
       "    .dataframe tbody tr th:only-of-type {\n",
       "        vertical-align: middle;\n",
       "    }\n",
       "\n",
       "    .dataframe tbody tr th {\n",
       "        vertical-align: top;\n",
       "    }\n",
       "\n",
       "    .dataframe thead th {\n",
       "        text-align: right;\n",
       "    }\n",
       "</style>\n",
       "<table border=\"1\" class=\"dataframe\">\n",
       "  <thead>\n",
       "    <tr style=\"text-align: right;\">\n",
       "      <th></th>\n",
       "      <th>code</th>\n",
       "      <th>name</th>\n",
       "      <th>manufacturer</th>\n",
       "      <th>pax</th>\n",
       "      <th>type</th>\n",
       "    </tr>\n",
       "  </thead>\n",
       "  <tbody>\n",
       "    <tr>\n",
       "      <th>0</th>\n",
       "      <td>A321</td>\n",
       "      <td>Airbus A321</td>\n",
       "      <td>Airbus</td>\n",
       "      <td>230</td>\n",
       "      <td>Single Aisle</td>\n",
       "    </tr>\n",
       "    <tr>\n",
       "      <th>1</th>\n",
       "      <td>B789</td>\n",
       "      <td>Boeing 787-9</td>\n",
       "      <td>Boeing</td>\n",
       "      <td>350</td>\n",
       "      <td>Double Aisle</td>\n",
       "    </tr>\n",
       "    <tr>\n",
       "      <th>2</th>\n",
       "      <td>B77W</td>\n",
       "      <td>Boeing 777 Long Range</td>\n",
       "      <td>Boeing</td>\n",
       "      <td>410</td>\n",
       "      <td>Double Aisle</td>\n",
       "    </tr>\n",
       "    <tr>\n",
       "      <th>3</th>\n",
       "      <td>A35X</td>\n",
       "      <td>Airbus A350-1000</td>\n",
       "      <td>Airbus</td>\n",
       "      <td>490</td>\n",
       "      <td>Double Aisle</td>\n",
       "    </tr>\n",
       "  </tbody>\n",
       "</table>\n",
       "</div>"
      ],
      "text/plain": [
       "   code                   name manufacturer  pax          type\n",
       "0  A321            Airbus A321       Airbus  230  Single Aisle\n",
       "1  B789           Boeing 787-9       Boeing  350  Double Aisle\n",
       "2  B77W  Boeing 777 Long Range       Boeing  410  Double Aisle\n",
       "3  A35X       Airbus A350-1000       Airbus  490  Double Aisle"
      ]
     },
     "execution_count": 9,
     "metadata": {},
     "output_type": "execute_result"
    }
   ],
   "source": [
    "pd.read_excel('../sources/aircrafts.xlsx')"
   ]
  },
  {
   "cell_type": "markdown",
   "id": "77a99a80",
   "metadata": {},
   "source": [
    "### Opening doc and docx\n",
    "\n",
    "To open word documents we can use the library `docx2txt` and easily\n",
    "process it.\n",
    "\n",
    "Install the library running in the Anaconda prompt\n",
    "`pip install docx2txt`\n",
    "\n",
    "The document can be open with the `process()` command"
   ]
  },
  {
   "cell_type": "code",
   "execution_count": 13,
   "id": "ee300851",
   "metadata": {},
   "outputs": [
    {
     "data": {
      "text/plain": [
       "'Lorem ipsum dolor sit amet, consectetur adipiscing elit. Vestibulum euismod ante nibh, vel commodo lectus elementum non. Mauris molestie arcu id mi tempor, nec venenatis enim feugiat. In sit amet nisi at sem semper mollis vel sit amet quam. Phasellus non accumsan felis. Sed pretium ligula sed elit porta, in mollis ligula auctor. Mauris volutpat elit est, sit amet feugiat nunc auctor non. Sed sodales vitae arcu eu aliquam. Proin dictum odio malesuada malesuada gravida. Proin vel urna erat.\\n\\nCurabitur faucibus accumsan est, non efficitur odio aliquet eu. Vestibulum ante ipsum primis in faucibus orci luctus et ultrices posuere cubilia curae; Phasellus lorem erat, malesuada ut eros in, commodo euismod nunc. In feugiat erat in nisl congue viverra. Nunc laoreet sit amet quam id consequat. Nulla interdum, mauris eu finibus dapibus, metus urna finibus risus, eu pharetra eros diam in quam. Nam vitae risus nisl. Donec ornare ut arcu sed suscipit.\\n\\nPellentesque porta nibh quis dui varius consectetur. Ut accumsan tristique diam, et dignissim nulla malesuada nec. Nullam sagittis iaculis lorem vitae congue. Ut congue finibus sem, eu pellentesque quam sodales id. Proin varius augue et commodo accumsan. Class aptent taciti sociosqu ad litora torquent per conubia nostra, per inceptos himenaeos. Pellentesque fringilla libero sem, ac porta nisi blandit sed.\\n\\nNullam eu erat felis. Sed id sapien sed lacus feugiat placerat vitae id est. Donec fringilla facilisis nulla quis consequat. Sed felis nulla, placerat in sodales vitae, malesuada eget nulla. Vestibulum euismod convallis justo, ac venenatis nunc cursus vitae. Nam et nisl sit amet ligula ornare eleifend. Sed nibh velit, congue nec ornare id, accumsan ac orci.\\n\\nCurabitur aliquam est sed velit imperdiet, quis luctus metus tincidunt. Sed rutrum sed lacus sed suscipit. Aliquam erat volutpat. Donec nec metus nibh. Class aptent taciti sociosqu ad litora torquent per conubia nostra, per inceptos himenaeos. Nunc a tincidunt enim, eu sodales lacus. Aenean risus est, dictum eu dictum et, molestie vitae neque. Vivamus commodo nunc purus, quis condimentum risus dictum eu.'"
      ]
     },
     "execution_count": 13,
     "metadata": {},
     "output_type": "execute_result"
    }
   ],
   "source": [
    "import docx2txt\n",
    "\n",
    "docx2txt.process('../sources/lorem_ipsum_word.docx')"
   ]
  },
  {
   "cell_type": "markdown",
   "id": "96fb3768",
   "metadata": {},
   "source": [
    "## Getting data from api\n",
    "\n",
    "First thing we need to understand is what an api is. API stands for “Application Programming Interface,” which is a way to communicate between different software services. Different types of APIs are used in programming hardware and software, including operating systemAPIs, remote APIs and web APIs.\n",
    "\n",
    "A web API or web service API is a set of tools that allow developers to send and receive instructions and data between a web server and a web browser — usually in JSON format — to build applications.\n",
    "\n",
    "The APIs will allow us, for our purpouse, to get data from a remote source, without the need to connect directly to the source (SQL, Mongo, local files, CMS, ERP, ...) and many of them will already provide some kind of data preparation.\n",
    "\n",
    "To connect with APIs we'll use the library requests.\n",
    "\n",
    "Also we need to have in mind that each API is different from other ones. Most of then provide an extense documentation about how to use them.\n",
    "\n",
    "The most common ways we'll be connecting to them is by POST and GET method. But, what's POST and what's GET, and how to difference them?\n",
    "\n",
    "A very basic explanation of it is, the with the GET we are just calling an URL and getting the data (you can even access with your browser to that url and see the data) and with the POST you're \"posting\" some data to the server and getting information back.\n",
    "\n",
    "Let's see some examples in action!\n",
    "\n",
    "\n",
    "### Importing the request library"
   ]
  },
  {
   "cell_type": "code",
   "execution_count": 1,
   "id": "fe9ec599",
   "metadata": {},
   "outputs": [],
   "source": [
    "import requests"
   ]
  },
  {
   "cell_type": "markdown",
   "id": "3c06d472",
   "metadata": {},
   "source": [
    "Once we have the library imported, let's make some previous setup. Not all the setups we'll make are mandatory, but they will avoid some common errors and blocks.\n",
    "\n",
    "You can always copy paste the mayority of this details since the're common to any project.\n",
    "\n",
    "**Setup the headers**\n",
    "\n",
    "What are the headers? An HTTP request header is a component of a network\n",
    "packet sent by a browser or client to the server to request for a\n",
    "specific page or data on the Web server. It is used in Web\n",
    "communications or Internet browsing to transport user requests to the\n",
    "corresponding website’s Web server.\n",
    "\n",
    "We'll setup the User-Agent header, to tell the service we are a user\n",
    "using a firefox browser. We can also setup the Accept content header, to\n",
    "specify some format of the data."
   ]
  },
  {
   "cell_type": "code",
   "execution_count": 15,
   "id": "9cb82103",
   "metadata": {},
   "outputs": [],
   "source": [
    "basic_headers = {'User-Agent': 'Mozilla/5.0'}"
   ]
  },
  {
   "cell_type": "markdown",
   "id": "cd0ec212",
   "metadata": {},
   "source": [
    "### GET Request\n",
    "\n",
    "And now it's time to see an example GET request.\n",
    "\n",
    "We'll use the opensource API named **The Cocktail DB** $ \\rightarrow $ <https://www.thecocktaildb.com/api.php>"
   ]
  },
  {
   "cell_type": "code",
   "execution_count": 16,
   "id": "e5aee843",
   "metadata": {},
   "outputs": [
    {
     "name": "stdout",
     "output_type": "stream",
     "text": [
      "<Response [200]>\n"
     ]
    }
   ],
   "source": [
    "endpoint = 'https://www.thecocktaildb.com/api/json/v1/1/random.php'\n",
    "payload = requests.get(endpoint, headers=basic_headers)\n",
    "print(payload)"
   ]
  },
  {
   "cell_type": "markdown",
   "id": "0aa80d8c",
   "metadata": {},
   "source": [
    "As you can see, we have received a 200 code, but; What's a 200 code?\n",
    "\n",
    "The 200 code means that everything is ok. You will probably know some of this codes:\n",
    "\n",
    "-   **200 - OK code:** A 200 is the most common type of response code, and\n",
    "    the one we experience most of the time when browsing the web. We\n",
    "    asked to see a web page, and it was presented to us without any\n",
    "    trouble.\n",
    "-   **301 or 302 Moved:** The content has been moved to another URL,\n",
    "    temporarily or pemanently\n",
    "-   **401 Unauthorized:** We've requested a content, some kind of login is\n",
    "    required to access it (token, user + password, certificate, ...).\n",
    "-   **403 Forbidden:** We've requested a content that we don't have\n",
    "    permission to access at all. This page isn't for us.\n",
    "-   **404 Not Found:** We've requested a content, but the web server doesn't\n",
    "    recognize our request. The page can't be shown because the server\n",
    "    doesn't know what it is.\n",
    "-   **500 Internal Server Error:** We've requested a page, and in return, we\n",
    "    get a generic error message. No information is given.\n",
    "-   **503 Service Unavailable:** We asked for a page, but are told that it\n",
    "    is temporarily unavailable. Something is wrong. Perhaps the website\n",
    "    is down for maintenance or the payload we sent is incorrect.\n",
    "\n",
    "Once we know about those codes you may be asking, ok but what I do with\n",
    "that 200 code? Where's the content?\n",
    "\n",
    "Let's access to it with the `.content` attribute"
   ]
  },
  {
   "cell_type": "code",
   "execution_count": 17,
   "id": "f6442e0a",
   "metadata": {},
   "outputs": [
    {
     "data": {
      "text/plain": [
       "b'{\"drinks\":[{\"idDrink\":\"178333\",\"strDrink\":\"Raspberry Julep\",\"strDrinkAlternate\":null,\"strTags\":null,\"strVideo\":null,\"strCategory\":\"Cocktail\",\"strIBA\":null,\"strAlcoholic\":\"Alcoholic\",\"strGlass\":\"Cordial glass\",\"strInstructions\":\"Softly muddle the mint leaves and raspberry syrup in the bottom of the cup. Add crushed ice and Bourbon to the cup and then stir. Top with more ice, garnish with a mint sprig.\",\"strInstructionsES\":null,\"strInstructionsDE\":null,\"strInstructionsFR\":null,\"strInstructionsIT\":\"Pestare delicatamente le foglie di menta e lo sciroppo di lamponi sul fondo della tazza. Aggiungere il ghiaccio tritato e il Bourbon nella tazza e poi mescolare. Completare con altro ghiaccio, guarnire con un rametto di menta.\",\"strInstructionsZH-HANS\":null,\"strInstructionsZH-HANT\":null,\"strDrinkThumb\":\"https:\\\\/\\\\/www.thecocktaildb.com\\\\/images\\\\/media\\\\/drink\\\\/hyztmx1598719265.jpg\",\"strIngredient1\":\"Bourbon\",\"strIngredient2\":\"Raspberry syrup\",\"strIngredient3\":\"Mint\",\"strIngredient4\":null,\"strIngredient5\":null,\"strIngredient6\":null,\"strIngredient7\":null,\"strIngredient8\":null,\"strIngredient9\":null,\"strIngredient10\":null,\"strIngredient11\":null,\"strIngredient12\":null,\"strIngredient13\":null,\"strIngredient14\":null,\"strIngredient15\":null,\"strMeasure1\":\"2 oz\",\"strMeasure2\":\"1\\\\/2 oz\",\"strMeasure3\":\"8\",\"strMeasure4\":\"\",\"strMeasure5\":\"\",\"strMeasure6\":\"\",\"strMeasure7\":\"\",\"strMeasure8\":null,\"strMeasure9\":null,\"strMeasure10\":null,\"strMeasure11\":null,\"strMeasure12\":null,\"strMeasure13\":null,\"strMeasure14\":null,\"strMeasure15\":null,\"strImageSource\":null,\"strImageAttribution\":null,\"strCreativeCommonsConfirmed\":\"No\",\"dateModified\":null}]}'"
      ]
     },
     "execution_count": 17,
     "metadata": {},
     "output_type": "execute_result"
    }
   ],
   "source": [
    "payload.content"
   ]
  },
  {
   "cell_type": "markdown",
   "id": "d5061f08",
   "metadata": {},
   "source": [
    "In this case, the content is a JSON. The easiest way to work with its content is directly get the content with the `.json()` function"
   ]
  },
  {
   "cell_type": "code",
   "execution_count": 18,
   "id": "f72c1a81",
   "metadata": {},
   "outputs": [
    {
     "data": {
      "text/plain": [
       "{'drinks': [{'idDrink': '178333',\n",
       "   'strDrink': 'Raspberry Julep',\n",
       "   'strDrinkAlternate': None,\n",
       "   'strTags': None,\n",
       "   'strVideo': None,\n",
       "   'strCategory': 'Cocktail',\n",
       "   'strIBA': None,\n",
       "   'strAlcoholic': 'Alcoholic',\n",
       "   'strGlass': 'Cordial glass',\n",
       "   'strInstructions': 'Softly muddle the mint leaves and raspberry syrup in the bottom of the cup. Add crushed ice and Bourbon to the cup and then stir. Top with more ice, garnish with a mint sprig.',\n",
       "   'strInstructionsES': None,\n",
       "   'strInstructionsDE': None,\n",
       "   'strInstructionsFR': None,\n",
       "   'strInstructionsIT': 'Pestare delicatamente le foglie di menta e lo sciroppo di lamponi sul fondo della tazza. Aggiungere il ghiaccio tritato e il Bourbon nella tazza e poi mescolare. Completare con altro ghiaccio, guarnire con un rametto di menta.',\n",
       "   'strInstructionsZH-HANS': None,\n",
       "   'strInstructionsZH-HANT': None,\n",
       "   'strDrinkThumb': 'https://www.thecocktaildb.com/images/media/drink/hyztmx1598719265.jpg',\n",
       "   'strIngredient1': 'Bourbon',\n",
       "   'strIngredient2': 'Raspberry syrup',\n",
       "   'strIngredient3': 'Mint',\n",
       "   'strIngredient4': None,\n",
       "   'strIngredient5': None,\n",
       "   'strIngredient6': None,\n",
       "   'strIngredient7': None,\n",
       "   'strIngredient8': None,\n",
       "   'strIngredient9': None,\n",
       "   'strIngredient10': None,\n",
       "   'strIngredient11': None,\n",
       "   'strIngredient12': None,\n",
       "   'strIngredient13': None,\n",
       "   'strIngredient14': None,\n",
       "   'strIngredient15': None,\n",
       "   'strMeasure1': '2 oz',\n",
       "   'strMeasure2': '1/2 oz',\n",
       "   'strMeasure3': '8',\n",
       "   'strMeasure4': '',\n",
       "   'strMeasure5': '',\n",
       "   'strMeasure6': '',\n",
       "   'strMeasure7': '',\n",
       "   'strMeasure8': None,\n",
       "   'strMeasure9': None,\n",
       "   'strMeasure10': None,\n",
       "   'strMeasure11': None,\n",
       "   'strMeasure12': None,\n",
       "   'strMeasure13': None,\n",
       "   'strMeasure14': None,\n",
       "   'strMeasure15': None,\n",
       "   'strImageSource': None,\n",
       "   'strImageAttribution': None,\n",
       "   'strCreativeCommonsConfirmed': 'No',\n",
       "   'dateModified': None}]}"
      ]
     },
     "execution_count": 18,
     "metadata": {},
     "output_type": "execute_result"
    }
   ],
   "source": [
    "payload.json()"
   ]
  },
  {
   "cell_type": "code",
   "execution_count": 19,
   "id": "90e686ad",
   "metadata": {},
   "outputs": [
    {
     "data": {
      "text/plain": [
       "'Raspberry Julep'"
      ]
     },
     "execution_count": 19,
     "metadata": {},
     "output_type": "execute_result"
    }
   ],
   "source": [
    "payload.json()['drinks'][0]['strDrink']"
   ]
  },
  {
   "cell_type": "markdown",
   "id": "1b21ba79",
   "metadata": {},
   "source": [
    "### Post request\n",
    "\n",
    "Now we'll try the post request, they are the most usual in the big apis, or in those where we need to exchange information.\n",
    "\n",
    "It's usual that we need to authenticate our requests, but we see how later.\n",
    "\n",
    "Now we'll use the OnAirNet API, and we'll call different endpoints so, we'll set this up in a different way this time.\n",
    "\n",
    "Let's make our first post request:"
   ]
  },
  {
   "cell_type": "code",
   "execution_count": 3,
   "id": "deb4a4ad",
   "metadata": {},
   "outputs": [
    {
     "ename": "JSONDecodeError",
     "evalue": "[Errno Expecting value] <!doctype html>\n<html lang=en>\n<title>404 Not Found</title>\n<h1>Not Found</h1>\n<p>The requested URL was not found on the server. If you entered the URL manually please check your spelling and try again.</p>\n: 0",
     "output_type": "error",
     "traceback": [
      "\u001b[1;31m---------------------------------------------------------------------------\u001b[0m",
      "\u001b[1;31mJSONDecodeError\u001b[0m                           Traceback (most recent call last)",
      "File \u001b[1;32m~\\anaconda3\\lib\\site-packages\\requests\\models.py:910\u001b[0m, in \u001b[0;36mResponse.json\u001b[1;34m(self, **kwargs)\u001b[0m\n\u001b[0;32m    909\u001b[0m \u001b[38;5;28;01mtry\u001b[39;00m:\n\u001b[1;32m--> 910\u001b[0m     \u001b[38;5;28;01mreturn\u001b[39;00m complexjson\u001b[38;5;241m.\u001b[39mloads(\u001b[38;5;28mself\u001b[39m\u001b[38;5;241m.\u001b[39mtext, \u001b[38;5;241m*\u001b[39m\u001b[38;5;241m*\u001b[39mkwargs)\n\u001b[0;32m    911\u001b[0m \u001b[38;5;28;01mexcept\u001b[39;00m JSONDecodeError \u001b[38;5;28;01mas\u001b[39;00m e:\n\u001b[0;32m    912\u001b[0m     \u001b[38;5;66;03m# Catch JSON-related errors and raise as requests.JSONDecodeError\u001b[39;00m\n\u001b[0;32m    913\u001b[0m     \u001b[38;5;66;03m# This aliases json.JSONDecodeError and simplejson.JSONDecodeError\u001b[39;00m\n",
      "File \u001b[1;32m~\\anaconda3\\lib\\site-packages\\simplejson\\__init__.py:525\u001b[0m, in \u001b[0;36mloads\u001b[1;34m(s, encoding, cls, object_hook, parse_float, parse_int, parse_constant, object_pairs_hook, use_decimal, **kw)\u001b[0m\n\u001b[0;32m    521\u001b[0m \u001b[38;5;28;01mif\u001b[39;00m (\u001b[38;5;28mcls\u001b[39m \u001b[38;5;129;01mis\u001b[39;00m \u001b[38;5;28;01mNone\u001b[39;00m \u001b[38;5;129;01mand\u001b[39;00m encoding \u001b[38;5;129;01mis\u001b[39;00m \u001b[38;5;28;01mNone\u001b[39;00m \u001b[38;5;129;01mand\u001b[39;00m object_hook \u001b[38;5;129;01mis\u001b[39;00m \u001b[38;5;28;01mNone\u001b[39;00m \u001b[38;5;129;01mand\u001b[39;00m\n\u001b[0;32m    522\u001b[0m         parse_int \u001b[38;5;129;01mis\u001b[39;00m \u001b[38;5;28;01mNone\u001b[39;00m \u001b[38;5;129;01mand\u001b[39;00m parse_float \u001b[38;5;129;01mis\u001b[39;00m \u001b[38;5;28;01mNone\u001b[39;00m \u001b[38;5;129;01mand\u001b[39;00m\n\u001b[0;32m    523\u001b[0m         parse_constant \u001b[38;5;129;01mis\u001b[39;00m \u001b[38;5;28;01mNone\u001b[39;00m \u001b[38;5;129;01mand\u001b[39;00m object_pairs_hook \u001b[38;5;129;01mis\u001b[39;00m \u001b[38;5;28;01mNone\u001b[39;00m\n\u001b[0;32m    524\u001b[0m         \u001b[38;5;129;01mand\u001b[39;00m \u001b[38;5;129;01mnot\u001b[39;00m use_decimal \u001b[38;5;129;01mand\u001b[39;00m \u001b[38;5;129;01mnot\u001b[39;00m kw):\n\u001b[1;32m--> 525\u001b[0m     \u001b[38;5;28;01mreturn\u001b[39;00m \u001b[43m_default_decoder\u001b[49m\u001b[38;5;241;43m.\u001b[39;49m\u001b[43mdecode\u001b[49m\u001b[43m(\u001b[49m\u001b[43ms\u001b[49m\u001b[43m)\u001b[49m\n\u001b[0;32m    526\u001b[0m \u001b[38;5;28;01mif\u001b[39;00m \u001b[38;5;28mcls\u001b[39m \u001b[38;5;129;01mis\u001b[39;00m \u001b[38;5;28;01mNone\u001b[39;00m:\n",
      "File \u001b[1;32m~\\anaconda3\\lib\\site-packages\\simplejson\\decoder.py:372\u001b[0m, in \u001b[0;36mJSONDecoder.decode\u001b[1;34m(self, s, _w, _PY3)\u001b[0m\n\u001b[0;32m    371\u001b[0m     s \u001b[38;5;241m=\u001b[39m \u001b[38;5;28mstr\u001b[39m(s, \u001b[38;5;28mself\u001b[39m\u001b[38;5;241m.\u001b[39mencoding)\n\u001b[1;32m--> 372\u001b[0m obj, end \u001b[38;5;241m=\u001b[39m \u001b[38;5;28;43mself\u001b[39;49m\u001b[38;5;241;43m.\u001b[39;49m\u001b[43mraw_decode\u001b[49m\u001b[43m(\u001b[49m\u001b[43ms\u001b[49m\u001b[43m)\u001b[49m\n\u001b[0;32m    373\u001b[0m end \u001b[38;5;241m=\u001b[39m _w(s, end)\u001b[38;5;241m.\u001b[39mend()\n",
      "File \u001b[1;32m~\\anaconda3\\lib\\site-packages\\simplejson\\decoder.py:402\u001b[0m, in \u001b[0;36mJSONDecoder.raw_decode\u001b[1;34m(self, s, idx, _w, _PY3)\u001b[0m\n\u001b[0;32m    401\u001b[0m         idx \u001b[38;5;241m+\u001b[39m\u001b[38;5;241m=\u001b[39m \u001b[38;5;241m3\u001b[39m\n\u001b[1;32m--> 402\u001b[0m \u001b[38;5;28;01mreturn\u001b[39;00m \u001b[38;5;28;43mself\u001b[39;49m\u001b[38;5;241;43m.\u001b[39;49m\u001b[43mscan_once\u001b[49m\u001b[43m(\u001b[49m\u001b[43ms\u001b[49m\u001b[43m,\u001b[49m\u001b[43m \u001b[49m\u001b[43midx\u001b[49m\u001b[38;5;241;43m=\u001b[39;49m\u001b[43m_w\u001b[49m\u001b[43m(\u001b[49m\u001b[43ms\u001b[49m\u001b[43m,\u001b[49m\u001b[43m \u001b[49m\u001b[43midx\u001b[49m\u001b[43m)\u001b[49m\u001b[38;5;241;43m.\u001b[39;49m\u001b[43mend\u001b[49m\u001b[43m(\u001b[49m\u001b[43m)\u001b[49m\u001b[43m)\u001b[49m\n",
      "\u001b[1;31mJSONDecodeError\u001b[0m: Expecting value: line 1 column 1 (char 0)",
      "\nDuring handling of the above exception, another exception occurred:\n",
      "\u001b[1;31mJSONDecodeError\u001b[0m                           Traceback (most recent call last)",
      "Input \u001b[1;32mIn [3]\u001b[0m, in \u001b[0;36m<cell line: 5>\u001b[1;34m()\u001b[0m\n\u001b[0;32m      3\u001b[0m api_call \u001b[38;5;241m=\u001b[39m api \u001b[38;5;241m+\u001b[39m endpoint\n\u001b[0;32m      4\u001b[0m payload \u001b[38;5;241m=\u001b[39m requests\u001b[38;5;241m.\u001b[39mget(api_call)\n\u001b[1;32m----> 5\u001b[0m \u001b[38;5;28mprint\u001b[39m(\u001b[43mpayload\u001b[49m\u001b[38;5;241;43m.\u001b[39;49m\u001b[43mjson\u001b[49m\u001b[43m(\u001b[49m\u001b[43m)\u001b[49m)\n",
      "File \u001b[1;32m~\\anaconda3\\lib\\site-packages\\requests\\models.py:917\u001b[0m, in \u001b[0;36mResponse.json\u001b[1;34m(self, **kwargs)\u001b[0m\n\u001b[0;32m    915\u001b[0m     \u001b[38;5;28;01mraise\u001b[39;00m RequestsJSONDecodeError(e\u001b[38;5;241m.\u001b[39mmessage)\n\u001b[0;32m    916\u001b[0m \u001b[38;5;28;01melse\u001b[39;00m:\n\u001b[1;32m--> 917\u001b[0m     \u001b[38;5;28;01mraise\u001b[39;00m RequestsJSONDecodeError(e\u001b[38;5;241m.\u001b[39mmsg, e\u001b[38;5;241m.\u001b[39mdoc, e\u001b[38;5;241m.\u001b[39mpos)\n",
      "\u001b[1;31mJSONDecodeError\u001b[0m: [Errno Expecting value] <!doctype html>\n<html lang=en>\n<title>404 Not Found</title>\n<h1>Not Found</h1>\n<p>The requested URL was not found on the server. If you entered the URL manually please check your spelling and try again.</p>\n: 0"
     ]
    }
   ],
   "source": [
    "api = 'https://api.onairnet.xyz/'\n",
    "endpoint = 'assembler/aircraft/last-5-country'\n",
    "api_call = api + endpoint\n",
    "payload = requests.post(api_call)\n",
    "print(payload.json())"
   ]
  },
  {
   "cell_type": "code",
   "execution_count": null,
   "id": "b0d46cc2",
   "metadata": {},
   "outputs": [],
   "source": []
  }
 ],
 "metadata": {
  "kernelspec": {
   "display_name": "Python 3 (ipykernel)",
   "language": "python",
   "name": "python3"
  },
  "language_info": {
   "codemirror_mode": {
    "name": "ipython",
    "version": 3
   },
   "file_extension": ".py",
   "mimetype": "text/x-python",
   "name": "python",
   "nbconvert_exporter": "python",
   "pygments_lexer": "ipython3",
   "version": "3.9.12"
  },
  "toc": {
   "base_numbering": 1,
   "nav_menu": {},
   "number_sections": true,
   "sideBar": true,
   "skip_h1_title": true,
   "title_cell": "Table of Contents",
   "title_sidebar": "Contents",
   "toc_cell": false,
   "toc_position": {},
   "toc_section_display": true,
   "toc_window_display": false
  }
 },
 "nbformat": 4,
 "nbformat_minor": 5
}
