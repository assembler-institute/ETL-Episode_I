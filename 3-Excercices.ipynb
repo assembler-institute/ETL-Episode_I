{
 "cells": [
  {
   "cell_type": "markdown",
   "id": "675c5938-8a52-4471-9b2f-d0b93787ec96",
   "metadata": {},
   "source": [
    "# ETL EII: Exercises"
   ]
  },
  {
   "cell_type": "markdown",
   "id": "fcd4d0be",
   "metadata": {},
   "source": [
    "## 1. The airports data\n",
    "\n",
    "To solve this exercise, you will need to retrieve data from airports using 2 APIs. The first API will provide a random list airports (keep of 50 of them randomly), while the second API will provide detailed information about the airports.\n",
    "\n",
    "The objective of this exercise is twofold. Firstly, you need to make a basic POST request with authentication to the application. Secondly, you will learn how to read and apply the documentation of an API.\n",
    "\n",
    "\n",
    "### Part 1: 1st API\n",
    "\n",
    "To make these calls, you will need to authenticate your requests.\n",
    "\n",
    "The endpoint to use is https://api.oan.one/assembler/etl/ej1\n",
    "\n",
    "To make the calls, you will need to include the `oanToken` header with the token value `ZF7xNEuLAZ5DKLQAEGVUq6VquGLQdsL7`.\n",
    "\n",
    "\n",
    "**Reminder:** in the digital world, a token can be thought of as a digital \"key\" that allows access to specific services or resources within a system; e.g an API. It serves as a form of authentication, ensuring that only authorized individuals can access protected information or perform certain actions. Think of it as a special passcode that you use to unlock specific features or gain entry to restricted areas.\n",
    "\n",
    "\n",
    "**TIP**: Did you try entering the URL in a browser? Before executing the Python code, you can practice making the POST requests in Postman with the corresponding `oanToken`. Then proceed to create the Python script.\n",
    "\n",
    "\n",
    "Once you make the request, you will receive a JSON object containing a list of airports. You will need to perform a search in part 2 for each airport in the list.\n",
    "\n",
    "\n",
    "**NOTE**: The API will provide you with the IATA codes of the airports.\n",
    "\n",
    "\n",
    "From the list, randomly select 50 IATA codes of the airports.\n",
    "\n",
    "\n",
    "### Part 2: 2nd API\n",
    "\n",
    "To proceed with the exercise, you will need to create an account at https://www.air-port-codes.com/ and obtain the API keys. Once you have the API keys, you can use Postman to explore the available endpoints and determine which one best suits your needs for this exercise.\n",
    "\n",
    "Create a dataframe containing the following fields for your 50 random airports:\n",
    "\n",
    "- ID (IATA code): int\n",
    "- Name: str\n",
    "- Latitude: float (round to 2 digits)\n",
    "- Longitude: float (round to 2 digits)\n",
    "- Country: str\n",
    "- City: str\n",
    "- Continent: str\n",
    "\n",
    "\n",
    "**TIP**: To learn how to use the API, refer to the documentation on the website and try out the endpoints using Postman."
   ]
  },
  {
   "cell_type": "code",
   "execution_count": null,
   "id": "d7bdebf0",
   "metadata": {},
   "outputs": [],
   "source": [
    "# Type your code here:"
   ]
  },
  {
   "cell_type": "markdown",
   "id": "b4d696f4-4bdd-448e-a6bf-efc121701391",
   "metadata": {},
   "source": [
    "## 2. The airlines data\n",
    "\n",
    "### Part 1: scrap the web!\n",
    "\n",
    "Get the full list of airlines contained in https://www.flightradar24.com/data/airlines. Save that data in a dataframe (with headers) containing the following features:\n",
    "\n",
    "\n",
    "- Name (str): the name corresponding to the airline.\n",
    "\n",
    "\n",
    "- IATA code (str): a  location identifier composed of a unique 3-letter code used in aviation and logistics to identify an airport.\n",
    "\n",
    "\n",
    "- OACI code (str): 2-letter code; None if not available.\n",
    "\n",
    "\n",
    "- Fleet (int): amount of airplains.\n",
    "\n",
    "\n",
    "- Image URL (str): a functioning website with the company logo displayed as an image.\n",
    "\n",
    "\n",
    "- Timestamp: precise moment when the information is captured in the format AAA-MM-DD hh:mm:ss.\n",
    "\n",
    "\n",
    "\n",
    "**Notes:** you must not transform the data obtained from the request. The only allowed modifications are minor changes, such as converting data types or removing the word \"aircraft\" from the fleet field.\n",
    "\n",
    "\n",
    "\n",
    "### Part 2: store\n",
    "\n",
    "Download and save all the airlines logos in a folder"
   ]
  },
  {
   "cell_type": "code",
   "execution_count": null,
   "id": "e8e9680b",
   "metadata": {},
   "outputs": [],
   "source": [
    "# Type your code here:"
   ]
  },
  {
   "cell_type": "markdown",
   "id": "eb842461-2d1f-4659-8227-7e62f90982fa",
   "metadata": {},
   "source": [
    "## 3. Cat-Fact Data\n",
    "\n",
    "<img src=\"https://www.padoniavets.com/sites/default/files/field/image/cats-and-dogs.jpg\">\n",
    "\n",
    "Let's get information about animals ! 🐶🐱 To do this, we'll use an API of the following website https://cat-fact.herokuapp.com in the Developer API section we can find information about the different endpoints of the API https://alexwohlbruck.github.io/cat-facts/docs/ with this API you should be able to do the next tasks:\n",
    "+ Research the different API endpoints\n",
    "+ Get random facts about 50 cats and 50 dogs (we'll only use the verified facts)\n",
    "+ Save that information in a dataframe that has the following columns:\n",
    "    + Document ID\n",
    "    + Text recovered from the document.\n",
    "    + Type of animal\n",
    "    + Date of last update of the document."
   ]
  },
  {
   "cell_type": "code",
   "execution_count": null,
   "id": "7675738d",
   "metadata": {},
   "outputs": [],
   "source": [
    "# Type your code here:"
   ]
  },
  {
   "cell_type": "markdown",
   "id": "cea9414b-e96b-44b3-9352-2e5a27497644",
   "metadata": {},
   "source": [
    "## 4. Airlines Routes\n",
    "\n",
    "In this exercise, you will extract the different airline codes from a database and then utilize the Amadeus API to retrieve all the routes operated by each airline. You will store all airline destinations in a single dataframe with the following structure:\n",
    "\n",
    "- Name: City name\n",
    "- cityCode: IATA location code\n",
    "- airlineCode: IATA airline code\n",
    "- timeZone: City's timezone (OPTIONAL)\n",
    "\n",
    "**Notes:**\n",
    "\n",
    "1 - To use Amadeus, you need to create and register a developer account, which is free of charge. You can do so by visiting the following link: https://developers.amadeus.com/\n",
    "\n",
    "\n",
    "2 - The MySQL database connection details are as follows:\n",
    "   - Server: iosqlde.onairnet.xyz\n",
    "   - User: assemblerReader\n",
    "   - Password: !Reader2022\n",
    "   - Database: sqlCourse\n",
    "   - Table: rawFlights\n",
    "\n",
    "3 - The table used for this exercise contains more information than necessary. Your task is to obtain only the list of airline codes.\n",
    "\n",
    "\n",
    "Please ensure that you follow the provided instructions and refer to the Amadeus documentation for guidance on utilizing their API effectively."
   ]
  },
  {
   "cell_type": "code",
   "execution_count": null,
   "id": "3efb94c2",
   "metadata": {},
   "outputs": [],
   "source": [
    "# Type your code here:"
   ]
  },
  {
   "cell_type": "markdown",
   "id": "a28c86fa",
   "metadata": {},
   "source": [
    "## 5. Star Wars Data\n",
    "\n",
    "<img src = \"https://upload.wikimedia.org/wikipedia/commons/thumb/6/6c/Star_Wars_Logo.svg/1200px-Star_Wars_Logo.svg.png\" >\n",
    "\n",
    "For this exercise we're going to use an API about Star Wars. This API is free https://swapi.dev/ so you wouldn't need to use any API Key (feel free to search about the different endpoints of the API)\n",
    "\n",
    "To check connection status of the get method and the results of each query you can use PostMan and also the url https://swapi.dev/ includes an interface to check your querys.\n",
    "\n",
    "For example if you type the following code:\n",
    "\n",
    "```python\n",
    "import requests\n",
    "\n",
    "# Using the get method \n",
    "req_js = requests.get(\"https://swapi.dev/api/\").json()\n",
    "```\n",
    "\n",
    "You'll get the following results\n",
    "\n",
    "```python\n",
    "print(req_js)\n",
    "\n",
    "# Results\n",
    "{'people': 'https://swapi.dev/api/people/',\n",
    " 'planets': 'https://swapi.dev/api/planets/',\n",
    " 'films': 'https://swapi.dev/api/films/',\n",
    " 'species': 'https://swapi.dev/api/species/',\n",
    " 'vehicles': 'https://swapi.dev/api/vehicles/',\n",
    " 'starships': 'https://swapi.dev/api/starships/'}\n",
    "```\n",
    "\n",
    "As you can see the different endpoints of the API are:\n",
    "+ People\n",
    "+ Planets\n",
    "+ Films\n",
    "+ Species\n",
    "+ Vehicles\n",
    "+ Starships\n",
    "\n",
    "In each endpoint we can find about an specific item, por instance planes, in this case we just need to add to the end of our endpoint a number to retrieve data `planets/1`, this call will return data about the first planet as name, gravity, etc. If you need to read further information you can find the API documentation in the followin url https://swapi.dev/documentation\n",
    "\n",
    "With the StarWars API you need to complete the following tasks:\n",
    "* Get a dataframe with all records about StarWars people (only the key filds from name to gender).\n",
    "* With the dataframe, show the mass mean by sex (note that the string ('n/a') will be considered as a gender)\n",
    "* Plot the relationship between weigth and heigth of the People.\n",
    "* Plot the relationship between the mean value of heigth explanied by the eye color"
   ]
  },
  {
   "cell_type": "code",
   "execution_count": null,
   "id": "5dacdcc3",
   "metadata": {},
   "outputs": [],
   "source": [
    "# Type your code here:"
   ]
  },
  {
   "cell_type": "markdown",
   "id": "5481c6ac",
   "metadata": {},
   "source": [
    "## 6. Non-Structured Problematic Data\n",
    "\n",
    "<img src=\"https://i0.wp.com/dryviq.com/wp-content/uploads/2020/11/DryvIQ-Unstructured-VS-Structured-Data-Diagram-Light.png?resize=1024%2C512&ssl=1\">\n",
    "\n",
    "Let's work with more non-structred data, in this case you will not make any call to any API, we've alredy the data stored in a file called `qa_Cell_Phones_and_Accessories.json`. The data contains information about conversations made by an operational agent of a cell and phones store and the clients.\n",
    "\n",
    "The file contains in each row a json object so, we've a collecion of multiple jsons (the data type of data that should be stored in non relational databases as MongoDB). Of course all of this information it's a mess and it's in raw format, you're mission will be to get the data from a non-structured world (collecion of jsons) to the structured data format (pandas dataframe). \n",
    "\n",
    "**Notes**: If you look the data can check that all pair of key : value fields are writed with single quotes but json objects should have double quotes.\n",
    "\n",
    "Some things that you can try to read the data:\n",
    "- Use the `open` function with `json.load` function\n",
    "- Use the `open` function with `json.loads` function \n",
    "- Use the `open` function with `json.loads` function in each line of the file.\n",
    "- Replace all single quotes `' '` with double quotes `\" \"` in each pair of key : value fields in each row of the file.\n",
    "- Research about more solutions...\n",
    "\n",
    "Some urls to find help about some error you probabilly get.\n",
    "\n",
    "+ https://stackoverflow.com/questions/39491420/python-jsonexpecting-property-name-enclosed-in-double-quotes\n",
    "+ https://stackoverflow.com/questions/9156417/valid-json-giving-jsondecodeerror-expecting-delimiter\n",
    "+ https://www.datasciencebyexample.com/2023/03/16/what-to-do-when-single-quotes-in-json-string/"
   ]
  },
  {
   "cell_type": "code",
   "execution_count": null,
   "id": "8d7ac458",
   "metadata": {},
   "outputs": [],
   "source": [
    "# Type your code here:"
   ]
  }
 ],
 "metadata": {
  "kernelspec": {
   "display_name": "Python 3 (ipykernel)",
   "language": "python",
   "name": "python3"
  },
  "language_info": {
   "codemirror_mode": {
    "name": "ipython",
    "version": 3
   },
   "file_extension": ".py",
   "mimetype": "text/x-python",
   "name": "python",
   "nbconvert_exporter": "python",
   "pygments_lexer": "ipython3",
   "version": "3.10.9"
  },
  "toc": {
   "base_numbering": 1,
   "nav_menu": {},
   "number_sections": true,
   "sideBar": true,
   "skip_h1_title": false,
   "title_cell": "Table of Contents",
   "title_sidebar": "Contents",
   "toc_cell": false,
   "toc_position": {},
   "toc_section_display": true,
   "toc_window_display": false
  }
 },
 "nbformat": 4,
 "nbformat_minor": 5
}
